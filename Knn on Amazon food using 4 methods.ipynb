{
 "cells": [
  {
   "cell_type": "markdown",
   "metadata": {},
   "source": [
    "# [18] Amazon Fine Food Reviews Analysis\n",
    "\n",
    "\n",
    "Data Source: https://www.kaggle.com/snap/amazon-fine-food-reviews\n",
    "\n",
    "The Amazon Fine Food Reviews dataset consists of reviews of fine foods from Amazon.<br>\n",
    "\n",
    "Number of reviews: 568,454<br>\n",
    "Number of users: 256,059<br>\n",
    "Number of products: 74,258<br>\n",
    "Timespan: Oct 1999 - Oct 2012<br>\n",
    "Number of Attributes/Columns in data: 10 \n",
    "\n",
    "Attribute Information:\n",
    "\n",
    "1. Id\n",
    "2. ProductId - unique identifier for the product\n",
    "3. UserId - unqiue identifier for the user\n",
    "4. ProfileName\n",
    "5. HelpfulnessNumerator - number of users who found the review helpful\n",
    "6. HelpfulnessDenominator - number of users who indicated whether they found the review helpful or not\n",
    "7. Score - rating between 1 and 5\n",
    "8. Time - timestamp for the review\n",
    "9. Summary - brief summary of the review\n",
    "10. Text - text of the review\n",
    "\n",
    "\n",
    "#### Objective:\n",
    "Given a review, determine whether the review is positive (Rating of 4 or 5) or negative (rating of 1 or 2).\n",
    "\n",
    "<br>\n",
    "[Q] How to determine if a review is positive or negative?<br>\n",
    "<br> \n",
    "[Ans] We could use the Score/Rating. A rating of 4 or 5 could be cosnidered a positive review. A review of 1 or 2 could be considered negative. A review of 3 is nuetral and ignored. This is an approximate and proxy way of determining the polarity (positivity/negativity) of a review.\n",
    "\n",
    "\n"
   ]
  },
  {
   "cell_type": "markdown",
   "metadata": {},
   "source": [
    "## [18.1] Loading the data\n",
    "\n",
    "The dataset is available in two forms\n",
    "1. .csv file\n",
    "2. SQLite Database\n",
    "\n",
    "In order to load the data, We have used the SQLITE dataset as it easier to query the data and visualise the data efficiently.\n",
    "<br> \n",
    "\n",
    "Here as we only want to get the global sentiment of the recommendations (positive or negative), we will purposefully ignore all Scores equal to 3. If the score id above 3, then the recommendation wil be set to \"positive\". Otherwise, it will be set to \"negative\"."
   ]
  },
  {
   "cell_type": "code",
   "execution_count": 1,
   "metadata": {},
   "outputs": [
    {
     "name": "stderr",
     "output_type": "stream",
     "text": [
      "C:\\Users\\raj52\\Anaconda3\\lib\\site-packages\\gensim\\utils.py:1197: UserWarning: detected Windows; aliasing chunkize to chunkize_serial\n",
      "  warnings.warn(\"detected Windows; aliasing chunkize to chunkize_serial\")\n"
     ]
    }
   ],
   "source": [
    "%matplotlib inline\n",
    "import warnings\n",
    "warnings.filterwarnings(\"ignore\")\n",
    "\n",
    "import sqlite3\n",
    "import pandas as pd\n",
    "import numpy as np\n",
    "import nltk\n",
    "import string\n",
    "import matplotlib.pyplot as plt\n",
    "import seaborn as sns\n",
    "from sklearn.feature_extraction.text import TfidfTransformer\n",
    "from sklearn.feature_extraction.text import TfidfVectorizer\n",
    "from sklearn import neighbors\n",
    "from sklearn.feature_extraction.text import CountVectorizer\n",
    "from sklearn.metrics import confusion_matrix\n",
    "from sklearn import metrics\n",
    "from sklearn.metrics import roc_curve, auc\n",
    "from nltk.stem.porter import PorterStemmer\n",
    "from sklearn.decomposition import TruncatedSVD\n",
    "import re\n",
    "# Tutorial about Python regular expressions: https://pymotw.com/2/re/\n",
    "import string\n",
    "from tqdm import tqdm\n",
    "from nltk.corpus import stopwords\n",
    "from nltk.stem import PorterStemmer\n",
    "from nltk.stem.wordnet import WordNetLemmatizer\n",
    "\n",
    "from gensim.models import Word2Vec\n",
    "from gensim.models import KeyedVectors\n",
    "import pickle"
   ]
  },
  {
   "cell_type": "code",
   "execution_count": 2,
   "metadata": {},
   "outputs": [],
   "source": [
    "# using the SQLite Table to read data.\n",
    "con = sqlite3.connect('database.sqlite') \n",
    "\n",
    "\n",
    "\n",
    "#filtering only positive and negative reviews i.e. \n",
    "# not taking into consideration those reviews with Score=3\n",
    "filtered_data = pd.read_sql_query(\"\"\" SELECT * FROM Reviews WHERE Score != 3 \"\"\", con) \n",
    "\n",
    "\n",
    "# Give reviews with Score>3 a positive rating, and reviews with a score<3 a negative rating.\n",
    "def partition(x):\n",
    "    if x < 3:\n",
    "        return 'negative'\n",
    "    return 'positive'\n",
    "\n",
    "#changing reviews with score less than 3 to be positive and vice-versa\n",
    "actualScore = filtered_data['Score']\n",
    "positiveNegative = actualScore.map(partition)\n",
    "filtered_data['Score'] = positiveNegative"
   ]
  },
  {
   "cell_type": "code",
   "execution_count": 3,
   "metadata": {},
   "outputs": [
    {
     "name": "stdout",
     "output_type": "stream",
     "text": [
      "(525814, 10)\n"
     ]
    },
    {
     "data": {
      "text/html": [
       "<div>\n",
       "<style scoped>\n",
       "    .dataframe tbody tr th:only-of-type {\n",
       "        vertical-align: middle;\n",
       "    }\n",
       "\n",
       "    .dataframe tbody tr th {\n",
       "        vertical-align: top;\n",
       "    }\n",
       "\n",
       "    .dataframe thead th {\n",
       "        text-align: right;\n",
       "    }\n",
       "</style>\n",
       "<table border=\"1\" class=\"dataframe\">\n",
       "  <thead>\n",
       "    <tr style=\"text-align: right;\">\n",
       "      <th></th>\n",
       "      <th>Id</th>\n",
       "      <th>ProductId</th>\n",
       "      <th>UserId</th>\n",
       "      <th>ProfileName</th>\n",
       "      <th>HelpfulnessNumerator</th>\n",
       "      <th>HelpfulnessDenominator</th>\n",
       "      <th>Score</th>\n",
       "      <th>Time</th>\n",
       "      <th>Summary</th>\n",
       "      <th>Text</th>\n",
       "    </tr>\n",
       "  </thead>\n",
       "  <tbody>\n",
       "    <tr>\n",
       "      <th>0</th>\n",
       "      <td>1</td>\n",
       "      <td>B001E4KFG0</td>\n",
       "      <td>A3SGXH7AUHU8GW</td>\n",
       "      <td>delmartian</td>\n",
       "      <td>1</td>\n",
       "      <td>1</td>\n",
       "      <td>positive</td>\n",
       "      <td>1303862400</td>\n",
       "      <td>Good Quality Dog Food</td>\n",
       "      <td>I have bought several of the Vitality canned d...</td>\n",
       "    </tr>\n",
       "    <tr>\n",
       "      <th>1</th>\n",
       "      <td>2</td>\n",
       "      <td>B00813GRG4</td>\n",
       "      <td>A1D87F6ZCVE5NK</td>\n",
       "      <td>dll pa</td>\n",
       "      <td>0</td>\n",
       "      <td>0</td>\n",
       "      <td>negative</td>\n",
       "      <td>1346976000</td>\n",
       "      <td>Not as Advertised</td>\n",
       "      <td>Product arrived labeled as Jumbo Salted Peanut...</td>\n",
       "    </tr>\n",
       "    <tr>\n",
       "      <th>2</th>\n",
       "      <td>3</td>\n",
       "      <td>B000LQOCH0</td>\n",
       "      <td>ABXLMWJIXXAIN</td>\n",
       "      <td>Natalia Corres \"Natalia Corres\"</td>\n",
       "      <td>1</td>\n",
       "      <td>1</td>\n",
       "      <td>positive</td>\n",
       "      <td>1219017600</td>\n",
       "      <td>\"Delight\" says it all</td>\n",
       "      <td>This is a confection that has been around a fe...</td>\n",
       "    </tr>\n",
       "    <tr>\n",
       "      <th>3</th>\n",
       "      <td>4</td>\n",
       "      <td>B000UA0QIQ</td>\n",
       "      <td>A395BORC6FGVXV</td>\n",
       "      <td>Karl</td>\n",
       "      <td>3</td>\n",
       "      <td>3</td>\n",
       "      <td>negative</td>\n",
       "      <td>1307923200</td>\n",
       "      <td>Cough Medicine</td>\n",
       "      <td>If you are looking for the secret ingredient i...</td>\n",
       "    </tr>\n",
       "    <tr>\n",
       "      <th>4</th>\n",
       "      <td>5</td>\n",
       "      <td>B006K2ZZ7K</td>\n",
       "      <td>A1UQRSCLF8GW1T</td>\n",
       "      <td>Michael D. Bigham \"M. Wassir\"</td>\n",
       "      <td>0</td>\n",
       "      <td>0</td>\n",
       "      <td>positive</td>\n",
       "      <td>1350777600</td>\n",
       "      <td>Great taffy</td>\n",
       "      <td>Great taffy at a great price.  There was a wid...</td>\n",
       "    </tr>\n",
       "  </tbody>\n",
       "</table>\n",
       "</div>"
      ],
      "text/plain": [
       "   Id   ProductId          UserId                      ProfileName  \\\n",
       "0   1  B001E4KFG0  A3SGXH7AUHU8GW                       delmartian   \n",
       "1   2  B00813GRG4  A1D87F6ZCVE5NK                           dll pa   \n",
       "2   3  B000LQOCH0   ABXLMWJIXXAIN  Natalia Corres \"Natalia Corres\"   \n",
       "3   4  B000UA0QIQ  A395BORC6FGVXV                             Karl   \n",
       "4   5  B006K2ZZ7K  A1UQRSCLF8GW1T    Michael D. Bigham \"M. Wassir\"   \n",
       "\n",
       "   HelpfulnessNumerator  HelpfulnessDenominator     Score        Time  \\\n",
       "0                     1                       1  positive  1303862400   \n",
       "1                     0                       0  negative  1346976000   \n",
       "2                     1                       1  positive  1219017600   \n",
       "3                     3                       3  negative  1307923200   \n",
       "4                     0                       0  positive  1350777600   \n",
       "\n",
       "                 Summary                                               Text  \n",
       "0  Good Quality Dog Food  I have bought several of the Vitality canned d...  \n",
       "1      Not as Advertised  Product arrived labeled as Jumbo Salted Peanut...  \n",
       "2  \"Delight\" says it all  This is a confection that has been around a fe...  \n",
       "3         Cough Medicine  If you are looking for the secret ingredient i...  \n",
       "4            Great taffy  Great taffy at a great price.  There was a wid...  "
      ]
     },
     "execution_count": 3,
     "metadata": {},
     "output_type": "execute_result"
    }
   ],
   "source": [
    "print (filtered_data.shape) #looking at the number of attributes and size of the data\n",
    "filtered_data.head()"
   ]
  },
  {
   "cell_type": "markdown",
   "metadata": {},
   "source": [
    "#  Exploratory Data Analysis\n",
    "\n",
    "## [18.1.2] Data Cleaning: Deduplication\n",
    "\n",
    "It is observed (as shown in the table below) that the reviews data had many duplicate entries. Hence it was necessary to remove duplicates in order to get unbiased results for the analysis of the data.  Following is an example:"
   ]
  },
  {
   "cell_type": "code",
   "execution_count": 4,
   "metadata": {},
   "outputs": [
    {
     "data": {
      "text/html": [
       "<div>\n",
       "<style scoped>\n",
       "    .dataframe tbody tr th:only-of-type {\n",
       "        vertical-align: middle;\n",
       "    }\n",
       "\n",
       "    .dataframe tbody tr th {\n",
       "        vertical-align: top;\n",
       "    }\n",
       "\n",
       "    .dataframe thead th {\n",
       "        text-align: right;\n",
       "    }\n",
       "</style>\n",
       "<table border=\"1\" class=\"dataframe\">\n",
       "  <thead>\n",
       "    <tr style=\"text-align: right;\">\n",
       "      <th></th>\n",
       "      <th>Id</th>\n",
       "      <th>ProductId</th>\n",
       "      <th>UserId</th>\n",
       "      <th>ProfileName</th>\n",
       "      <th>HelpfulnessNumerator</th>\n",
       "      <th>HelpfulnessDenominator</th>\n",
       "      <th>Score</th>\n",
       "      <th>Time</th>\n",
       "      <th>Summary</th>\n",
       "      <th>Text</th>\n",
       "    </tr>\n",
       "  </thead>\n",
       "  <tbody>\n",
       "    <tr>\n",
       "      <th>0</th>\n",
       "      <td>150519</td>\n",
       "      <td>0006641040</td>\n",
       "      <td>A12HY5OZ2QNK4N</td>\n",
       "      <td>Elizabeth H. Roessner</td>\n",
       "      <td>0</td>\n",
       "      <td>0</td>\n",
       "      <td>5</td>\n",
       "      <td>1256774400</td>\n",
       "      <td>It's a great book!</td>\n",
       "      <td>I've always loved chicken soup and rice. My la...</td>\n",
       "    </tr>\n",
       "    <tr>\n",
       "      <th>1</th>\n",
       "      <td>150511</td>\n",
       "      <td>0006641040</td>\n",
       "      <td>A1C9K534BCI9GO</td>\n",
       "      <td>Laura Purdie Salas</td>\n",
       "      <td>0</td>\n",
       "      <td>0</td>\n",
       "      <td>4</td>\n",
       "      <td>1344211200</td>\n",
       "      <td>Charming and childlike</td>\n",
       "      <td>A charming, rhyming book that describes the ci...</td>\n",
       "    </tr>\n",
       "    <tr>\n",
       "      <th>2</th>\n",
       "      <td>150512</td>\n",
       "      <td>0006641040</td>\n",
       "      <td>A1DJXZA5V5FFVA</td>\n",
       "      <td>A. Conway</td>\n",
       "      <td>0</td>\n",
       "      <td>0</td>\n",
       "      <td>5</td>\n",
       "      <td>1338249600</td>\n",
       "      <td>Must have.</td>\n",
       "      <td>I set aside at least an hour each day to read ...</td>\n",
       "    </tr>\n",
       "    <tr>\n",
       "      <th>3</th>\n",
       "      <td>150497</td>\n",
       "      <td>0006641040</td>\n",
       "      <td>A1HKYQOFC8ZZCH</td>\n",
       "      <td>Maria Apolloni \"lanarossa\"</td>\n",
       "      <td>2</td>\n",
       "      <td>2</td>\n",
       "      <td>1</td>\n",
       "      <td>1334707200</td>\n",
       "      <td>The story is great, the softcover book is disa...</td>\n",
       "      <td>I give five stars to the Maurice Sendak story....</td>\n",
       "    </tr>\n",
       "    <tr>\n",
       "      <th>4</th>\n",
       "      <td>150500</td>\n",
       "      <td>0006641040</td>\n",
       "      <td>A1IJKK6Q1GTEAY</td>\n",
       "      <td>A Customer</td>\n",
       "      <td>2</td>\n",
       "      <td>2</td>\n",
       "      <td>5</td>\n",
       "      <td>1009324800</td>\n",
       "      <td>It Was a favorite!</td>\n",
       "      <td>This was a favorite book of mine when I was a ...</td>\n",
       "    </tr>\n",
       "    <tr>\n",
       "      <th>5</th>\n",
       "      <td>150522</td>\n",
       "      <td>0006641040</td>\n",
       "      <td>A1S3C5OFU508P3</td>\n",
       "      <td>Charles Ashbacher</td>\n",
       "      <td>0</td>\n",
       "      <td>0</td>\n",
       "      <td>4</td>\n",
       "      <td>1219536000</td>\n",
       "      <td>Children will find it entertaining and a gener...</td>\n",
       "      <td>This book contains a collection of twelve shor...</td>\n",
       "    </tr>\n",
       "    <tr>\n",
       "      <th>6</th>\n",
       "      <td>150507</td>\n",
       "      <td>0006641040</td>\n",
       "      <td>A1S4A3IQ2MU7V4</td>\n",
       "      <td>sally sue \"sally sue\"</td>\n",
       "      <td>1</td>\n",
       "      <td>1</td>\n",
       "      <td>4</td>\n",
       "      <td>1191456000</td>\n",
       "      <td>chicken soup with rice months</td>\n",
       "      <td>This is a fun way for children to learn their ...</td>\n",
       "    </tr>\n",
       "    <tr>\n",
       "      <th>7</th>\n",
       "      <td>150529</td>\n",
       "      <td>0006641040</td>\n",
       "      <td>A25ACLV5KPB4W</td>\n",
       "      <td>Matt Hetling \"Matt\"</td>\n",
       "      <td>0</td>\n",
       "      <td>1</td>\n",
       "      <td>4</td>\n",
       "      <td>1108425600</td>\n",
       "      <td>Nice cadence, catchy rhymes</td>\n",
       "      <td>In June&lt;br /&gt;I saw a charming group&lt;br /&gt;of ro...</td>\n",
       "    </tr>\n",
       "    <tr>\n",
       "      <th>8</th>\n",
       "      <td>150506</td>\n",
       "      <td>0006641040</td>\n",
       "      <td>A2IW4PEEKO2R0U</td>\n",
       "      <td>Tracy</td>\n",
       "      <td>1</td>\n",
       "      <td>1</td>\n",
       "      <td>4</td>\n",
       "      <td>1194739200</td>\n",
       "      <td>Love the book, miss the hard cover version</td>\n",
       "      <td>I grew up reading these Sendak books, and watc...</td>\n",
       "    </tr>\n",
       "    <tr>\n",
       "      <th>9</th>\n",
       "      <td>150514</td>\n",
       "      <td>0006641040</td>\n",
       "      <td>A2ONB6ZA292PA</td>\n",
       "      <td>Rosalind Matzner</td>\n",
       "      <td>0</td>\n",
       "      <td>0</td>\n",
       "      <td>5</td>\n",
       "      <td>1313884800</td>\n",
       "      <td>Chicken soup with Rice</td>\n",
       "      <td>It's a great book with adorable illustrations....</td>\n",
       "    </tr>\n",
       "    <tr>\n",
       "      <th>10</th>\n",
       "      <td>150523</td>\n",
       "      <td>0006641040</td>\n",
       "      <td>A2P4F2UO0UMP8C</td>\n",
       "      <td>Elizabeth A. Curry \"Lovely Librarian\"</td>\n",
       "      <td>0</td>\n",
       "      <td>0</td>\n",
       "      <td>4</td>\n",
       "      <td>1096675200</td>\n",
       "      <td>MMMM chicken soup....</td>\n",
       "      <td>Summary:  A young boy describes the usefulness...</td>\n",
       "    </tr>\n",
       "    <tr>\n",
       "      <th>11</th>\n",
       "      <td>150505</td>\n",
       "      <td>0006641040</td>\n",
       "      <td>A2PTSM496CF40Z</td>\n",
       "      <td>Jason A. Teeple \"Nobody made a greater mistak...</td>\n",
       "      <td>1</td>\n",
       "      <td>1</td>\n",
       "      <td>4</td>\n",
       "      <td>1210809600</td>\n",
       "      <td>A classic</td>\n",
       "      <td>Get the movie or sound track and sing along wi...</td>\n",
       "    </tr>\n",
       "    <tr>\n",
       "      <th>12</th>\n",
       "      <td>150525</td>\n",
       "      <td>0006641040</td>\n",
       "      <td>A2QID6VCFTY51R</td>\n",
       "      <td>Rick</td>\n",
       "      <td>1</td>\n",
       "      <td>2</td>\n",
       "      <td>5</td>\n",
       "      <td>1025481600</td>\n",
       "      <td>In December it will be, my snowman's anniversa...</td>\n",
       "      <td>My daughter loves all the \"Really Rosie\" books...</td>\n",
       "    </tr>\n",
       "    <tr>\n",
       "      <th>13</th>\n",
       "      <td>150495</td>\n",
       "      <td>0006641040</td>\n",
       "      <td>A2QXYSXGQ2PKAU</td>\n",
       "      <td>Support for Providers</td>\n",
       "      <td>3</td>\n",
       "      <td>3</td>\n",
       "      <td>3</td>\n",
       "      <td>1129507200</td>\n",
       "      <td>Disappointed</td>\n",
       "      <td>When I ordered a large amount of these books t...</td>\n",
       "    </tr>\n",
       "    <tr>\n",
       "      <th>14</th>\n",
       "      <td>150515</td>\n",
       "      <td>0006641040</td>\n",
       "      <td>A2RTT81R6Y3R7X</td>\n",
       "      <td>Lindylu</td>\n",
       "      <td>0</td>\n",
       "      <td>0</td>\n",
       "      <td>5</td>\n",
       "      <td>1303171200</td>\n",
       "      <td>One of our family's favorite books</td>\n",
       "      <td>This book is a family favorite and was read to...</td>\n",
       "    </tr>\n",
       "    <tr>\n",
       "      <th>15</th>\n",
       "      <td>150527</td>\n",
       "      <td>0006641040</td>\n",
       "      <td>A367OXCD2R6MC1</td>\n",
       "      <td>Laurel \"I love the internet.\"</td>\n",
       "      <td>0</td>\n",
       "      <td>1</td>\n",
       "      <td>3</td>\n",
       "      <td>1323820800</td>\n",
       "      <td>This book is much too small</td>\n",
       "      <td>It was a great price, but I can't read it to m...</td>\n",
       "    </tr>\n",
       "    <tr>\n",
       "      <th>16</th>\n",
       "      <td>150509</td>\n",
       "      <td>0006641040</td>\n",
       "      <td>A3CMRKGE0P909G</td>\n",
       "      <td>Teresa</td>\n",
       "      <td>3</td>\n",
       "      <td>4</td>\n",
       "      <td>5</td>\n",
       "      <td>1018396800</td>\n",
       "      <td>A great way to learn the months</td>\n",
       "      <td>This is a book of poetry about the months of t...</td>\n",
       "    </tr>\n",
       "    <tr>\n",
       "      <th>17</th>\n",
       "      <td>150499</td>\n",
       "      <td>0006641040</td>\n",
       "      <td>A3E7R866M94L0C</td>\n",
       "      <td>L. Barker \"simienwolf\"</td>\n",
       "      <td>2</td>\n",
       "      <td>2</td>\n",
       "      <td>5</td>\n",
       "      <td>1065830400</td>\n",
       "      <td>Can't explain why</td>\n",
       "      <td>This book has been a favorite of mine since I ...</td>\n",
       "    </tr>\n",
       "    <tr>\n",
       "      <th>18</th>\n",
       "      <td>150526</td>\n",
       "      <td>0006641040</td>\n",
       "      <td>A3E9QZFE9KXH8J</td>\n",
       "      <td>R. Mitchell</td>\n",
       "      <td>11</td>\n",
       "      <td>18</td>\n",
       "      <td>1</td>\n",
       "      <td>1129507200</td>\n",
       "      <td>awesome book poor size</td>\n",
       "      <td>This is one of the best children's books ever ...</td>\n",
       "    </tr>\n",
       "    <tr>\n",
       "      <th>19</th>\n",
       "      <td>150496</td>\n",
       "      <td>0006641040</td>\n",
       "      <td>A3KKR87BJ0C595</td>\n",
       "      <td>Gretchen Goodfellow \"Lover of children's lit\"</td>\n",
       "      <td>3</td>\n",
       "      <td>3</td>\n",
       "      <td>5</td>\n",
       "      <td>1111363200</td>\n",
       "      <td>You'll use it once, you'll use it twice</td>\n",
       "      <td>One of my earliest memories is of this book.  ...</td>\n",
       "    </tr>\n",
       "    <tr>\n",
       "      <th>20</th>\n",
       "      <td>150516</td>\n",
       "      <td>0006641040</td>\n",
       "      <td>A3OI7ZGH6WZJ5G</td>\n",
       "      <td>Mary Jane Rogers \"Maedchen\"</td>\n",
       "      <td>0</td>\n",
       "      <td>0</td>\n",
       "      <td>5</td>\n",
       "      <td>1293840000</td>\n",
       "      <td>Darling!</td>\n",
       "      <td>The same author wrote \"Where the Wild Things A...</td>\n",
       "    </tr>\n",
       "    <tr>\n",
       "      <th>21</th>\n",
       "      <td>150503</td>\n",
       "      <td>0006641040</td>\n",
       "      <td>A3R5XMPFU8YZ4D</td>\n",
       "      <td>Her Royal Motherliness \"Nana\"</td>\n",
       "      <td>1</td>\n",
       "      <td>1</td>\n",
       "      <td>5</td>\n",
       "      <td>1233964800</td>\n",
       "      <td>so fun to read</td>\n",
       "      <td>This is my grand daughter's and my favorite bo...</td>\n",
       "    </tr>\n",
       "    <tr>\n",
       "      <th>22</th>\n",
       "      <td>150521</td>\n",
       "      <td>0006641040</td>\n",
       "      <td>A3RMCRB2NDTDYP</td>\n",
       "      <td>Carol Carruthers</td>\n",
       "      <td>0</td>\n",
       "      <td>0</td>\n",
       "      <td>5</td>\n",
       "      <td>1243468800</td>\n",
       "      <td>This book is great!</td>\n",
       "      <td>My 7 year old daughter brought this book home ...</td>\n",
       "    </tr>\n",
       "    <tr>\n",
       "      <th>23</th>\n",
       "      <td>150498</td>\n",
       "      <td>0006641040</td>\n",
       "      <td>A3SJWISOCP31TR</td>\n",
       "      <td>R. J. Wells</td>\n",
       "      <td>2</td>\n",
       "      <td>2</td>\n",
       "      <td>5</td>\n",
       "      <td>1176336000</td>\n",
       "      <td>A Gem of a Book</td>\n",
       "      <td>This is a wonderful little book. I loved it 40...</td>\n",
       "    </tr>\n",
       "    <tr>\n",
       "      <th>24</th>\n",
       "      <td>150517</td>\n",
       "      <td>0006641040</td>\n",
       "      <td>ABW4IC5G5G8B5</td>\n",
       "      <td>kevin clark</td>\n",
       "      <td>0</td>\n",
       "      <td>0</td>\n",
       "      <td>5</td>\n",
       "      <td>1291075200</td>\n",
       "      <td>good for children</td>\n",
       "      <td>Classic children's book, can't go wrong. I rea...</td>\n",
       "    </tr>\n",
       "    <tr>\n",
       "      <th>25</th>\n",
       "      <td>150524</td>\n",
       "      <td>0006641040</td>\n",
       "      <td>ACITT7DI6IDDL</td>\n",
       "      <td>shari zychinski</td>\n",
       "      <td>0</td>\n",
       "      <td>0</td>\n",
       "      <td>5</td>\n",
       "      <td>939340800</td>\n",
       "      <td>EVERY book is educational</td>\n",
       "      <td>this witty little book makes my son laugh at l...</td>\n",
       "    </tr>\n",
       "    <tr>\n",
       "      <th>26</th>\n",
       "      <td>150520</td>\n",
       "      <td>0006641040</td>\n",
       "      <td>ADBFSA9KTQANE</td>\n",
       "      <td>James L. Hammock \"Pucks Buddy\"</td>\n",
       "      <td>0</td>\n",
       "      <td>0</td>\n",
       "      <td>5</td>\n",
       "      <td>1256688000</td>\n",
       "      <td>Great Gift</td>\n",
       "      <td>This book was purchased as a birthday gift for...</td>\n",
       "    </tr>\n",
       "    <tr>\n",
       "      <th>27</th>\n",
       "      <td>150528</td>\n",
       "      <td>0006641040</td>\n",
       "      <td>AGQWHPNDZGUD0</td>\n",
       "      <td>Bolt81</td>\n",
       "      <td>0</td>\n",
       "      <td>1</td>\n",
       "      <td>3</td>\n",
       "      <td>1296864000</td>\n",
       "      <td>Size does matter</td>\n",
       "      <td>This book was purchased to be used in a classr...</td>\n",
       "    </tr>\n",
       "    <tr>\n",
       "      <th>28</th>\n",
       "      <td>150501</td>\n",
       "      <td>0006641040</td>\n",
       "      <td>AJ46FKXOVC7NR</td>\n",
       "      <td>Nicholas A Mesiano</td>\n",
       "      <td>2</td>\n",
       "      <td>2</td>\n",
       "      <td>5</td>\n",
       "      <td>940809600</td>\n",
       "      <td>This whole series is great way to spend time w...</td>\n",
       "      <td>I can remember seeing the show when it aired o...</td>\n",
       "    </tr>\n",
       "    <tr>\n",
       "      <th>29</th>\n",
       "      <td>150518</td>\n",
       "      <td>0006641040</td>\n",
       "      <td>AK1L4EJBA23JF</td>\n",
       "      <td>L. M. Kraus</td>\n",
       "      <td>0</td>\n",
       "      <td>0</td>\n",
       "      <td>5</td>\n",
       "      <td>1288224000</td>\n",
       "      <td>love this book</td>\n",
       "      <td>Great book, perfect condition arrived in a sho...</td>\n",
       "    </tr>\n",
       "    <tr>\n",
       "      <th>...</th>\n",
       "      <td>...</td>\n",
       "      <td>...</td>\n",
       "      <td>...</td>\n",
       "      <td>...</td>\n",
       "      <td>...</td>\n",
       "      <td>...</td>\n",
       "      <td>...</td>\n",
       "      <td>...</td>\n",
       "      <td>...</td>\n",
       "      <td>...</td>\n",
       "    </tr>\n",
       "    <tr>\n",
       "      <th>568424</th>\n",
       "      <td>193174</td>\n",
       "      <td>B009RSR8HO</td>\n",
       "      <td>A4P6AN2L435PV</td>\n",
       "      <td>romarc</td>\n",
       "      <td>0</td>\n",
       "      <td>0</td>\n",
       "      <td>5</td>\n",
       "      <td>1350432000</td>\n",
       "      <td>LOVE!!  LOVE!!</td>\n",
       "      <td>LOVE, LOVE this sweetener!!  I use it in all m...</td>\n",
       "    </tr>\n",
       "    <tr>\n",
       "      <th>568425</th>\n",
       "      <td>193167</td>\n",
       "      <td>B009RSR8HO</td>\n",
       "      <td>A5F9OUO3F2N7C</td>\n",
       "      <td>Jan</td>\n",
       "      <td>0</td>\n",
       "      <td>0</td>\n",
       "      <td>5</td>\n",
       "      <td>1350604800</td>\n",
       "      <td>The Best Ever</td>\n",
       "      <td>Zero sweetner is the BEST I have ever used.One...</td>\n",
       "    </tr>\n",
       "    <tr>\n",
       "      <th>568426</th>\n",
       "      <td>193176</td>\n",
       "      <td>B009RSR8HO</td>\n",
       "      <td>A76WHW051R3KV</td>\n",
       "      <td>Shawn \"Shawn\"</td>\n",
       "      <td>0</td>\n",
       "      <td>0</td>\n",
       "      <td>5</td>\n",
       "      <td>1350432000</td>\n",
       "      <td>My #1 Sweetener of choice</td>\n",
       "      <td>What a wonderful product! It's perfect to use ...</td>\n",
       "    </tr>\n",
       "    <tr>\n",
       "      <th>568427</th>\n",
       "      <td>193166</td>\n",
       "      <td>B009RSR8HO</td>\n",
       "      <td>AD0V42PRKCDBM</td>\n",
       "      <td>Rachelle</td>\n",
       "      <td>0</td>\n",
       "      <td>0</td>\n",
       "      <td>5</td>\n",
       "      <td>1350777600</td>\n",
       "      <td>Best sweetner ever!!!</td>\n",
       "      <td>This sweetner is so great. A little bit goes a...</td>\n",
       "    </tr>\n",
       "    <tr>\n",
       "      <th>568428</th>\n",
       "      <td>193171</td>\n",
       "      <td>B009RSR8HO</td>\n",
       "      <td>AH2FVNP7Z6PZH</td>\n",
       "      <td>Marty Campbell</td>\n",
       "      <td>0</td>\n",
       "      <td>0</td>\n",
       "      <td>5</td>\n",
       "      <td>1350432000</td>\n",
       "      <td>The BEST sugar replacement on the market!</td>\n",
       "      <td>I've been using Fat to Skinny Zero since it wa...</td>\n",
       "    </tr>\n",
       "    <tr>\n",
       "      <th>568429</th>\n",
       "      <td>204271</td>\n",
       "      <td>B009SA5NNW</td>\n",
       "      <td>A133WGB2RLKB1T</td>\n",
       "      <td>Temple Gordon</td>\n",
       "      <td>1</td>\n",
       "      <td>1</td>\n",
       "      <td>4</td>\n",
       "      <td>1321228800</td>\n",
       "      <td>Walkers smkey bacon crisps</td>\n",
       "      <td>These are amazing chips but they just cost too...</td>\n",
       "    </tr>\n",
       "    <tr>\n",
       "      <th>568430</th>\n",
       "      <td>204279</td>\n",
       "      <td>B009SA5NNW</td>\n",
       "      <td>A1PVBIUKEDNGVP</td>\n",
       "      <td>Steve L</td>\n",
       "      <td>0</td>\n",
       "      <td>0</td>\n",
       "      <td>5</td>\n",
       "      <td>1333843200</td>\n",
       "      <td>One Word, \"YUM!\"</td>\n",
       "      <td>If you like salt and vinegar crisps (chips), b...</td>\n",
       "    </tr>\n",
       "    <tr>\n",
       "      <th>568431</th>\n",
       "      <td>204270</td>\n",
       "      <td>B009SA5NNW</td>\n",
       "      <td>A1V93C9YW5T0LQ</td>\n",
       "      <td>N. Hunt \"Übergeek\"</td>\n",
       "      <td>1</td>\n",
       "      <td>1</td>\n",
       "      <td>3</td>\n",
       "      <td>1335571200</td>\n",
       "      <td>Americans beware, curious labeling</td>\n",
       "      <td>the product is listed as a 150g 6-pack.&lt;br /&gt;T...</td>\n",
       "    </tr>\n",
       "    <tr>\n",
       "      <th>568432</th>\n",
       "      <td>204275</td>\n",
       "      <td>B009SA5NNW</td>\n",
       "      <td>A1XPE0WCC6RYVO</td>\n",
       "      <td>AnthonyT</td>\n",
       "      <td>0</td>\n",
       "      <td>0</td>\n",
       "      <td>5</td>\n",
       "      <td>1344988800</td>\n",
       "      <td>Excellent</td>\n",
       "      <td>These are the best flavor chips, my daughter a...</td>\n",
       "    </tr>\n",
       "    <tr>\n",
       "      <th>568433</th>\n",
       "      <td>204283</td>\n",
       "      <td>B009SA5NNW</td>\n",
       "      <td>A2QXG1QOV4MTVL</td>\n",
       "      <td>Wordup \"Wordup2you\"</td>\n",
       "      <td>0</td>\n",
       "      <td>0</td>\n",
       "      <td>1</td>\n",
       "      <td>1321920000</td>\n",
       "      <td>Stale Chips</td>\n",
       "      <td>Item came promptly however the crisps were 3 m...</td>\n",
       "    </tr>\n",
       "    <tr>\n",
       "      <th>568434</th>\n",
       "      <td>204284</td>\n",
       "      <td>B009SA5NNW</td>\n",
       "      <td>A2SB8DPH72UOM7</td>\n",
       "      <td>Tim C.</td>\n",
       "      <td>0</td>\n",
       "      <td>0</td>\n",
       "      <td>4</td>\n",
       "      <td>1317600000</td>\n",
       "      <td>Yum!</td>\n",
       "      <td>Bought these the other day while I was in Cana...</td>\n",
       "    </tr>\n",
       "    <tr>\n",
       "      <th>568435</th>\n",
       "      <td>204277</td>\n",
       "      <td>B009SA5NNW</td>\n",
       "      <td>A2TWDT92R8VPTI</td>\n",
       "      <td>d wilson \"Visitor from a Perpendicular Universe\"</td>\n",
       "      <td>0</td>\n",
       "      <td>0</td>\n",
       "      <td>5</td>\n",
       "      <td>1337904000</td>\n",
       "      <td>Tastes just like bacon!</td>\n",
       "      <td>I had a bag of these during a trip to London. ...</td>\n",
       "    </tr>\n",
       "    <tr>\n",
       "      <th>568436</th>\n",
       "      <td>204285</td>\n",
       "      <td>B009SA5NNW</td>\n",
       "      <td>A2XNO53D6J6322</td>\n",
       "      <td>dragenfli254</td>\n",
       "      <td>0</td>\n",
       "      <td>0</td>\n",
       "      <td>5</td>\n",
       "      <td>1317081600</td>\n",
       "      <td>Delish!</td>\n",
       "      <td>I had these wonderful chips in Ireland a few y...</td>\n",
       "    </tr>\n",
       "    <tr>\n",
       "      <th>568437</th>\n",
       "      <td>204282</td>\n",
       "      <td>B009SA5NNW</td>\n",
       "      <td>A373QMETEUKMS7</td>\n",
       "      <td>Rebecca Wade</td>\n",
       "      <td>0</td>\n",
       "      <td>0</td>\n",
       "      <td>4</td>\n",
       "      <td>1327017600</td>\n",
       "      <td>Excellent!</td>\n",
       "      <td>The crisps are awesome. Give me English crisps...</td>\n",
       "    </tr>\n",
       "    <tr>\n",
       "      <th>568438</th>\n",
       "      <td>204274</td>\n",
       "      <td>B009SA5NNW</td>\n",
       "      <td>A379KV6EQ66ZJR</td>\n",
       "      <td>Craig</td>\n",
       "      <td>0</td>\n",
       "      <td>0</td>\n",
       "      <td>5</td>\n",
       "      <td>1347062400</td>\n",
       "      <td>Awesome Crisps!!! Arrived in just 8 days in Te...</td>\n",
       "      <td>These crisps are my favorite.  I ordered these...</td>\n",
       "    </tr>\n",
       "    <tr>\n",
       "      <th>568439</th>\n",
       "      <td>204281</td>\n",
       "      <td>B009SA5NNW</td>\n",
       "      <td>A3CBCI8ZU6A9XM</td>\n",
       "      <td>Cody B.</td>\n",
       "      <td>0</td>\n",
       "      <td>0</td>\n",
       "      <td>5</td>\n",
       "      <td>1328486400</td>\n",
       "      <td>Cody B.</td>\n",
       "      <td>I loved the chips they were AWESOME!!! but tha...</td>\n",
       "    </tr>\n",
       "    <tr>\n",
       "      <th>568440</th>\n",
       "      <td>204278</td>\n",
       "      <td>B009SA5NNW</td>\n",
       "      <td>A3M922QSBYYXR</td>\n",
       "      <td>Jeannie Jordahl</td>\n",
       "      <td>0</td>\n",
       "      <td>0</td>\n",
       "      <td>5</td>\n",
       "      <td>1335744000</td>\n",
       "      <td>These were amazing!</td>\n",
       "      <td>This chips kind of reminded me of bacon bits. ...</td>\n",
       "    </tr>\n",
       "    <tr>\n",
       "      <th>568441</th>\n",
       "      <td>204276</td>\n",
       "      <td>B009SA5NNW</td>\n",
       "      <td>A3U0YIPTZX8DZ4</td>\n",
       "      <td>vee</td>\n",
       "      <td>0</td>\n",
       "      <td>0</td>\n",
       "      <td>4</td>\n",
       "      <td>1339977600</td>\n",
       "      <td>Re-Rating</td>\n",
       "      <td>Okay, I jumped the gun, because they were send...</td>\n",
       "    </tr>\n",
       "    <tr>\n",
       "      <th>568442</th>\n",
       "      <td>204273</td>\n",
       "      <td>B009SA5NNW</td>\n",
       "      <td>AG4YGLLIE8BWP</td>\n",
       "      <td>Miwintee</td>\n",
       "      <td>0</td>\n",
       "      <td>0</td>\n",
       "      <td>5</td>\n",
       "      <td>1351123200</td>\n",
       "      <td>Makes me drool just thinking of them</td>\n",
       "      <td>The Brit's have out done us. The flavor is sup...</td>\n",
       "    </tr>\n",
       "    <tr>\n",
       "      <th>568443</th>\n",
       "      <td>204280</td>\n",
       "      <td>B009SA5NNW</td>\n",
       "      <td>AI1G344L7R1TN</td>\n",
       "      <td>Brian M. Schissler</td>\n",
       "      <td>0</td>\n",
       "      <td>0</td>\n",
       "      <td>4</td>\n",
       "      <td>1332979200</td>\n",
       "      <td>WOW.....</td>\n",
       "      <td>This could possibly be the best tasting chip I...</td>\n",
       "    </tr>\n",
       "    <tr>\n",
       "      <th>568444</th>\n",
       "      <td>204286</td>\n",
       "      <td>B009SA5NNW</td>\n",
       "      <td>AVRU1Z8N59UZV</td>\n",
       "      <td>LIsa Fresch</td>\n",
       "      <td>0</td>\n",
       "      <td>1</td>\n",
       "      <td>1</td>\n",
       "      <td>1349654400</td>\n",
       "      <td>Walkers Crisps 6 pack</td>\n",
       "      <td>I ordered this product on Amazon to get some o...</td>\n",
       "    </tr>\n",
       "    <tr>\n",
       "      <th>568445</th>\n",
       "      <td>204272</td>\n",
       "      <td>B009SA5NNW</td>\n",
       "      <td>AWFA8N9IXELVH</td>\n",
       "      <td>No Pen Name</td>\n",
       "      <td>0</td>\n",
       "      <td>0</td>\n",
       "      <td>1</td>\n",
       "      <td>1351123200</td>\n",
       "      <td>Deceptive description</td>\n",
       "      <td>On Oct 9 I ordered from a different vendor the...</td>\n",
       "    </tr>\n",
       "    <tr>\n",
       "      <th>568446</th>\n",
       "      <td>188389</td>\n",
       "      <td>B009SF0TN6</td>\n",
       "      <td>A1L0GWGRK4BYPT</td>\n",
       "      <td>Bety Robinson</td>\n",
       "      <td>0</td>\n",
       "      <td>0</td>\n",
       "      <td>5</td>\n",
       "      <td>1350518400</td>\n",
       "      <td>Amazing!! Great sauce for everything!</td>\n",
       "      <td>You have to try this sauce to believe it! It s...</td>\n",
       "    </tr>\n",
       "    <tr>\n",
       "      <th>568447</th>\n",
       "      <td>226019</td>\n",
       "      <td>B009SMKESO</td>\n",
       "      <td>A35K4XT7T1ZIFU</td>\n",
       "      <td>Inez Rivera</td>\n",
       "      <td>0</td>\n",
       "      <td>1</td>\n",
       "      <td>4</td>\n",
       "      <td>1304985600</td>\n",
       "      <td>Not a bad product.</td>\n",
       "      <td>This review is for the boneless ham. A little ...</td>\n",
       "    </tr>\n",
       "    <tr>\n",
       "      <th>568448</th>\n",
       "      <td>221795</td>\n",
       "      <td>B009SR4OQ2</td>\n",
       "      <td>A32A6X5KCP7ARG</td>\n",
       "      <td>sicamar</td>\n",
       "      <td>1</td>\n",
       "      <td>1</td>\n",
       "      <td>5</td>\n",
       "      <td>1350604800</td>\n",
       "      <td>Awesome Taste</td>\n",
       "      <td>I bought this Hazelnut Paste (Nocciola Spread)...</td>\n",
       "    </tr>\n",
       "    <tr>\n",
       "      <th>568449</th>\n",
       "      <td>191721</td>\n",
       "      <td>B009UOFTUI</td>\n",
       "      <td>AJVB004EB0MVK</td>\n",
       "      <td>D. Christofferson</td>\n",
       "      <td>0</td>\n",
       "      <td>0</td>\n",
       "      <td>1</td>\n",
       "      <td>1345852800</td>\n",
       "      <td>weak coffee not good for a premium product and...</td>\n",
       "      <td>This coffee supposedly is premium, it tastes w...</td>\n",
       "    </tr>\n",
       "    <tr>\n",
       "      <th>568450</th>\n",
       "      <td>1478</td>\n",
       "      <td>B009UOFU20</td>\n",
       "      <td>AJVB004EB0MVK</td>\n",
       "      <td>D. Christofferson</td>\n",
       "      <td>0</td>\n",
       "      <td>0</td>\n",
       "      <td>1</td>\n",
       "      <td>1345852800</td>\n",
       "      <td>weak coffee not good for a premium product and...</td>\n",
       "      <td>This coffee supposedly is premium, it tastes w...</td>\n",
       "    </tr>\n",
       "    <tr>\n",
       "      <th>568451</th>\n",
       "      <td>328482</td>\n",
       "      <td>B009UUS05I</td>\n",
       "      <td>ARL20DSHGVM1Y</td>\n",
       "      <td>Jamie</td>\n",
       "      <td>0</td>\n",
       "      <td>0</td>\n",
       "      <td>5</td>\n",
       "      <td>1331856000</td>\n",
       "      <td>Perfect</td>\n",
       "      <td>The basket was the perfect sympathy gift when ...</td>\n",
       "    </tr>\n",
       "    <tr>\n",
       "      <th>568452</th>\n",
       "      <td>5703</td>\n",
       "      <td>B009WSNWC4</td>\n",
       "      <td>AMP7K1O84DH1T</td>\n",
       "      <td>ESTY</td>\n",
       "      <td>0</td>\n",
       "      <td>0</td>\n",
       "      <td>5</td>\n",
       "      <td>1351209600</td>\n",
       "      <td>DELICIOUS</td>\n",
       "      <td>Purchased this product at a local store in NY ...</td>\n",
       "    </tr>\n",
       "    <tr>\n",
       "      <th>568453</th>\n",
       "      <td>327601</td>\n",
       "      <td>B009WVB40S</td>\n",
       "      <td>A3ME78KVX31T21</td>\n",
       "      <td>K'la</td>\n",
       "      <td>0</td>\n",
       "      <td>0</td>\n",
       "      <td>5</td>\n",
       "      <td>1351123200</td>\n",
       "      <td>Tasty!</td>\n",
       "      <td>I purchased this to send to my son who's away ...</td>\n",
       "    </tr>\n",
       "  </tbody>\n",
       "</table>\n",
       "<p>568454 rows × 10 columns</p>\n",
       "</div>"
      ],
      "text/plain": [
       "            Id   ProductId          UserId  \\\n",
       "0       150519  0006641040  A12HY5OZ2QNK4N   \n",
       "1       150511  0006641040  A1C9K534BCI9GO   \n",
       "2       150512  0006641040  A1DJXZA5V5FFVA   \n",
       "3       150497  0006641040  A1HKYQOFC8ZZCH   \n",
       "4       150500  0006641040  A1IJKK6Q1GTEAY   \n",
       "5       150522  0006641040  A1S3C5OFU508P3   \n",
       "6       150507  0006641040  A1S4A3IQ2MU7V4   \n",
       "7       150529  0006641040   A25ACLV5KPB4W   \n",
       "8       150506  0006641040  A2IW4PEEKO2R0U   \n",
       "9       150514  0006641040   A2ONB6ZA292PA   \n",
       "10      150523  0006641040  A2P4F2UO0UMP8C   \n",
       "11      150505  0006641040  A2PTSM496CF40Z   \n",
       "12      150525  0006641040  A2QID6VCFTY51R   \n",
       "13      150495  0006641040  A2QXYSXGQ2PKAU   \n",
       "14      150515  0006641040  A2RTT81R6Y3R7X   \n",
       "15      150527  0006641040  A367OXCD2R6MC1   \n",
       "16      150509  0006641040  A3CMRKGE0P909G   \n",
       "17      150499  0006641040  A3E7R866M94L0C   \n",
       "18      150526  0006641040  A3E9QZFE9KXH8J   \n",
       "19      150496  0006641040  A3KKR87BJ0C595   \n",
       "20      150516  0006641040  A3OI7ZGH6WZJ5G   \n",
       "21      150503  0006641040  A3R5XMPFU8YZ4D   \n",
       "22      150521  0006641040  A3RMCRB2NDTDYP   \n",
       "23      150498  0006641040  A3SJWISOCP31TR   \n",
       "24      150517  0006641040   ABW4IC5G5G8B5   \n",
       "25      150524  0006641040   ACITT7DI6IDDL   \n",
       "26      150520  0006641040   ADBFSA9KTQANE   \n",
       "27      150528  0006641040   AGQWHPNDZGUD0   \n",
       "28      150501  0006641040   AJ46FKXOVC7NR   \n",
       "29      150518  0006641040   AK1L4EJBA23JF   \n",
       "...        ...         ...             ...   \n",
       "568424  193174  B009RSR8HO   A4P6AN2L435PV   \n",
       "568425  193167  B009RSR8HO   A5F9OUO3F2N7C   \n",
       "568426  193176  B009RSR8HO   A76WHW051R3KV   \n",
       "568427  193166  B009RSR8HO   AD0V42PRKCDBM   \n",
       "568428  193171  B009RSR8HO   AH2FVNP7Z6PZH   \n",
       "568429  204271  B009SA5NNW  A133WGB2RLKB1T   \n",
       "568430  204279  B009SA5NNW  A1PVBIUKEDNGVP   \n",
       "568431  204270  B009SA5NNW  A1V93C9YW5T0LQ   \n",
       "568432  204275  B009SA5NNW  A1XPE0WCC6RYVO   \n",
       "568433  204283  B009SA5NNW  A2QXG1QOV4MTVL   \n",
       "568434  204284  B009SA5NNW  A2SB8DPH72UOM7   \n",
       "568435  204277  B009SA5NNW  A2TWDT92R8VPTI   \n",
       "568436  204285  B009SA5NNW  A2XNO53D6J6322   \n",
       "568437  204282  B009SA5NNW  A373QMETEUKMS7   \n",
       "568438  204274  B009SA5NNW  A379KV6EQ66ZJR   \n",
       "568439  204281  B009SA5NNW  A3CBCI8ZU6A9XM   \n",
       "568440  204278  B009SA5NNW   A3M922QSBYYXR   \n",
       "568441  204276  B009SA5NNW  A3U0YIPTZX8DZ4   \n",
       "568442  204273  B009SA5NNW   AG4YGLLIE8BWP   \n",
       "568443  204280  B009SA5NNW   AI1G344L7R1TN   \n",
       "568444  204286  B009SA5NNW   AVRU1Z8N59UZV   \n",
       "568445  204272  B009SA5NNW   AWFA8N9IXELVH   \n",
       "568446  188389  B009SF0TN6  A1L0GWGRK4BYPT   \n",
       "568447  226019  B009SMKESO  A35K4XT7T1ZIFU   \n",
       "568448  221795  B009SR4OQ2  A32A6X5KCP7ARG   \n",
       "568449  191721  B009UOFTUI   AJVB004EB0MVK   \n",
       "568450    1478  B009UOFU20   AJVB004EB0MVK   \n",
       "568451  328482  B009UUS05I   ARL20DSHGVM1Y   \n",
       "568452    5703  B009WSNWC4   AMP7K1O84DH1T   \n",
       "568453  327601  B009WVB40S  A3ME78KVX31T21   \n",
       "\n",
       "                                             ProfileName  \\\n",
       "0                                  Elizabeth H. Roessner   \n",
       "1                                     Laura Purdie Salas   \n",
       "2                                              A. Conway   \n",
       "3                             Maria Apolloni \"lanarossa\"   \n",
       "4                                             A Customer   \n",
       "5                                      Charles Ashbacher   \n",
       "6                                  sally sue \"sally sue\"   \n",
       "7                                    Matt Hetling \"Matt\"   \n",
       "8                                                  Tracy   \n",
       "9                                       Rosalind Matzner   \n",
       "10                 Elizabeth A. Curry \"Lovely Librarian\"   \n",
       "11      Jason A. Teeple \"Nobody made a greater mistak...   \n",
       "12                                                  Rick   \n",
       "13                                 Support for Providers   \n",
       "14                                               Lindylu   \n",
       "15                         Laurel \"I love the internet.\"   \n",
       "16                                                Teresa   \n",
       "17                                L. Barker \"simienwolf\"   \n",
       "18                                           R. Mitchell   \n",
       "19         Gretchen Goodfellow \"Lover of children's lit\"   \n",
       "20                           Mary Jane Rogers \"Maedchen\"   \n",
       "21                         Her Royal Motherliness \"Nana\"   \n",
       "22                                      Carol Carruthers   \n",
       "23                                           R. J. Wells   \n",
       "24                                           kevin clark   \n",
       "25                                       shari zychinski   \n",
       "26                        James L. Hammock \"Pucks Buddy\"   \n",
       "27                                                Bolt81   \n",
       "28                                    Nicholas A Mesiano   \n",
       "29                                           L. M. Kraus   \n",
       "...                                                  ...   \n",
       "568424                                            romarc   \n",
       "568425                                               Jan   \n",
       "568426                                     Shawn \"Shawn\"   \n",
       "568427                                          Rachelle   \n",
       "568428                                    Marty Campbell   \n",
       "568429                                     Temple Gordon   \n",
       "568430                                           Steve L   \n",
       "568431                                N. Hunt \"Übergeek\"   \n",
       "568432                                          AnthonyT   \n",
       "568433                               Wordup \"Wordup2you\"   \n",
       "568434                                            Tim C.   \n",
       "568435  d wilson \"Visitor from a Perpendicular Universe\"   \n",
       "568436                                      dragenfli254   \n",
       "568437                                      Rebecca Wade   \n",
       "568438                                             Craig   \n",
       "568439                                           Cody B.   \n",
       "568440                                   Jeannie Jordahl   \n",
       "568441                                               vee   \n",
       "568442                                          Miwintee   \n",
       "568443                                Brian M. Schissler   \n",
       "568444                                       LIsa Fresch   \n",
       "568445                                       No Pen Name   \n",
       "568446                                     Bety Robinson   \n",
       "568447                                       Inez Rivera   \n",
       "568448                                           sicamar   \n",
       "568449                                 D. Christofferson   \n",
       "568450                                 D. Christofferson   \n",
       "568451                                             Jamie   \n",
       "568452                                              ESTY   \n",
       "568453                                              K'la   \n",
       "\n",
       "        HelpfulnessNumerator  HelpfulnessDenominator  Score        Time  \\\n",
       "0                          0                       0      5  1256774400   \n",
       "1                          0                       0      4  1344211200   \n",
       "2                          0                       0      5  1338249600   \n",
       "3                          2                       2      1  1334707200   \n",
       "4                          2                       2      5  1009324800   \n",
       "5                          0                       0      4  1219536000   \n",
       "6                          1                       1      4  1191456000   \n",
       "7                          0                       1      4  1108425600   \n",
       "8                          1                       1      4  1194739200   \n",
       "9                          0                       0      5  1313884800   \n",
       "10                         0                       0      4  1096675200   \n",
       "11                         1                       1      4  1210809600   \n",
       "12                         1                       2      5  1025481600   \n",
       "13                         3                       3      3  1129507200   \n",
       "14                         0                       0      5  1303171200   \n",
       "15                         0                       1      3  1323820800   \n",
       "16                         3                       4      5  1018396800   \n",
       "17                         2                       2      5  1065830400   \n",
       "18                        11                      18      1  1129507200   \n",
       "19                         3                       3      5  1111363200   \n",
       "20                         0                       0      5  1293840000   \n",
       "21                         1                       1      5  1233964800   \n",
       "22                         0                       0      5  1243468800   \n",
       "23                         2                       2      5  1176336000   \n",
       "24                         0                       0      5  1291075200   \n",
       "25                         0                       0      5   939340800   \n",
       "26                         0                       0      5  1256688000   \n",
       "27                         0                       1      3  1296864000   \n",
       "28                         2                       2      5   940809600   \n",
       "29                         0                       0      5  1288224000   \n",
       "...                      ...                     ...    ...         ...   \n",
       "568424                     0                       0      5  1350432000   \n",
       "568425                     0                       0      5  1350604800   \n",
       "568426                     0                       0      5  1350432000   \n",
       "568427                     0                       0      5  1350777600   \n",
       "568428                     0                       0      5  1350432000   \n",
       "568429                     1                       1      4  1321228800   \n",
       "568430                     0                       0      5  1333843200   \n",
       "568431                     1                       1      3  1335571200   \n",
       "568432                     0                       0      5  1344988800   \n",
       "568433                     0                       0      1  1321920000   \n",
       "568434                     0                       0      4  1317600000   \n",
       "568435                     0                       0      5  1337904000   \n",
       "568436                     0                       0      5  1317081600   \n",
       "568437                     0                       0      4  1327017600   \n",
       "568438                     0                       0      5  1347062400   \n",
       "568439                     0                       0      5  1328486400   \n",
       "568440                     0                       0      5  1335744000   \n",
       "568441                     0                       0      4  1339977600   \n",
       "568442                     0                       0      5  1351123200   \n",
       "568443                     0                       0      4  1332979200   \n",
       "568444                     0                       1      1  1349654400   \n",
       "568445                     0                       0      1  1351123200   \n",
       "568446                     0                       0      5  1350518400   \n",
       "568447                     0                       1      4  1304985600   \n",
       "568448                     1                       1      5  1350604800   \n",
       "568449                     0                       0      1  1345852800   \n",
       "568450                     0                       0      1  1345852800   \n",
       "568451                     0                       0      5  1331856000   \n",
       "568452                     0                       0      5  1351209600   \n",
       "568453                     0                       0      5  1351123200   \n",
       "\n",
       "                                                  Summary  \\\n",
       "0                                      It's a great book!   \n",
       "1                                  Charming and childlike   \n",
       "2                                              Must have.   \n",
       "3       The story is great, the softcover book is disa...   \n",
       "4                                      It Was a favorite!   \n",
       "5       Children will find it entertaining and a gener...   \n",
       "6                           chicken soup with rice months   \n",
       "7                             Nice cadence, catchy rhymes   \n",
       "8              Love the book, miss the hard cover version   \n",
       "9                                  Chicken soup with Rice   \n",
       "10                                  MMMM chicken soup....   \n",
       "11                                              A classic   \n",
       "12      In December it will be, my snowman's anniversa...   \n",
       "13                                           Disappointed   \n",
       "14                     One of our family's favorite books   \n",
       "15                            This book is much too small   \n",
       "16                        A great way to learn the months   \n",
       "17                                      Can't explain why   \n",
       "18                                 awesome book poor size   \n",
       "19                You'll use it once, you'll use it twice   \n",
       "20                                               Darling!   \n",
       "21                                         so fun to read   \n",
       "22                                    This book is great!   \n",
       "23                                        A Gem of a Book   \n",
       "24                                      good for children   \n",
       "25                              EVERY book is educational   \n",
       "26                                             Great Gift   \n",
       "27                                       Size does matter   \n",
       "28      This whole series is great way to spend time w...   \n",
       "29                                         love this book   \n",
       "...                                                   ...   \n",
       "568424                                     LOVE!!  LOVE!!   \n",
       "568425                                      The Best Ever   \n",
       "568426                          My #1 Sweetener of choice   \n",
       "568427                              Best sweetner ever!!!   \n",
       "568428          The BEST sugar replacement on the market!   \n",
       "568429                         Walkers smkey bacon crisps   \n",
       "568430                                   One Word, \"YUM!\"   \n",
       "568431                 Americans beware, curious labeling   \n",
       "568432                                          Excellent   \n",
       "568433                                        Stale Chips   \n",
       "568434                                               Yum!   \n",
       "568435                            Tastes just like bacon!   \n",
       "568436                                            Delish!   \n",
       "568437                                         Excellent!   \n",
       "568438  Awesome Crisps!!! Arrived in just 8 days in Te...   \n",
       "568439                                            Cody B.   \n",
       "568440                                These were amazing!   \n",
       "568441                                          Re-Rating   \n",
       "568442               Makes me drool just thinking of them   \n",
       "568443                                           WOW.....   \n",
       "568444                              Walkers Crisps 6 pack   \n",
       "568445                              Deceptive description   \n",
       "568446              Amazing!! Great sauce for everything!   \n",
       "568447                                 Not a bad product.   \n",
       "568448                                      Awesome Taste   \n",
       "568449  weak coffee not good for a premium product and...   \n",
       "568450  weak coffee not good for a premium product and...   \n",
       "568451                                            Perfect   \n",
       "568452                                          DELICIOUS   \n",
       "568453                                             Tasty!   \n",
       "\n",
       "                                                     Text  \n",
       "0       I've always loved chicken soup and rice. My la...  \n",
       "1       A charming, rhyming book that describes the ci...  \n",
       "2       I set aside at least an hour each day to read ...  \n",
       "3       I give five stars to the Maurice Sendak story....  \n",
       "4       This was a favorite book of mine when I was a ...  \n",
       "5       This book contains a collection of twelve shor...  \n",
       "6       This is a fun way for children to learn their ...  \n",
       "7       In June<br />I saw a charming group<br />of ro...  \n",
       "8       I grew up reading these Sendak books, and watc...  \n",
       "9       It's a great book with adorable illustrations....  \n",
       "10      Summary:  A young boy describes the usefulness...  \n",
       "11      Get the movie or sound track and sing along wi...  \n",
       "12      My daughter loves all the \"Really Rosie\" books...  \n",
       "13      When I ordered a large amount of these books t...  \n",
       "14      This book is a family favorite and was read to...  \n",
       "15      It was a great price, but I can't read it to m...  \n",
       "16      This is a book of poetry about the months of t...  \n",
       "17      This book has been a favorite of mine since I ...  \n",
       "18      This is one of the best children's books ever ...  \n",
       "19      One of my earliest memories is of this book.  ...  \n",
       "20      The same author wrote \"Where the Wild Things A...  \n",
       "21      This is my grand daughter's and my favorite bo...  \n",
       "22      My 7 year old daughter brought this book home ...  \n",
       "23      This is a wonderful little book. I loved it 40...  \n",
       "24      Classic children's book, can't go wrong. I rea...  \n",
       "25      this witty little book makes my son laugh at l...  \n",
       "26      This book was purchased as a birthday gift for...  \n",
       "27      This book was purchased to be used in a classr...  \n",
       "28      I can remember seeing the show when it aired o...  \n",
       "29      Great book, perfect condition arrived in a sho...  \n",
       "...                                                   ...  \n",
       "568424  LOVE, LOVE this sweetener!!  I use it in all m...  \n",
       "568425  Zero sweetner is the BEST I have ever used.One...  \n",
       "568426  What a wonderful product! It's perfect to use ...  \n",
       "568427  This sweetner is so great. A little bit goes a...  \n",
       "568428  I've been using Fat to Skinny Zero since it wa...  \n",
       "568429  These are amazing chips but they just cost too...  \n",
       "568430  If you like salt and vinegar crisps (chips), b...  \n",
       "568431  the product is listed as a 150g 6-pack.<br />T...  \n",
       "568432  These are the best flavor chips, my daughter a...  \n",
       "568433  Item came promptly however the crisps were 3 m...  \n",
       "568434  Bought these the other day while I was in Cana...  \n",
       "568435  I had a bag of these during a trip to London. ...  \n",
       "568436  I had these wonderful chips in Ireland a few y...  \n",
       "568437  The crisps are awesome. Give me English crisps...  \n",
       "568438  These crisps are my favorite.  I ordered these...  \n",
       "568439  I loved the chips they were AWESOME!!! but tha...  \n",
       "568440  This chips kind of reminded me of bacon bits. ...  \n",
       "568441  Okay, I jumped the gun, because they were send...  \n",
       "568442  The Brit's have out done us. The flavor is sup...  \n",
       "568443  This could possibly be the best tasting chip I...  \n",
       "568444  I ordered this product on Amazon to get some o...  \n",
       "568445  On Oct 9 I ordered from a different vendor the...  \n",
       "568446  You have to try this sauce to believe it! It s...  \n",
       "568447  This review is for the boneless ham. A little ...  \n",
       "568448  I bought this Hazelnut Paste (Nocciola Spread)...  \n",
       "568449  This coffee supposedly is premium, it tastes w...  \n",
       "568450  This coffee supposedly is premium, it tastes w...  \n",
       "568451  The basket was the perfect sympathy gift when ...  \n",
       "568452  Purchased this product at a local store in NY ...  \n",
       "568453  I purchased this to send to my son who's away ...  \n",
       "\n",
       "[568454 rows x 10 columns]"
      ]
     },
     "execution_count": 4,
     "metadata": {},
     "output_type": "execute_result"
    }
   ],
   "source": [
    "display= pd.read_sql_query(\"\"\"\n",
    "SELECT *\n",
    "FROM Reviews\n",
    "ORDER BY ProductID,UserId,Time\n",
    "\"\"\", con)\n",
    "display"
   ]
  },
  {
   "cell_type": "markdown",
   "metadata": {},
   "source": [
    "As can be seen above the same user has multiple reviews of the with the same values for HelpfulnessNumerator, HelpfulnessDenominator, Score, Time, Summary and Text  and on doing analysis it was found that <br>\n",
    "<br> \n",
    "ProductId=B000HDOPZG was Loacker Quadratini Vanilla Wafer Cookies, 8.82-Ounce Packages (Pack of 8)<br>\n",
    "<br> \n",
    "ProductId=B000HDL1RQ was Loacker Quadratini Lemon Wafer Cookies, 8.82-Ounce Packages (Pack of 8) and so on<br>\n",
    "\n",
    "It was inferred after analysis that reviews with same parameters other than ProductId belonged to the same product just having different flavour or quantity. Hence in order to reduce redundancy it was decided to eliminate the rows having same parameters.<br>\n",
    "\n",
    "The method used for the same was that we first sort the data according to ProductId and then just keep the first similar product review and delelte the others. for eg. in the above just the review for ProductId=B000HDL1RQ remains. This method ensures that there is only one representative for each product and deduplication without sorting would lead to possibility of different representatives still existing for the same product."
   ]
  },
  {
   "cell_type": "code",
   "execution_count": 5,
   "metadata": {},
   "outputs": [],
   "source": [
    "#Sorting data according to ProductId in ascending order\n",
    "sorted_data=filtered_data.sort_values('ProductId', axis=0, ascending=True, inplace=False, kind='quicksort', na_position='last')"
   ]
  },
  {
   "cell_type": "code",
   "execution_count": 6,
   "metadata": {},
   "outputs": [
    {
     "data": {
      "text/plain": [
       "(364173, 10)"
      ]
     },
     "execution_count": 6,
     "metadata": {},
     "output_type": "execute_result"
    }
   ],
   "source": [
    "#Deduplication of entries\n",
    "final=sorted_data.drop_duplicates(subset={\"UserId\",\"ProfileName\",\"Time\",\"Text\"}, keep='first', inplace=False)\n",
    "final.shape"
   ]
  },
  {
   "cell_type": "code",
   "execution_count": 7,
   "metadata": {},
   "outputs": [
    {
     "data": {
      "text/plain": [
       "69.25890143662969"
      ]
     },
     "execution_count": 7,
     "metadata": {},
     "output_type": "execute_result"
    }
   ],
   "source": [
    "#Checking to see how much % of data still remains\n",
    "(final['Id'].size*1.0)/(filtered_data['Id'].size*1.0)*100"
   ]
  },
  {
   "cell_type": "markdown",
   "metadata": {},
   "source": [
    "<b>Observation:-</b> It was also seen that in two rows given below the value of HelpfulnessNumerator is greater than HelpfulnessDenominator which is not practically possible hence these two rows too are removed from calcualtions"
   ]
  },
  {
   "cell_type": "code",
   "execution_count": 8,
   "metadata": {},
   "outputs": [
    {
     "data": {
      "text/html": [
       "<div>\n",
       "<style scoped>\n",
       "    .dataframe tbody tr th:only-of-type {\n",
       "        vertical-align: middle;\n",
       "    }\n",
       "\n",
       "    .dataframe tbody tr th {\n",
       "        vertical-align: top;\n",
       "    }\n",
       "\n",
       "    .dataframe thead th {\n",
       "        text-align: right;\n",
       "    }\n",
       "</style>\n",
       "<table border=\"1\" class=\"dataframe\">\n",
       "  <thead>\n",
       "    <tr style=\"text-align: right;\">\n",
       "      <th></th>\n",
       "      <th>Id</th>\n",
       "      <th>ProductId</th>\n",
       "      <th>UserId</th>\n",
       "      <th>ProfileName</th>\n",
       "      <th>HelpfulnessNumerator</th>\n",
       "      <th>HelpfulnessDenominator</th>\n",
       "      <th>Score</th>\n",
       "      <th>Time</th>\n",
       "      <th>Summary</th>\n",
       "      <th>Text</th>\n",
       "    </tr>\n",
       "  </thead>\n",
       "  <tbody>\n",
       "    <tr>\n",
       "      <th>0</th>\n",
       "      <td>64422</td>\n",
       "      <td>B000MIDROQ</td>\n",
       "      <td>A161DK06JJMCYF</td>\n",
       "      <td>J. E. Stephens \"Jeanne\"</td>\n",
       "      <td>3</td>\n",
       "      <td>1</td>\n",
       "      <td>5</td>\n",
       "      <td>1224892800</td>\n",
       "      <td>Bought This for My Son at College</td>\n",
       "      <td>My son loves spaghetti so I didn't hesitate or...</td>\n",
       "    </tr>\n",
       "    <tr>\n",
       "      <th>1</th>\n",
       "      <td>44737</td>\n",
       "      <td>B001EQ55RW</td>\n",
       "      <td>A2V0I904FH7ABY</td>\n",
       "      <td>Ram</td>\n",
       "      <td>3</td>\n",
       "      <td>2</td>\n",
       "      <td>4</td>\n",
       "      <td>1212883200</td>\n",
       "      <td>Pure cocoa taste with crunchy almonds inside</td>\n",
       "      <td>It was almost a 'love at first bite' - the per...</td>\n",
       "    </tr>\n",
       "  </tbody>\n",
       "</table>\n",
       "</div>"
      ],
      "text/plain": [
       "      Id   ProductId          UserId              ProfileName  \\\n",
       "0  64422  B000MIDROQ  A161DK06JJMCYF  J. E. Stephens \"Jeanne\"   \n",
       "1  44737  B001EQ55RW  A2V0I904FH7ABY                      Ram   \n",
       "\n",
       "   HelpfulnessNumerator  HelpfulnessDenominator  Score        Time  \\\n",
       "0                     3                       1      5  1224892800   \n",
       "1                     3                       2      4  1212883200   \n",
       "\n",
       "                                        Summary  \\\n",
       "0             Bought This for My Son at College   \n",
       "1  Pure cocoa taste with crunchy almonds inside   \n",
       "\n",
       "                                                Text  \n",
       "0  My son loves spaghetti so I didn't hesitate or...  \n",
       "1  It was almost a 'love at first bite' - the per...  "
      ]
     },
     "execution_count": 8,
     "metadata": {},
     "output_type": "execute_result"
    }
   ],
   "source": [
    "display= pd.read_sql_query(\"\"\"\n",
    "SELECT *\n",
    "FROM Reviews\n",
    "WHERE Score != 3 AND Id=44737 OR Id=64422\n",
    "ORDER BY ProductID\n",
    "\"\"\", con)\n",
    "\n",
    "display.head()"
   ]
  },
  {
   "cell_type": "code",
   "execution_count": 9,
   "metadata": {},
   "outputs": [],
   "source": [
    "final=final[final.HelpfulnessNumerator<=final.HelpfulnessDenominator]"
   ]
  },
  {
   "cell_type": "code",
   "execution_count": 10,
   "metadata": {},
   "outputs": [
    {
     "name": "stdout",
     "output_type": "stream",
     "text": [
      "(364171, 10)\n"
     ]
    },
    {
     "data": {
      "text/plain": [
       "positive    307061\n",
       "negative     57110\n",
       "Name: Score, dtype: int64"
      ]
     },
     "execution_count": 10,
     "metadata": {},
     "output_type": "execute_result"
    }
   ],
   "source": [
    "#Before starting the next phase of preprocessing lets see the number of entries left\n",
    "print(final.shape)\n",
    "\n",
    "#How many positive and negative reviews are present in our dataset?\n",
    "final['Score'].value_counts()"
   ]
  },
  {
   "cell_type": "markdown",
   "metadata": {},
   "source": [
    "## 18.1.3  Text Preprocessing: Stemming, stop-word removal and Lemmatization.\n",
    "\n",
    "Now that we have finished deduplication our data requires some preprocessing before we go on further with analysis and making the prediction model.\n",
    "\n",
    "Hence in the Preprocessing phase we do the following in the order below:-\n",
    "\n",
    "1. Begin by removing the html tags\n",
    "2. Remove any punctuations or limited set of special characters like , or . or # etc.\n",
    "3. Check if the word is made up of english letters and is not alpha-numeric\n",
    "4. Check to see if the length of the word is greater than 2 (as it was researched that there is no adjective in 2-letters)\n",
    "5. Convert the word to lowercase\n",
    "6. Remove Stopwords\n",
    "7. Finally Snowball Stemming the word (it was obsereved to be better than Porter Stemming)<br>\n",
    "\n",
    "After which we collect the words used to describe positive and negative reviews"
   ]
  },
  {
   "cell_type": "code",
   "execution_count": 11,
   "metadata": {},
   "outputs": [
    {
     "name": "stdout",
     "output_type": "stream",
     "text": [
      "6\n",
      "I set aside at least an hour each day to read to my son (3 y/o). At this point, I consider myself a connoisseur of children's books and this is one of the best. Santa Clause put this under the tree. Since then, we've read it perpetually and he loves it.<br /><br />First, this book taught him the months of the year.<br /><br />Second, it's a pleasure to read. Well suited to 1.5 y/o old to 4+.<br /><br />Very few children's books are worth owning. Most should be borrowed from the library. This book, however, deserves a permanent spot on your shelf. Sendak's best.\n"
     ]
    }
   ],
   "source": [
    "# find sentences containing HTML tags\n",
    "import re\n",
    "i=0;\n",
    "for sent in final['Text'].values:\n",
    "    if (len(re.findall('<.*?>', sent))):\n",
    "        print(i)\n",
    "        print(sent)\n",
    "        break;\n",
    "    i += 1;"
   ]
  },
  {
   "cell_type": "code",
   "execution_count": 12,
   "metadata": {
    "scrolled": true
   },
   "outputs": [
    {
     "name": "stdout",
     "output_type": "stream",
     "text": [
      "{'just', 'didn', 'wasn', 'did', \"didn't\", 'into', 'shouldn', 're', 'that', 'over', 'our', \"should've\", 'will', \"hasn't\", \"that'll\", 'itself', 'mustn', 'her', 'because', 'whom', \"you've\", 'herself', 'some', 'of', 'its', 'we', 'once', 'out', 'mightn', 'not', 'y', 'can', 've', 'hasn', 'more', \"hadn't\", 'him', 'too', 'wouldn', 'those', 'themselves', 'is', \"isn't\", 'they', 'had', 'all', 'my', 'yourself', 'or', \"shouldn't\", 'this', 'which', 's', 'as', 'same', 'there', \"it's\", 'through', \"mustn't\", 'd', 'i', 'theirs', 'for', 'do', 'an', 'after', 'now', 'you', 'won', 'yours', 'about', 'above', 'between', 'has', 'ourselves', 'll', 'than', \"you're\", 'aren', 'am', 'only', 'under', 'doing', 'during', 'ours', 'yourselves', 'where', 'them', 'hers', 'on', \"shan't\", 'me', 'here', 'haven', 'himself', 'he', 'she', 'nor', 'before', 'why', 'other', 'these', 'his', 'are', 'was', 'have', 'most', 'don', 'in', 'from', 'again', 'who', 'ain', \"wasn't\", 'against', \"doesn't\", \"weren't\", 'each', \"aren't\", 'to', 'but', 'then', 'and', \"needn't\", \"she's\", 'own', 'isn', 'weren', \"won't\", 'what', 'a', 'below', 'hadn', 'myself', 'their', 'until', 'does', 'while', 'it', 'no', 'both', \"wouldn't\", 'if', \"haven't\", 'were', \"don't\", \"couldn't\", 'few', 'by', 'how', 'doesn', 'o', 'at', 'needn', 'couldn', 'shan', 'your', 'any', 'further', 'up', 'being', \"you'll\", \"you'd\", 'down', 'such', 'the', \"mightn't\", 'with', 'having', 'very', 'should', 't', 'ma', 'so', 'been', 'when', 'm', 'be', 'off'}\n",
      "************************************\n",
      "tasti\n"
     ]
    }
   ],
   "source": [
    "#nltk.download('stopwords')\n",
    "stop = set(stopwords.words('english')) #set of stopwords\n",
    "sno = nltk.stem.SnowballStemmer('english') #initialising the snowball stemmer\n",
    "\n",
    "def cleanhtml(sentence): #function to clean the word of any html-tags\n",
    "    cleanr = re.compile('<.*?>')\n",
    "    cleantext = re.sub(cleanr, ' ', sentence)\n",
    "    return cleantext\n",
    "def cleanpunc(sentence): #function to clean the word of any punctuation or special characters\n",
    "    cleaned = re.sub(r'[?|!|\\'|\"|#]',r'',sentence)\n",
    "    cleaned = re.sub(r'[.|,|)|(|\\|/]',r' ',cleaned)\n",
    "    return  cleaned\n",
    "print(stop)\n",
    "print('************************************')\n",
    "print(sno.stem('tasty'))"
   ]
  },
  {
   "cell_type": "code",
   "execution_count": 13,
   "metadata": {},
   "outputs": [],
   "source": [
    "#removing stop words and html tags\n",
    "#listing all words from potive and negative reviews\n",
    "\n",
    "i=0\n",
    "str1=' '\n",
    "final_string=[]\n",
    "all_positive_words=[] # store words from +ve reviews here\n",
    "all_negative_words=[] # store words from -ve reviews here.\n",
    "s=''\n",
    "for sent in final['Text'].values:\n",
    "    filtered_sentence=[]\n",
    "    #print(sent);\n",
    "    sent=cleanhtml(sent) # remove HTMl tags\n",
    "    for w in sent.split():\n",
    "        for cleaned_words in cleanpunc(w).split():\n",
    "            if((cleaned_words.isalpha()) & (len(cleaned_words)>2)):    \n",
    "                if(cleaned_words.lower() not in stop):\n",
    "                    s=(sno.stem(cleaned_words.lower())).encode('utf8')\n",
    "                    filtered_sentence.append(s)\n",
    "                    if (final['Score'].values)[i] == 'positive': \n",
    "                        all_positive_words.append(s) #list of all words used to describe positive reviews\n",
    "                    if(final['Score'].values)[i] == 'negative':\n",
    "                        all_negative_words.append(s) #list of all words used to describe negative reviews reviews\n",
    "                else:\n",
    "                    continue\n",
    "            else:\n",
    "                continue \n",
    "    #print(filtered_sentence)\n",
    "    str1 = b\" \".join(filtered_sentence) #final string of cleaned words\n",
    "    #print(\"***********************************************************************\")\n",
    "    \n",
    "    final_string.append(str1)\n",
    "    i+=1"
   ]
  },
  {
   "cell_type": "code",
   "execution_count": 14,
   "metadata": {},
   "outputs": [],
   "source": [
    "final['CleanedText']=final_string #adding a column of CleanedText which displays the data after pre-processing of the review \n",
    "final['CleanedText']=final['CleanedText'].str.decode(\"utf-8\")"
   ]
  },
  {
   "cell_type": "code",
   "execution_count": 18,
   "metadata": {},
   "outputs": [],
   "source": [
    "final.head(3) #below the processed review can be seen in the CleanedText Column \n",
    "\n",
    "\n",
    "# store final table into an SQlLite table for future.\n",
    "conn = sqlite3.connect('final.sqlite')\n",
    "c=conn.cursor()\n",
    "conn.text_factory = str\n",
    "final.to_sql('Reviews', conn,  schema=None, if_exists='replace', index=True, index_label=None, chunksize=None, dtype=None)"
   ]
  },
  {
   "cell_type": "code",
   "execution_count": 2,
   "metadata": {},
   "outputs": [],
   "source": [
    "con = sqlite3.connect('final.sqlite') \n",
    "\n",
    "final = pd.read_sql_query(\"\"\" SELECT * FROM Reviews \"\"\", con) "
   ]
  },
  {
   "cell_type": "code",
   "execution_count": 3,
   "metadata": {
    "scrolled": true
   },
   "outputs": [
    {
     "name": "stdout",
     "output_type": "stream",
     "text": [
      "The number of negative points and positive points are  2174 & 17826\n"
     ]
    }
   ],
   "source": [
    "#Sampling 20K Data-Points of 364K Data-Points\n",
    "\n",
    "final=final.sort_values('Time')\n",
    "df_sampled=final[:20000]\n",
    "\n",
    "print(\"The number of negative points and positive points are \",\n",
    "      df_sampled[df_sampled['Score']=='negative'].shape[0]\n",
    "     ,\"&\",df_sampled[df_sampled['Score']=='positive'].shape[0])"
   ]
  },
  {
   "cell_type": "markdown",
   "metadata": {},
   "source": [
    "## [18.1.4] Split Dataset into Train and Test"
   ]
  },
  {
   "cell_type": "code",
   "execution_count": 4,
   "metadata": {},
   "outputs": [
    {
     "name": "stdout",
     "output_type": "stream",
     "text": [
      "(14000, 12) (6000, 12)\n"
     ]
    }
   ],
   "source": [
    "# split the data set into train and test\n",
    "\n",
    "from sklearn import model_selection as ms\n",
    "y=df_sampled['Score']\n",
    "dw_train,dw_test,y_train,y_test=ms.train_test_split(df_sampled, y, test_size=0.3, random_state=0)\n",
    "print(dw_train.shape,dw_test.shape)"
   ]
  },
  {
   "cell_type": "markdown",
   "metadata": {},
   "source": [
    "# [18.2] Bag of Words (BoW)"
   ]
  },
  {
   "cell_type": "code",
   "execution_count": 7,
   "metadata": {},
   "outputs": [],
   "source": [
    "#Build The Vocabulary\n",
    "#Vectorize train and test data\n",
    "count_vect = CountVectorizer() #in scikit-learn\n",
    "d_train=count_vect.fit_transform(dw_train['CleanedText'].values)"
   ]
  },
  {
   "cell_type": "code",
   "execution_count": 8,
   "metadata": {},
   "outputs": [
    {
     "name": "stdout",
     "output_type": "stream",
     "text": [
      "the type of count vectorizer  <class 'scipy.sparse.csr.csr_matrix'>\n",
      "the shape of train-text BOW vectorizer  (14000, 15632)\n",
      "the shape of test-text BOW vectorizer  (6000, 15632)\n"
     ]
    }
   ],
   "source": [
    "print(\"the type of count vectorizer \",type(d_train))\n",
    "print(\"the shape of train-text BOW vectorizer \",d_train.get_shape())\n",
    "\n",
    "d_test = count_vect.transform(dw_test['CleanedText'].values)\n",
    "print(\"the shape of test-text BOW vectorizer \",d_test.get_shape())"
   ]
  },
  {
   "cell_type": "markdown",
   "metadata": {},
   "source": [
    "## [18.2.1] Bag Of Words with Bi-Grams and n-Grams.\n",
    "\n",
    "**Motivation**\n",
    "\n",
    "Now that we have our list of words describing positive and negative reviews lets analyse them.<br>\n",
    "\n",
    "We begin analysis by getting the frequency distribution of the words as shown below"
   ]
  },
  {
   "cell_type": "code",
   "execution_count": 24,
   "metadata": {
    "scrolled": true
   },
   "outputs": [
    {
     "name": "stdout",
     "output_type": "stream",
     "text": [
      "Most Common Positive Words :  [(b'like', 139429), (b'tast', 129047), (b'good', 112766), (b'flavor', 109624), (b'love', 107357), (b'use', 103888), (b'great', 103870), (b'one', 96726), (b'product', 91033), (b'tri', 86791), (b'tea', 83888), (b'coffe', 78814), (b'make', 75107), (b'get', 72125), (b'food', 64802), (b'would', 55568), (b'time', 55264), (b'buy', 54198), (b'realli', 52715), (b'eat', 52004)]\n",
      "Most Common Negative Words :  [(b'tast', 34585), (b'like', 32330), (b'product', 28218), (b'one', 20569), (b'flavor', 19575), (b'would', 17972), (b'tri', 17753), (b'use', 15302), (b'good', 15041), (b'coffe', 14716), (b'get', 13786), (b'buy', 13752), (b'order', 12871), (b'food', 12754), (b'dont', 11877), (b'tea', 11665), (b'even', 11085), (b'box', 10844), (b'amazon', 10073), (b'make', 9840)]\n"
     ]
    }
   ],
   "source": [
    "freq_dist_positive=nltk.FreqDist(all_positive_words)\n",
    "freq_dist_negative=nltk.FreqDist(all_negative_words)\n",
    "print(\"Most Common Positive Words : \",freq_dist_positive.most_common(20))\n",
    "print(\"Most Common Negative Words : \",freq_dist_negative.most_common(20))"
   ]
  },
  {
   "cell_type": "markdown",
   "metadata": {},
   "source": [
    "<b>Observation:-</b> From the above it can be seen that the most common positive and the negative words overlap for eg. 'like' could be used as 'not like' etc. <br>\n",
    "So, it is a good idea to consider pairs of consequent words (bi-grams) or q sequnce of n consecutive words (n-grams)"
   ]
  },
  {
   "cell_type": "code",
   "execution_count": 5,
   "metadata": {},
   "outputs": [],
   "source": [
    "#bi-gram, tri-gram and n-gram\n",
    "#building the vocabulary\n",
    "#removing stop words like \"not\" should be avoided before building n-grams\n",
    "count_vect_bg = CountVectorizer(ngram_range=(1,2))\n",
    "d_train_bg=count_vect_bg.fit_transform(dw_train['CleanedText'].values)"
   ]
  },
  {
   "cell_type": "code",
   "execution_count": 6,
   "metadata": {},
   "outputs": [
    {
     "name": "stdout",
     "output_type": "stream",
     "text": [
      "the type of count vectorizer  <class 'scipy.sparse.csr.csr_matrix'>\n",
      "the shape of train-text BOW vectorizer  (14000, 281647)\n",
      "the shape of test-text BOW vectorizer  (6000, 281647)\n"
     ]
    }
   ],
   "source": [
    "#Vectorize train and test data\n",
    "print(\"the type of count vectorizer \",type(d_train_bg))\n",
    "print(\"the shape of train-text BOW vectorizer \",d_train_bg.get_shape())\n",
    "\n",
    "d_test_bg = count_vect_bg.transform(dw_test['CleanedText'].values)\n",
    "print(\"the shape of test-text BOW vectorizer \",d_test_bg.get_shape())"
   ]
  },
  {
   "cell_type": "markdown",
   "metadata": {},
   "source": [
    "## [18.2.2] ConVert Sparce Matrix To Dense Using TruncatedSVD"
   ]
  },
  {
   "cell_type": "code",
   "execution_count": 14,
   "metadata": {},
   "outputs": [],
   "source": [
    "svd = TruncatedSVD(n_components=2000, random_state=0)\n",
    "#without using bigram\n",
    "d_train_dense=svd.fit_transform(d_train)"
   ]
  },
  {
   "cell_type": "code",
   "execution_count": 15,
   "metadata": {},
   "outputs": [
    {
     "name": "stdout",
     "output_type": "stream",
     "text": [
      "[4.11878231e-02 3.67717226e-02 1.55181718e-02 ... 3.41136910e-05\n",
      " 3.40277144e-05 3.37737473e-05]\n",
      "[0.04118782 0.07795955 0.09347772 ... 0.95253415 0.95256818 0.95260195]\n"
     ]
    }
   ],
   "source": [
    "print (svd.explained_variance_ratio_)\n",
    "print (svd.explained_variance_ratio_.cumsum())"
   ]
  },
  {
   "cell_type": "markdown",
   "metadata": {},
   "source": [
    "Variance of 95% is retained with dimension equal to 2000."
   ]
  },
  {
   "cell_type": "code",
   "execution_count": 17,
   "metadata": {},
   "outputs": [],
   "source": [
    "d_test_dense=svd.transform(d_test)"
   ]
  },
  {
   "cell_type": "code",
   "execution_count": 7,
   "metadata": {},
   "outputs": [],
   "source": [
    "dv_train=d_train_bg[:20000]\n",
    "svd_m = TruncatedSVD(n_components=600, random_state=0)"
   ]
  },
  {
   "cell_type": "code",
   "execution_count": 8,
   "metadata": {},
   "outputs": [
    {
     "name": "stdout",
     "output_type": "stream",
     "text": [
      "[0.02564133 0.02293013 0.00983019 0.00894277 0.00766993 0.00716409\n",
      " 0.00644842 0.00573583 0.00547404 0.00532305 0.00488414 0.00485649\n",
      " 0.00462404 0.00444995 0.00424964 0.00412082 0.00399722 0.00390175\n",
      " 0.00384269 0.00381227 0.00380386 0.00367986 0.00360575 0.00347496\n",
      " 0.00333333 0.00323307 0.00313258 0.00310785 0.00303052 0.00292175\n",
      " 0.0028494  0.00278125 0.00271867 0.00265883 0.0026426  0.002597\n",
      " 0.00253491 0.00250211 0.00249323 0.00240082 0.0023847  0.00233707\n",
      " 0.00227341 0.00223848 0.00216391 0.00212977 0.00207618 0.00205909\n",
      " 0.00203872 0.00201981 0.00198213 0.00196083 0.00192426 0.00192047\n",
      " 0.00189897 0.00187733 0.00186874 0.00181756 0.00179617 0.00179322\n",
      " 0.00176946 0.00174563 0.00173096 0.00171551 0.00169917 0.00166985\n",
      " 0.00164035 0.00163066 0.00159706 0.00158341 0.00157973 0.00156238\n",
      " 0.00153813 0.00153115 0.00150045 0.00148555 0.00147451 0.00147081\n",
      " 0.00145211 0.00144532 0.00143701 0.00143012 0.00140463 0.00139415\n",
      " 0.00138985 0.00137259 0.00134319 0.001338   0.00133026 0.00131956\n",
      " 0.00130866 0.00129629 0.00128946 0.00127562 0.00127048 0.00126294\n",
      " 0.00125049 0.00124474 0.00123984 0.00122649 0.00121315 0.00120386\n",
      " 0.00118978 0.00118646 0.0011815  0.00116941 0.00115876 0.00114586\n",
      " 0.00114064 0.00113312 0.00112633 0.00112082 0.00111132 0.001103\n",
      " 0.00109779 0.00109093 0.00107966 0.00106966 0.0010633  0.00105975\n",
      " 0.00105566 0.00104329 0.00103358 0.00103164 0.00102645 0.00101764\n",
      " 0.00101305 0.00100785 0.00100094 0.00099996 0.00099249 0.00098805\n",
      " 0.00098051 0.0009732  0.00096901 0.0009654  0.00095924 0.00095351\n",
      " 0.00094623 0.00094455 0.00093788 0.00093424 0.00092858 0.00092727\n",
      " 0.00091685 0.0009108  0.00090949 0.00090555 0.00089988 0.0008946\n",
      " 0.00089038 0.00088797 0.00088223 0.00087935 0.000875   0.00087414\n",
      " 0.00087298 0.00086199 0.00086189 0.00085426 0.000852   0.0008482\n",
      " 0.00084417 0.00084    0.00083614 0.00083129 0.00082782 0.00082279\n",
      " 0.00082061 0.00081651 0.00081368 0.00080892 0.00080296 0.00080032\n",
      " 0.0007929  0.0007909  0.00078435 0.00078326 0.0007773  0.00077489\n",
      " 0.00076905 0.00076679 0.00076368 0.0007569  0.00075501 0.00075314\n",
      " 0.00074958 0.00074781 0.00074179 0.00073971 0.00073787 0.00073367\n",
      " 0.0007333  0.00073036 0.00072366 0.00072134 0.00071812 0.0007159\n",
      " 0.00071085 0.00070808 0.00070601 0.0007033  0.00070142 0.00069859\n",
      " 0.00069507 0.00069353 0.00069294 0.00069129 0.00068378 0.00068251\n",
      " 0.00067974 0.00067564 0.00067192 0.00066922 0.00066818 0.00066491\n",
      " 0.00066233 0.00066021 0.00065729 0.00065016 0.00064937 0.00064841\n",
      " 0.00064585 0.00064428 0.00064201 0.00063937 0.00063774 0.00063369\n",
      " 0.00063022 0.00062786 0.00062629 0.0006235  0.00062159 0.00061911\n",
      " 0.00061858 0.00061522 0.00061458 0.00061084 0.00060748 0.0006057\n",
      " 0.00060177 0.00060116 0.00059886 0.00059637 0.00059422 0.00059208\n",
      " 0.00058948 0.00058783 0.00058631 0.00058398 0.00058242 0.00058029\n",
      " 0.00057723 0.00057537 0.00057302 0.00057085 0.00056946 0.00056825\n",
      " 0.0005671  0.00056636 0.00056451 0.00056116 0.00055952 0.00055771\n",
      " 0.00055725 0.00055375 0.00055272 0.00055114 0.00054894 0.00054654\n",
      " 0.00054392 0.00054228 0.00053977 0.00053862 0.00053772 0.00053305\n",
      " 0.00053278 0.00052981 0.00052904 0.00052791 0.00052541 0.00052447\n",
      " 0.00052254 0.0005214  0.00051807 0.00051723 0.00051598 0.00051471\n",
      " 0.0005133  0.00051147 0.00050906 0.0005089  0.00050779 0.00050717\n",
      " 0.00050551 0.00050205 0.00050073 0.00050034 0.00049955 0.00049844\n",
      " 0.00049653 0.00049425 0.00049115 0.00049081 0.00049042 0.0004878\n",
      " 0.00048685 0.00048597 0.00048364 0.00048201 0.00048156 0.0004805\n",
      " 0.00047731 0.0004762  0.00047517 0.00047392 0.00047234 0.00047147\n",
      " 0.00046936 0.00046821 0.00046777 0.00046563 0.00046517 0.00046415\n",
      " 0.0004624  0.00046123 0.00045871 0.00045669 0.00045639 0.00045574\n",
      " 0.00045475 0.00045381 0.00045297 0.00045113 0.00044975 0.00044839\n",
      " 0.00044695 0.00044613 0.00044416 0.00044337 0.00044207 0.00044031\n",
      " 0.00043962 0.00043771 0.00043641 0.00043513 0.0004346  0.00043288\n",
      " 0.0004325  0.00043122 0.00043038 0.00042906 0.00042834 0.00042477\n",
      " 0.00042424 0.00042347 0.00042237 0.00042181 0.00041972 0.00041813\n",
      " 0.00041807 0.00041751 0.0004171  0.00041632 0.00041424 0.00041346\n",
      " 0.00041143 0.00041096 0.00041037 0.00040916 0.00040862 0.00040627\n",
      " 0.00040568 0.00040527 0.00040343 0.00040206 0.00040184 0.00040039\n",
      " 0.00039939 0.00039742 0.00039707 0.00039582 0.00039544 0.00039435\n",
      " 0.00039264 0.00039194 0.00039197 0.00039039 0.00038868 0.00038839\n",
      " 0.00038718 0.00038554 0.0003846  0.0003833  0.0003824  0.00038067\n",
      " 0.00038026 0.00037929 0.00037824 0.00037763 0.00037743 0.00037665\n",
      " 0.00037599 0.00037359 0.00037294 0.00037156 0.00037124 0.00037037\n",
      " 0.00036903 0.00036889 0.00036778 0.00036616 0.00036575 0.00036436\n",
      " 0.00036349 0.00036217 0.00036143 0.00036073 0.0003591  0.00035879\n",
      " 0.00035799 0.00035765 0.00035661 0.00035461 0.00035402 0.00035369\n",
      " 0.00035241 0.00035151 0.00035089 0.0003501  0.00034996 0.0003495\n",
      " 0.00034734 0.00034657 0.00034637 0.00034534 0.00034386 0.00034332\n",
      " 0.00034236 0.00034097 0.00034024 0.00033994 0.00033972 0.00033913\n",
      " 0.00033815 0.00033758 0.000336   0.00033571 0.00033431 0.00033396\n",
      " 0.00033325 0.00033263 0.00033166 0.0003305  0.00032986 0.00032913\n",
      " 0.00032881 0.00032758 0.00032668 0.00032637 0.00032511 0.00032469\n",
      " 0.00032323 0.00032199 0.00032135 0.00032091 0.00032069 0.00032005\n",
      " 0.00031889 0.00031826 0.00031793 0.00031719 0.00031667 0.00031585\n",
      " 0.00031544 0.00031471 0.00031413 0.00031356 0.00031213 0.00031142\n",
      " 0.00031039 0.00031007 0.0003089  0.0003081  0.00030755 0.00030721\n",
      " 0.00030565 0.00030533 0.0003044  0.00030398 0.00030366 0.00030245\n",
      " 0.00030193 0.00030156 0.00030036 0.00029995 0.0002992  0.00029853\n",
      " 0.00029737 0.00029682 0.00029631 0.00029528 0.00029516 0.00029467\n",
      " 0.00029388 0.00029309 0.00029232 0.00029185 0.00029036 0.00028958\n",
      " 0.00028921 0.0002886  0.00028746 0.00028668 0.00028646 0.00028642\n",
      " 0.0002855  0.00028511 0.00028404 0.00028368 0.00028342 0.00028228\n",
      " 0.00028133 0.00028118 0.00028018 0.0002791  0.00027817 0.00027723\n",
      " 0.00027701 0.00027628 0.00027516 0.00027496 0.0002743  0.00027369\n",
      " 0.00027287 0.00027185 0.00027026 0.00027028 0.00026991 0.00026897\n",
      " 0.00026836 0.00026811 0.00026698 0.00026645 0.00026611 0.00026559\n",
      " 0.00026441 0.00026424 0.00026347 0.00026253 0.00026231 0.0002615\n",
      " 0.00026117 0.0002603  0.00025988 0.00025914 0.00025888 0.00025778\n",
      " 0.00025673 0.00025665 0.0002554  0.00025512 0.00025362 0.00025334\n",
      " 0.00025317 0.00025296 0.00025206 0.00025129 0.00025069 0.00024978\n",
      " 0.00024907 0.0002488  0.00024853 0.0002478  0.00024717 0.0002459\n",
      " 0.00024569 0.00024518 0.00024451 0.000243   0.00024257 0.00024171\n",
      " 0.00024134 0.00024062 0.00024016 0.00023956 0.00023934 0.00023827\n",
      " 0.00023633 0.00023581 0.00023506 0.00023449 0.00023389 0.00023314\n",
      " 0.00023196 0.00023119 0.00023048 0.00022902 0.00022821 0.00022791]\n",
      "[0.02564133 0.04857146 0.05840164 0.06734442 0.07501434 0.08217843\n",
      " 0.08862684 0.09436268 0.09983672 0.10515977 0.11004391 0.1149004\n",
      " 0.11952444 0.12397438 0.12822402 0.13234484 0.13634206 0.14024381\n",
      " 0.1440865  0.14789877 0.15170263 0.15538249 0.15898825 0.16246321\n",
      " 0.16579654 0.16902961 0.17216219 0.17527004 0.17830056 0.18122232\n",
      " 0.18407172 0.18685297 0.18957163 0.19223046 0.19487307 0.19747007\n",
      " 0.20000498 0.20250709 0.20500032 0.20740114 0.20978584 0.21212292\n",
      " 0.21439632 0.2166348  0.21879871 0.22092848 0.22300466 0.22506375\n",
      " 0.22710248 0.22912229 0.23110441 0.23306524 0.2349895  0.23690997\n",
      " 0.23880895 0.24068628 0.24255502 0.24437258 0.24616875 0.24796196\n",
      " 0.24973142 0.25147705 0.25320802 0.25492353 0.25662269 0.25829255\n",
      " 0.25993289 0.26156355 0.26316061 0.26474402 0.26632376 0.26788614\n",
      " 0.26942427 0.27095542 0.27245587 0.27394142 0.27541593 0.27688674\n",
      " 0.27833885 0.27978418 0.28122119 0.28265131 0.28405594 0.28545009\n",
      " 0.28683994 0.28821253 0.28955572 0.29089372 0.29222398 0.29354354\n",
      " 0.2948522  0.29614849 0.29743795 0.29871357 0.29998405 0.30124699\n",
      " 0.30249748 0.30374222 0.30498206 0.30620855 0.3074217  0.30862556\n",
      " 0.30981535 0.3110018  0.3121833  0.31335271 0.31451147 0.31565733\n",
      " 0.31679798 0.31793109 0.31905742 0.32017825 0.32128956 0.32239257\n",
      " 0.32349036 0.32458129 0.32566095 0.32673061 0.32779391 0.32885366\n",
      " 0.32990933 0.33095262 0.3319862  0.33301784 0.3340443  0.33506194\n",
      " 0.33607499 0.33708283 0.33808377 0.33908373 0.34007622 0.34106426\n",
      " 0.34204478 0.34301798 0.34398699 0.34495239 0.34591163 0.34686514\n",
      " 0.34781137 0.34875592 0.3496938  0.35062804 0.35155662 0.35248389\n",
      " 0.35340074 0.35431154 0.35522103 0.35612658 0.35702646 0.35792106\n",
      " 0.35881144 0.35969942 0.36058164 0.36146099 0.362336   0.36321014\n",
      " 0.36408312 0.36494511 0.36580701 0.36666127 0.36751327 0.36836148\n",
      " 0.36920565 0.37004565 0.37088179 0.37171308 0.37254089 0.37336369\n",
      " 0.37418429 0.37500081 0.37581449 0.37662341 0.37742637 0.37822669\n",
      " 0.37901959 0.37981048 0.38059484 0.3813781  0.3821554  0.38293028\n",
      " 0.38369933 0.38446612 0.3852298  0.3859867  0.38674171 0.38749485\n",
      " 0.38824443 0.38899224 0.38973403 0.39047374 0.39121161 0.39194528\n",
      " 0.39267858 0.39340894 0.3941326  0.39485394 0.39557206 0.39628796\n",
      " 0.39699881 0.3977069  0.39841291 0.39911621 0.39981762 0.40051621\n",
      " 0.40121129 0.40190481 0.40259775 0.40328905 0.40397283 0.40465534\n",
      " 0.40533508 0.40601072 0.40668263 0.40735185 0.40802004 0.40868495\n",
      " 0.40934728 0.41000749 0.41066477 0.41131493 0.41196431 0.41261271\n",
      " 0.41325856 0.41390285 0.41454485 0.41518423 0.41582196 0.41645565\n",
      " 0.41708587 0.41771373 0.41834002 0.41896352 0.41958511 0.42020421\n",
      " 0.4208228  0.42143801 0.42205259 0.42266343 0.42327091 0.42387661\n",
      " 0.42447837 0.42507953 0.42567839 0.42627476 0.42686898 0.42746106\n",
      " 0.42805054 0.42863837 0.42922469 0.42980867 0.43039109 0.43097138\n",
      " 0.4315486  0.43212397 0.432697   0.43326785 0.43383731 0.43440556\n",
      " 0.43497265 0.43553901 0.43610353 0.43666469 0.43722422 0.43778192\n",
      " 0.43833917 0.43889292 0.43944564 0.43999678 0.44054572 0.44109226\n",
      " 0.44163618 0.44217846 0.44271823 0.44325685 0.44379457 0.44432762\n",
      " 0.4448604  0.44539022 0.44591926 0.44644717 0.44697258 0.44749705\n",
      " 0.44801959 0.44854099 0.44905906 0.44957629 0.45009227 0.45060698\n",
      " 0.45112028 0.45163174 0.4521408  0.4526497  0.45315749 0.45366466\n",
      " 0.45417017 0.45467222 0.45517295 0.45567329 0.45617285 0.45667128\n",
      " 0.45716782 0.45766207 0.45815322 0.45864403 0.45913445 0.45962226\n",
      " 0.46010911 0.46059508 0.46107873 0.46156074 0.4620423  0.4625228\n",
      " 0.46300011 0.46347631 0.46395148 0.4644254  0.46489774 0.46536921\n",
      " 0.46583858 0.46630679 0.46677456 0.46724019 0.46770536 0.46816951\n",
      " 0.46863191 0.46909315 0.46955185 0.47000854 0.47046493 0.47092067\n",
      " 0.47137542 0.47182923 0.47228219 0.47273332 0.47318308 0.47363146\n",
      " 0.47407841 0.47452454 0.4749687  0.47541207 0.47585414 0.47629445\n",
      " 0.47673407 0.47717179 0.4776082  0.47804332 0.47847793 0.4789108\n",
      " 0.4793433  0.47977452 0.4802049  0.48063396 0.48106231 0.48148707\n",
      " 0.48191131 0.48233479 0.48275715 0.48317896 0.48359868 0.48401681\n",
      " 0.48443487 0.48485238 0.48526948 0.4856858  0.48610004 0.4865135\n",
      " 0.48692493 0.48733589 0.48774626 0.48815542 0.48856404 0.48897031\n",
      " 0.489376   0.48978126 0.4901847  0.49058676 0.4909886  0.49138899\n",
      " 0.49178838 0.4921858  0.49258288 0.4929787  0.49337413 0.49376848\n",
      " 0.49416112 0.49455306 0.49494502 0.49533541 0.49572409 0.49611248\n",
      " 0.49649966 0.4968852  0.4972698  0.49765311 0.4980355  0.49841617\n",
      " 0.49879643 0.49917572 0.49955396 0.49993159 0.50030902 0.50068568\n",
      " 0.50106167 0.50143525 0.50180819 0.50217976 0.502551   0.50292137\n",
      " 0.50329039 0.50365928 0.50402706 0.50439322 0.50475897 0.50512333\n",
      " 0.50548682 0.50584899 0.50621042 0.50657115 0.50693025 0.50728904\n",
      " 0.50764702 0.50800468 0.50836128 0.50871589 0.50906991 0.5094236\n",
      " 0.50977601 0.51012752 0.51047841 0.51082851 0.51117847 0.51152797\n",
      " 0.51187531 0.51222188 0.51256825 0.51291359 0.51325745 0.51360077\n",
      " 0.51394313 0.5142841  0.51462434 0.51496428 0.515304   0.51564313\n",
      " 0.51598128 0.51631886 0.51665487 0.51699057 0.51732488 0.51765884\n",
      " 0.51799209 0.51832472 0.51865638 0.51898688 0.51931674 0.51964587\n",
      " 0.51997468 0.52030226 0.52062894 0.52095531 0.52128042 0.52160511\n",
      " 0.52192834 0.52225033 0.52257168 0.52289259 0.52321328 0.52353332\n",
      " 0.52385221 0.52417047 0.5244884  0.5248056  0.52512227 0.52543812\n",
      " 0.52575355 0.52606826 0.52638239 0.52669595 0.52700808 0.5273195\n",
      " 0.52762989 0.52793996 0.52824885 0.52855696 0.52886451 0.52917172\n",
      " 0.52947737 0.5297827  0.5300871  0.53039108 0.53069473 0.53099718\n",
      " 0.53129911 0.53160067 0.53190102 0.53220097 0.53250017 0.5327987\n",
      " 0.53309607 0.5333929  0.53368921 0.53398449 0.53427964 0.53457431\n",
      " 0.53486819 0.53516128 0.53545359 0.53574544 0.5360358  0.53632538\n",
      " 0.5366146  0.5369032  0.53719065 0.53747733 0.5377638  0.53805022\n",
      " 0.53833572 0.53862083 0.53890487 0.53918855 0.53947197 0.53975425\n",
      " 0.54003558 0.54031676 0.54059694 0.54087604 0.54115421 0.54143144\n",
      " 0.54170845 0.54198473 0.54225989 0.54253484 0.54280915 0.54308283\n",
      " 0.5433557  0.54362755 0.54389782 0.5441681  0.54443801 0.54470698\n",
      " 0.54497534 0.54524345 0.54551043 0.54577688 0.54604299 0.54630859\n",
      " 0.546573   0.54683724 0.54710071 0.54736324 0.54762554 0.54788704\n",
      " 0.54814821 0.54840851 0.54866839 0.54892753 0.54918641 0.54944419\n",
      " 0.54970091 0.54995757 0.55021297 0.55046809 0.55072171 0.55097506\n",
      " 0.55122823 0.55148119 0.55173325 0.55198454 0.55223523 0.55248501\n",
      " 0.55273408 0.55298288 0.5532314  0.5534792  0.55372638 0.55397228\n",
      " 0.55421797 0.55446316 0.55470767 0.55495067 0.55519324 0.55543495\n",
      " 0.5556763  0.55591691 0.55615707 0.55639663 0.55663597 0.55687423\n",
      " 0.55711057 0.55734638 0.55758144 0.55781593 0.55804982 0.55828296\n"
     ]
    },
    {
     "name": "stdout",
     "output_type": "stream",
     "text": [
      " 0.55851492 0.55874612 0.55897659 0.55920561 0.55943382 0.55966174]\n"
     ]
    }
   ],
   "source": [
    "#using bigrams\n",
    "d_train_bg_dense=svd_m.fit_transform(dv_train)\n",
    "print (svd_m.explained_variance_ratio_)\n",
    "print (svd_m.explained_variance_ratio_.cumsum())"
   ]
  },
  {
   "cell_type": "code",
   "execution_count": 9,
   "metadata": {},
   "outputs": [],
   "source": [
    "d_test_bg_dense=svd_m.transform(d_test_bg)"
   ]
  },
  {
   "cell_type": "markdown",
   "metadata": {},
   "source": [
    "## [18.2.3] KNN (Brute-Force)"
   ]
  },
  {
   "cell_type": "code",
   "execution_count": 29,
   "metadata": {},
   "outputs": [
    {
     "name": "stdout",
     "output_type": "stream",
     "text": [
      "\n",
      "The optimal number of neighbors is 11.\n"
     ]
    },
    {
     "data": {
      "image/png": "[encoded data removed]",
      "text/plain": [
       "<Figure size 432x288 with 1 Axes>"
      ]
     },
     "metadata": {},
     "output_type": "display_data"
    },
    {
     "name": "stdout",
     "output_type": "stream",
     "text": [
      "the misclassification error for each k value is :  [0.138 0.11  0.107 0.107 0.107 0.107 0.107 0.107 0.107 0.108 0.108 0.108\n",
      " 0.108 0.108 0.108 0.108 0.108 0.108 0.108 0.108 0.108 0.108 0.108 0.108\n",
      " 0.108]\n"
     ]
    }
   ],
   "source": [
    "from sklearn.model_selection import cross_val_score as cval_score\n",
    "from sklearn.neighbors import KNeighborsClassifier\n",
    "\n",
    "# creating odd list of K for KNN\n",
    "myList = list(range(0,50))\n",
    "neighbors = list(filter(lambda x: x % 2 != 0, myList))\n",
    "\n",
    "# empty list that will hold cv scores\n",
    "cv_scores = []\n",
    "\n",
    "# perform 10-fold cross validation\n",
    "for k in neighbors:\n",
    "    knn_brute = KNeighborsClassifier(n_neighbors=k,algorithm='brute')\n",
    "    scores = cval_score(knn_brute, d_train,y_train, cv=10, scoring='accuracy')\n",
    "    cv_scores.append(scores.mean())\n",
    "\n",
    "# changing to misclassification error\n",
    "MSE = [1 - x for x in cv_scores]\n",
    "\n",
    "# determining best k\n",
    "optimal_k = neighbors[MSE.index(min(MSE))]\n",
    "print('\\nThe optimal number of neighbors is %d.' % optimal_k)\n",
    "\n",
    "# plot misclassification error vs k \n",
    "plt.plot(neighbors, MSE)\n",
    "\n",
    "for xy in zip(neighbors, np.round(MSE,3)):\n",
    "    plt.annotate('(%s, %s)' % xy, xy=xy, textcoords='data')\n",
    "\n",
    "plt.xlabel('Number of Neighbors K')\n",
    "plt.ylabel('Misclassification Error')\n",
    "plt.show()\n",
    "\n",
    "print(\"the misclassification error for each k value is : \", np.round(MSE,3))"
   ]
  },
  {
   "cell_type": "code",
   "execution_count": 12,
   "metadata": {},
   "outputs": [
    {
     "name": "stdout",
     "output_type": "stream",
     "text": [
      "Train error is 10.571\n"
     ]
    }
   ],
   "source": [
    "knn_optimal = KNeighborsClassifier(n_neighbors=optimal_k,algorithm='brute')\n",
    "knn_optimal.fit(d_train,y_train)\n",
    "#for train error\n",
    "y_true, y_pred = y_train, knn_optimal.predict(d_train)\n",
    "tn, fp, fn, tp = confusion_matrix(y_true, y_pred).ravel()\n",
    "print(\"Train error is %.3f\" %((fp+fn)/140))\n",
    "\n",
    "#for test error\n",
    "y_true, y_pred = y_test, knn_optimal.predict(d_test)\n",
    "cm=confusion_matrix(y_true, y_pred)"
   ]
  },
  {
   "cell_type": "code",
   "execution_count": 44,
   "metadata": {},
   "outputs": [
    {
     "name": "stdout",
     "output_type": "stream",
     "text": [
      "\n",
      "The value of TPR is 0.999\n",
      "The value of TNR is 0.012\n",
      "The value of FPR is 0.988\n",
      "The value of FNR is 0.001\n",
      "\n",
      "Test error is 11.000\n"
     ]
    },
    {
     "data": {
      "image/png": "[encoded data removed]",
      "text/plain": [
       "<Figure size 432x288 with 2 Axes>"
      ]
     },
     "metadata": {},
     "output_type": "display_data"
    }
   ],
   "source": [
    "ax=sns.heatmap(cm,annot=True,fmt=\"d\")\n",
    "ax.set(xlabel='Predicted', ylabel='Actual')\n",
    "print()\n",
    "tn, fp, fn, tp = confusion_matrix(y_true, y_pred).ravel()\n",
    "print(\"The value of TPR is %.3f\" %(tp/(fn+tp)) +\n",
    "      \"\\nThe value of TNR is %.3f\" %(tn/(tn+fp)) +\n",
    "     \"\\nThe value of FPR is %.3f\" %(fp/(tn+fp)) +\n",
    "     \"\\nThe value of FNR is %.3f\" %(fn/(fn+tp)) )\n",
    "print()\n",
    "\n",
    "print(\"Test error is %.3f\" %((fp+fn)/60))\n"
   ]
  },
  {
   "cell_type": "markdown",
   "metadata": {},
   "source": [
    "### Using Bigrams"
   ]
  },
  {
   "cell_type": "code",
   "execution_count": 32,
   "metadata": {},
   "outputs": [
    {
     "name": "stdout",
     "output_type": "stream",
     "text": [
      "\n",
      "The optimal number of neighbors is 9.\n"
     ]
    },
    {
     "data": {
      "image/png": "[encoded data removed]",
      "text/plain": [
       "<Figure size 432x288 with 1 Axes>"
      ]
     },
     "metadata": {},
     "output_type": "display_data"
    },
    {
     "name": "stdout",
     "output_type": "stream",
     "text": [
      "the misclassification error for each k value is :  [0.124 0.11  0.107 0.107 0.107 0.108 0.108 0.108 0.108 0.108 0.108 0.108\n",
      " 0.108 0.108 0.108 0.108 0.108 0.108 0.108 0.108 0.108 0.108 0.108 0.108\n",
      " 0.108]\n"
     ]
    }
   ],
   "source": [
    "# creating odd list of K for KNN\n",
    "myList = list(range(0,50))\n",
    "neighbors = list(filter(lambda x: x % 2 != 0, myList))\n",
    "\n",
    "# empty list that will hold cv scores\n",
    "cv_scores = []\n",
    "\n",
    "# perform 10-fold cross validation\n",
    "for k in neighbors:\n",
    "    knn_brute = KNeighborsClassifier(n_neighbors=k,algorithm='brute')\n",
    "    scores = cval_score(knn_brute, d_train_bg,y_train, cv=10, scoring='accuracy')\n",
    "    cv_scores.append(scores.mean())\n",
    "\n",
    "# changing to misclassification error\n",
    "MSE = [1 - x for x in cv_scores]\n",
    "\n",
    "# determining best k\n",
    "optimal_k = neighbors[MSE.index(min(MSE))]\n",
    "print('\\nThe optimal number of neighbors is %d.' % optimal_k)\n",
    "\n",
    "# plot misclassification error vs k \n",
    "plt.plot(neighbors, MSE)\n",
    "\n",
    "for xy in zip(neighbors, np.round(MSE,3)):\n",
    "    plt.annotate('(%s, %s)' % xy, xy=xy, textcoords='data')\n",
    "\n",
    "plt.xlabel('Number of Neighbors K')\n",
    "plt.ylabel('Misclassification Error')\n",
    "plt.show()\n",
    "\n",
    "print(\"the misclassification error for each k value is : \", np.round(MSE,3))"
   ]
  },
  {
   "cell_type": "code",
   "execution_count": 48,
   "metadata": {},
   "outputs": [
    {
     "name": "stdout",
     "output_type": "stream",
     "text": [
      "Train error is 10.657\n"
     ]
    }
   ],
   "source": [
    "knn_optimal = KNeighborsClassifier(n_neighbors=optimal_k,algorithm='brute')\n",
    "knn_optimal.fit(d_train_bg,y_train)\n",
    "#for train error\n",
    "y_true, y_pred = y_train, knn_optimal.predict(d_train_bg)\n",
    "tn, fp, fn, tp = confusion_matrix(y_true, y_pred).ravel()\n",
    "print(\"Train error is %.3f\" %((fp+fn)/140))\n",
    "\n",
    "#for test error\n",
    "y_true, y_pred = y_test, knn_optimal.predict(d_test_bg)\n",
    "cm=confusion_matrix(y_true, y_pred)"
   ]
  },
  {
   "cell_type": "code",
   "execution_count": 50,
   "metadata": {},
   "outputs": [
    {
     "name": "stdout",
     "output_type": "stream",
     "text": [
      "\n",
      "The value of TPR is 1.000\n",
      "The value of TNR is 0.011\n",
      "The value of FPR is 0.989\n",
      "The value of FNR is 0.000\n",
      "\n",
      "Test error is 10.967\n"
     ]
    },
    {
     "data": {
      "image/png": "[encoded data removed]",
      "text/plain": [
       "<Figure size 432x288 with 2 Axes>"
      ]
     },
     "metadata": {},
     "output_type": "display_data"
    }
   ],
   "source": [
    "ax=sns.heatmap(cm,annot=True,fmt=\"d\")\n",
    "ax.set(xlabel='Predicted', ylabel='Actual')\n",
    "print()\n",
    "tn, fp, fn, tp = confusion_matrix(y_true, y_pred).ravel()\n",
    "print(\"The value of TPR is %.3f\" %(tp/(fn+tp)) +\n",
    "      \"\\nThe value of TNR is %.3f\" %(tn/(tn+fp)) +\n",
    "     \"\\nThe value of FPR is %.3f\" %(fp/(tn+fp)) +\n",
    "     \"\\nThe value of FNR is %.3f\" %(fn/(fn+tp)) )\n",
    "print()\n",
    "print(\"Test error is %.3f\" %((fp+fn)/60))"
   ]
  },
  {
   "cell_type": "markdown",
   "metadata": {},
   "source": [
    "## [18.2.4] KNN (KD-Tree)"
   ]
  },
  {
   "cell_type": "code",
   "execution_count": 14,
   "metadata": {},
   "outputs": [
    {
     "name": "stdout",
     "output_type": "stream",
     "text": [
      "1\n",
      "3\n",
      "5\n",
      "7\n",
      "9\n",
      "11\n",
      "13\n",
      "15\n",
      "17\n",
      "19\n",
      "21\n",
      "23\n",
      "25\n",
      "27\n",
      "29\n",
      "31\n",
      "33\n",
      "35\n",
      "37\n",
      "39\n",
      "41\n",
      "43\n",
      "45\n",
      "47\n",
      "49\n",
      "\n",
      "The optimal number of neighbors is 7.\n"
     ]
    },
    {
     "data": {
      "image/png": "[encoded data removed]",
      "text/plain": [
       "<Figure size 432x288 with 1 Axes>"
      ]
     },
     "metadata": {},
     "output_type": "display_data"
    },
    {
     "name": "stdout",
     "output_type": "stream",
     "text": [
      "the misclassification error for each k value is :  [0.15  0.114 0.109 0.107 0.108 0.108 0.108 0.108 0.108 0.108 0.108 0.108\n",
      " 0.108 0.108 0.108 0.108 0.108 0.108 0.108 0.108 0.108 0.108 0.108 0.108\n",
      " 0.108]\n"
     ]
    }
   ],
   "source": [
    "from sklearn.model_selection import cross_val_score as cval_score\n",
    "from sklearn.neighbors import KNeighborsClassifier\n",
    "\n",
    "\n",
    "# creating odd list of K for KNN\n",
    "myList = list(range(0,50))\n",
    "neighbors = list(filter(lambda x: x % 2 != 0, myList))\n",
    "\n",
    "# empty list that will hold cv scores\n",
    "cv_scores = []\n",
    "\n",
    "# perform 2-fold cross validation\n",
    "for k in neighbors:\n",
    "    knn_kd = KNeighborsClassifier(n_neighbors=k,algorithm='kd_tree')\n",
    "    print(k)\n",
    "    scores_kd = cval_score(knn_kd, d_train_dense,y_train, cv=2, scoring='accuracy')\n",
    "    cv_scores.append(scores_kd.mean())\n",
    "\n",
    "# changing to misclassification error\n",
    "MSE = [1 - x for x in cv_scores]\n",
    "\n",
    "# determining best k\n",
    "optimal_k = neighbors[MSE.index(min(MSE))]\n",
    "print('\\nThe optimal number of neighbors is %d.' % optimal_k)\n",
    "\n",
    "# plot misclassification error vs k \n",
    "plt.plot(neighbors, MSE)\n",
    "\n",
    "for xy in zip(neighbors, np.round(MSE,3)):\n",
    "    plt.annotate('(%s, %s)' % xy, xy=xy, textcoords='data')\n",
    "\n",
    "plt.xlabel('Number of Neighbors K')\n",
    "plt.ylabel('Misclassification Error')\n",
    "plt.show()\n",
    "\n",
    "print(\"the misclassification error for each k value is : \", np.round(MSE,3))"
   ]
  },
  {
   "cell_type": "code",
   "execution_count": 18,
   "metadata": {},
   "outputs": [
    {
     "name": "stdout",
     "output_type": "stream",
     "text": [
      "Train error is 10.036\n"
     ]
    }
   ],
   "source": [
    "knn_kd_optimal = KNeighborsClassifier(n_neighbors=7,algorithm='kd_tree')\n",
    "knn_kd_optimal.fit(d_train_dense,y_train)\n",
    "#for train error\n",
    "y_true, y_pred = y_train, knn_kd_optimal.predict(d_train_dense)\n",
    "tn, fp, fn, tp = confusion_matrix(y_true, y_pred).ravel()\n",
    "print(\"Train error is %.3f\" %((fp+fn)/140))\n",
    "#for test error\n",
    "y_true, y_pred = y_test, knn_kd_optimal.predict(d_test_dense)\n",
    "cm=confusion_matrix(y_true, y_pred)"
   ]
  },
  {
   "cell_type": "code",
   "execution_count": 19,
   "metadata": {},
   "outputs": [
    {
     "name": "stdout",
     "output_type": "stream",
     "text": [
      "\n",
      "The value of TPR is 0.996\n",
      "The value of TNR is 0.039\n",
      "The value of FPR is 0.961\n",
      "The value of FNR is 0.004\n",
      "\n",
      "Test error is 10.967\n"
     ]
    },
    {
     "data": {
      "image/png": "[encoded data removed]",
      "text/plain": [
       "<Figure size 432x288 with 2 Axes>"
      ]
     },
     "metadata": {},
     "output_type": "display_data"
    }
   ],
   "source": [
    "ax=sns.heatmap(cm,annot=True,fmt=\"d\")\n",
    "ax.set(xlabel='Predicted', ylabel='True')\n",
    "print()\n",
    "tn, fp, fn, tp = confusion_matrix(y_true, y_pred).ravel()\n",
    "print(\"The value of TPR is %.3f\" %(tp/(fn+tp)) +\n",
    "      \"\\nThe value of TNR is %.3f\" %(tn/(tn+fp)) +\n",
    "     \"\\nThe value of FPR is %.3f\" %(fp/(tn+fp)) +\n",
    "     \"\\nThe value of FNR is %.3f\" %(fn/(fn+tp)) )\n",
    "print()\n",
    "print(\"Test error is %.3f\" %((fp+fn)/60))"
   ]
  },
  {
   "cell_type": "markdown",
   "metadata": {},
   "source": [
    "### Using Bigrams"
   ]
  },
  {
   "cell_type": "code",
   "execution_count": 11,
   "metadata": {},
   "outputs": [
    {
     "name": "stdout",
     "output_type": "stream",
     "text": [
      "1\n",
      "3\n",
      "5\n",
      "7\n",
      "9\n",
      "11\n",
      "13\n",
      "15\n",
      "17\n",
      "19\n",
      "21\n",
      "23\n",
      "25\n",
      "27\n",
      "29\n",
      "31\n",
      "33\n",
      "35\n",
      "37\n",
      "39\n",
      "41\n",
      "43\n",
      "45\n",
      "47\n",
      "49\n",
      "\n",
      "The optimal number of neighbors is 9.\n"
     ]
    },
    {
     "data": {
      "image/png": "[encoded data removed]",
      "text/plain": [
       "<Figure size 432x288 with 1 Axes>"
      ]
     },
     "metadata": {},
     "output_type": "display_data"
    },
    {
     "name": "stdout",
     "output_type": "stream",
     "text": [
      "the misclassification error for each k value is :  [0.161 0.122 0.11  0.107 0.106 0.107 0.106 0.106 0.107 0.107 0.107 0.107\n",
      " 0.107 0.107 0.107 0.107 0.107 0.107 0.107 0.107 0.108 0.108 0.108 0.108\n",
      " 0.108]\n"
     ]
    }
   ],
   "source": [
    "from sklearn.model_selection import cross_val_score as cval_score\n",
    "from sklearn.neighbors import KNeighborsClassifier\n",
    "\n",
    "# creating odd list of K for KNN\n",
    "myList = list(range(0,50))\n",
    "neighbors = list(filter(lambda x: x % 2 != 0, myList))\n",
    "\n",
    "# empty list that will hold cv scores\n",
    "cv_scores = []\n",
    "\n",
    "# perform 10-fold cross validation\n",
    "for k in neighbors:\n",
    "    print(k)\n",
    "    knn_kd = KNeighborsClassifier(n_neighbors=k,algorithm='kd_tree')\n",
    "    scores_kd = cval_score(knn_kd, d_train_bg_dense,y_train, cv=10, scoring='accuracy')\n",
    "    cv_scores.append(scores_kd.mean())\n",
    "\n",
    "# changing to misclassification error\n",
    "MSE = [1 - x for x in cv_scores]\n",
    "\n",
    "# determining best k\n",
    "optimal_k = neighbors[MSE.index(min(MSE))]\n",
    "print('\\nThe optimal number of neighbors is %d.' % optimal_k)\n",
    "\n",
    "# plot misclassification error vs k \n",
    "plt.plot(neighbors, MSE)\n",
    "\n",
    "for xy in zip(neighbors, np.round(MSE,3)):\n",
    "    plt.annotate('(%s, %s)' % xy, xy=xy, textcoords='data')\n",
    "\n",
    "plt.xlabel('Number of Neighbors K')\n",
    "plt.ylabel('Misclassification Error')\n",
    "plt.show()\n",
    "\n",
    "print(\"the misclassification error for each k value is : \", np.round(MSE,3))"
   ]
  },
  {
   "cell_type": "code",
   "execution_count": 12,
   "metadata": {},
   "outputs": [
    {
     "name": "stdout",
     "output_type": "stream",
     "text": [
      "Train error is 9.736\n"
     ]
    }
   ],
   "source": [
    "knn_kd_optimal = KNeighborsClassifier(n_neighbors=optimal_k,algorithm='kd_tree')\n",
    "knn_kd_optimal.fit(d_train_bg_dense,y_train)\n",
    "#for train error\n",
    "y_true, y_pred = y_train, knn_kd_optimal.predict(d_train_bg_dense)\n",
    "tn, fp, fn, tp = confusion_matrix(y_true, y_pred).ravel()\n",
    "print(\"Train error is %.3f\" %((fp+fn)/140))\n",
    "#for test error\n",
    "y_true, y_pred = y_test, knn_kd_optimal.predict(d_test_bg_dense)\n",
    "cm=confusion_matrix(y_true, y_pred)"
   ]
  },
  {
   "cell_type": "code",
   "execution_count": 13,
   "metadata": {},
   "outputs": [
    {
     "name": "stdout",
     "output_type": "stream",
     "text": [
      "\n",
      "The value of TPR is 0.995\n",
      "The value of TNR is 0.056\n",
      "The value of FPR is 0.944\n",
      "The value of FNR is 0.005\n",
      "\n",
      "Test error is 10.900\n"
     ]
    },
    {
     "data": {
      "image/png": "[encoded data removed]",
      "text/plain": [
       "<Figure size 432x288 with 2 Axes>"
      ]
     },
     "metadata": {},
     "output_type": "display_data"
    }
   ],
   "source": [
    "ax=sns.heatmap(cm,annot=True,fmt=\"d\")\n",
    "ax.set(xlabel='Predicted', ylabel='True')\n",
    "print()\n",
    "tn, fp, fn, tp = confusion_matrix(y_true, y_pred).ravel()\n",
    "print(\"The value of TPR is %.3f\" %(tp/(fn+tp)) +\n",
    "      \"\\nThe value of TNR is %.3f\" %(tn/(tn+fp)) +\n",
    "     \"\\nThe value of FPR is %.3f\" %(fp/(tn+fp)) +\n",
    "     \"\\nThe value of FNR is %.3f\" %(fn/(fn+tp)) )\n",
    "print()\n",
    "print(\"Test error is %.3f\" %((fp+fn)/60))"
   ]
  },
  {
   "cell_type": "markdown",
   "metadata": {},
   "source": [
    "**Observation :**\n",
    "The accuracy is almost same when we are using brute-foce KNN and KD-Tree KNN in both the cases i.e. while using bigrams & n-grams and when we are not using bigrams & n-grams."
   ]
  },
  {
   "cell_type": "markdown",
   "metadata": {},
   "source": [
    "# [18.3] TF-IDF"
   ]
  },
  {
   "cell_type": "code",
   "execution_count": 5,
   "metadata": {},
   "outputs": [],
   "source": [
    "#Build The Vocabulary\n",
    "tf_idf_vect = TfidfVectorizer()\n",
    "d_train=tf_idf_vect.fit_transform(dw_train['CleanedText'].values)"
   ]
  },
  {
   "cell_type": "code",
   "execution_count": 6,
   "metadata": {},
   "outputs": [
    {
     "name": "stdout",
     "output_type": "stream",
     "text": [
      "the type of count vectorizer  <class 'scipy.sparse.csr.csr_matrix'>\n",
      "the shape of train-text BOW vectorizer  (14000, 15632)\n",
      "the shape of test-text BOW vectorizer  (6000, 15632)\n"
     ]
    }
   ],
   "source": [
    "#Vectorize train and test data\n",
    "print(\"the type of count vectorizer \",type(d_train))\n",
    "print(\"the shape of train-text BOW vectorizer \",d_train.get_shape())\n",
    "\n",
    "d_test = tf_idf_vect.transform(dw_test['CleanedText'].values)\n",
    "print(\"the shape of test-text BOW vectorizer \",d_test.get_shape())"
   ]
  },
  {
   "cell_type": "markdown",
   "metadata": {},
   "source": [
    "### Using Bigrams ###"
   ]
  },
  {
   "cell_type": "code",
   "execution_count": 5,
   "metadata": {},
   "outputs": [],
   "source": [
    "##Build The Vocabulary using bi-grams and ngrams\n",
    "tf_idf_vect_ng = TfidfVectorizer(ngram_range=(1,2))\n",
    "d_train_ng=tf_idf_vect_ng.fit_transform(dw_train['CleanedText'].values)"
   ]
  },
  {
   "cell_type": "code",
   "execution_count": 6,
   "metadata": {},
   "outputs": [
    {
     "name": "stdout",
     "output_type": "stream",
     "text": [
      "the type of count vectorizer  <class 'scipy.sparse.csr.csr_matrix'>\n",
      "the shape of train-text BOW vectorizer  (14000, 281647)\n",
      "the shape of test-text BOW vectorizer  (14000, 281647)\n"
     ]
    }
   ],
   "source": [
    "#Vectorize train and test data\n",
    "\n",
    "print(\"the type of count vectorizer \",type(d_train_ng))\n",
    "print(\"the shape of train-text BOW vectorizer \",d_train_ng.get_shape())\n",
    "\n",
    "d_test_ng = tf_idf_vect_ng.transform(dw_test['CleanedText'].values)\n",
    "print(\"the shape of test-text BOW vectorizer \",d_train_ng.get_shape())"
   ]
  },
  {
   "cell_type": "markdown",
   "metadata": {},
   "source": [
    "## [18.3.1] ConVert Sparce Matrix To Dense Using TruncatedSVD"
   ]
  },
  {
   "cell_type": "code",
   "execution_count": 9,
   "metadata": {},
   "outputs": [],
   "source": [
    "svd = TruncatedSVD(n_components=4000, random_state=0)\n",
    "#without using bigram\n",
    "d_train_dense=svd.fit_transform(d_train)"
   ]
  },
  {
   "cell_type": "code",
   "execution_count": 10,
   "metadata": {},
   "outputs": [
    {
     "name": "stdout",
     "output_type": "stream",
     "text": [
      "[3.34695510e-03 1.05892243e-02 7.52687142e-03 ... 2.71112219e-05\n",
      " 2.70664296e-05 2.69988762e-05]\n",
      "[0.00334696 0.01393618 0.02146305 ... 0.93827056 0.93829763 0.93832463]\n"
     ]
    }
   ],
   "source": [
    "print (svd.explained_variance_ratio_)\n",
    "print (svd.explained_variance_ratio_.cumsum())"
   ]
  },
  {
   "cell_type": "markdown",
   "metadata": {},
   "source": [
    "Variance of 94% is retained with dimension equal to 4000."
   ]
  },
  {
   "cell_type": "code",
   "execution_count": 11,
   "metadata": {},
   "outputs": [],
   "source": [
    "d_test_dense=svd.transform(d_test)"
   ]
  },
  {
   "cell_type": "code",
   "execution_count": 7,
   "metadata": {},
   "outputs": [],
   "source": [
    "dv_train=d_train_ng[:20000]\n",
    "svd_m = TruncatedSVD(n_components=700, random_state=0)"
   ]
  },
  {
   "cell_type": "code",
   "execution_count": 8,
   "metadata": {},
   "outputs": [
    {
     "name": "stdout",
     "output_type": "stream",
     "text": [
      "[0.00107144 0.00337399 0.00231914 0.00162754 0.00149142 0.00142097\n",
      " 0.00129976 0.00121034 0.00116515 0.00114128 0.00110561 0.0010996\n",
      " 0.0010388  0.00099458 0.00098735 0.00097283 0.00096465 0.00094027\n",
      " 0.00091868 0.00090752 0.00088248 0.00086171 0.00083861 0.00083053\n",
      " 0.00080008 0.00078783 0.00077507 0.00076554 0.00076495 0.00076079\n",
      " 0.00074925 0.00073854 0.0007333  0.00072899 0.00071422 0.00070221\n",
      " 0.00070068 0.00069347 0.0006893  0.00068609 0.00067511 0.00067336\n",
      " 0.00066162 0.00065829 0.00064978 0.00064089 0.00063908 0.00063506\n",
      " 0.00062912 0.00062505 0.00062134 0.00061354 0.00060767 0.0006024\n",
      " 0.00059908 0.00059656 0.000589   0.00058459 0.000582   0.00057678\n",
      " 0.00057441 0.00057133 0.00056664 0.0005647  0.00055795 0.00055586\n",
      " 0.00055322 0.00055153 0.00054719 0.00054447 0.00053775 0.00053486\n",
      " 0.00053379 0.00053072 0.00052757 0.0005255  0.00052299 0.00051904\n",
      " 0.00051732 0.00051295 0.00051053 0.00050905 0.00050645 0.00050164\n",
      " 0.00050104 0.00049803 0.00049489 0.00049278 0.0004913  0.00048939\n",
      " 0.00048661 0.00048389 0.00048084 0.00047793 0.00047586 0.00047488\n",
      " 0.00046998 0.00046919 0.00046867 0.00046665 0.00046389 0.00046263\n",
      " 0.00046131 0.00045736 0.00045516 0.00045274 0.00044982 0.00044836\n",
      " 0.00044495 0.00044234 0.00044133 0.00043873 0.00043752 0.00043455\n",
      " 0.0004308  0.00042988 0.0004277  0.00042646 0.0004244  0.00042319\n",
      " 0.0004208  0.00042027 0.00041838 0.0004184  0.00041664 0.00041419\n",
      " 0.00040975 0.00040861 0.00040729 0.00040553 0.00040451 0.00040269\n",
      " 0.00040114 0.00040047 0.00039947 0.00039802 0.0003955  0.00039473\n",
      " 0.00039298 0.00039183 0.00038959 0.00038708 0.00038659 0.00038613\n",
      " 0.00038397 0.00038326 0.00038261 0.00038138 0.00037877 0.00037823\n",
      " 0.00037799 0.0003742  0.00037309 0.00037225 0.00037078 0.00037043\n",
      " 0.00036937 0.00036832 0.00036578 0.0003655  0.000364   0.0003632\n",
      " 0.00036152 0.0003613  0.00036041 0.00035971 0.00035851 0.00035781\n",
      " 0.00035562 0.00035522 0.00035447 0.00035419 0.00035274 0.00035227\n",
      " 0.00035162 0.00034998 0.0003498  0.00034956 0.00034816 0.00034689\n",
      " 0.00034647 0.0003453  0.00034427 0.00034337 0.0003431  0.00034246\n",
      " 0.00034113 0.00034087 0.00033876 0.00033825 0.0003377  0.00033643\n",
      " 0.00033572 0.00033474 0.00033423 0.00033312 0.0003322  0.00033036\n",
      " 0.00033024 0.00032911 0.00032877 0.0003279  0.00032764 0.00032693\n",
      " 0.00032618 0.00032506 0.00032442 0.00032405 0.00032353 0.00032297\n",
      " 0.00032157 0.00032079 0.00031977 0.00031955 0.00031854 0.00031757\n",
      " 0.00031649 0.00031616 0.00031506 0.00031393 0.00031358 0.00031297\n",
      " 0.00031164 0.00031094 0.0003108  0.00031029 0.00030969 0.00030882\n",
      " 0.00030845 0.00030779 0.00030723 0.00030651 0.00030567 0.00030524\n",
      " 0.00030438 0.00030386 0.00030349 0.0003023  0.00030207 0.00030178\n",
      " 0.00030121 0.00030044 0.00029958 0.00029889 0.00029838 0.00029755\n",
      " 0.00029702 0.00029677 0.00029622 0.00029548 0.00029477 0.00029461\n",
      " 0.00029377 0.0002928  0.00029264 0.00029176 0.00029083 0.00029028\n",
      " 0.00029011 0.00028929 0.00028882 0.00028817 0.00028745 0.00028653\n",
      " 0.00028625 0.00028588 0.00028486 0.00028425 0.00028392 0.00028333\n",
      " 0.00028266 0.0002822  0.00028192 0.00028071 0.00028039 0.00027936\n",
      " 0.0002789  0.00027834 0.00027793 0.00027771 0.00027739 0.00027693\n",
      " 0.00027639 0.00027597 0.00027564 0.00027489 0.00027446 0.00027382\n",
      " 0.00027319 0.00027306 0.00027259 0.00027184 0.00027166 0.00027082\n",
      " 0.00027061 0.00027025 0.00026982 0.00026901 0.00026875 0.00026827\n",
      " 0.00026778 0.00026694 0.00026673 0.00026633 0.00026592 0.00026493\n",
      " 0.00026439 0.00026388 0.00026349 0.00026301 0.00026255 0.00026228\n",
      " 0.00026171 0.00026148 0.00026127 0.0002612  0.00026038 0.00025962\n",
      " 0.00025931 0.00025908 0.00025889 0.00025866 0.00025805 0.00025688\n",
      " 0.00025664 0.00025643 0.00025593 0.00025526 0.00025509 0.00025479\n",
      " 0.00025403 0.00025347 0.00025317 0.00025294 0.0002525  0.00025208\n",
      " 0.00025176 0.00025088 0.00025075 0.00025054 0.00025012 0.0002497\n",
      " 0.00024913 0.00024887 0.00024805 0.00024757 0.00024715 0.00024653\n",
      " 0.00024632 0.00024578 0.00024534 0.00024521 0.00024508 0.00024446\n",
      " 0.00024416 0.00024378 0.00024331 0.00024267 0.00024251 0.00024237\n",
      " 0.00024168 0.00024163 0.00024095 0.00024065 0.00024061 0.00024006\n",
      " 0.0002397  0.0002393  0.00023902 0.00023876 0.00023834 0.00023797\n",
      " 0.00023761 0.00023667 0.00023623 0.00023598 0.00023585 0.0002358\n",
      " 0.00023549 0.00023524 0.00023457 0.00023395 0.00023382 0.00023341\n",
      " 0.00023299 0.00023293 0.00023244 0.00023208 0.000232   0.00023166\n",
      " 0.00023141 0.000231   0.0002301  0.0002299  0.00022919 0.00022894\n",
      " 0.00022883 0.00022857 0.00022802 0.00022774 0.00022749 0.000227\n",
      " 0.00022637 0.00022612 0.00022587 0.00022543 0.0002252  0.0002248\n",
      " 0.00022449 0.00022418 0.00022355 0.00022347 0.00022295 0.00022255\n",
      " 0.00022239 0.0002219  0.00022171 0.0002215  0.00022122 0.00022077\n",
      " 0.00022034 0.00022019 0.00021996 0.00021976 0.00021955 0.00021884\n",
      " 0.00021872 0.00021825 0.0002179  0.00021781 0.00021738 0.00021727\n",
      " 0.00021679 0.00021633 0.00021602 0.00021564 0.00021536 0.0002152\n",
      " 0.00021468 0.00021454 0.00021439 0.00021397 0.00021339 0.00021304\n",
      " 0.00021278 0.0002124  0.00021223 0.00021204 0.00021159 0.00021105\n",
      " 0.00021103 0.00021072 0.00021019 0.00021001 0.00020993 0.00020918\n",
      " 0.00020888 0.00020876 0.00020868 0.00020814 0.00020787 0.00020739\n",
      " 0.00020719 0.00020707 0.00020657 0.00020613 0.0002059  0.00020575\n",
      " 0.00020567 0.00020536 0.0002051  0.00020495 0.00020446 0.00020416\n",
      " 0.00020412 0.00020354 0.00020338 0.00020324 0.00020283 0.00020266\n",
      " 0.00020223 0.00020189 0.00020163 0.00020126 0.00020083 0.00020052\n",
      " 0.00020012 0.00019989 0.0001996  0.00019937 0.00019913 0.00019878\n",
      " 0.00019844 0.0001982  0.00019785 0.00019776 0.00019758 0.00019735\n",
      " 0.00019693 0.00019678 0.0001963  0.00019608 0.00019571 0.00019537\n",
      " 0.00019513 0.00019505 0.00019471 0.00019439 0.00019415 0.00019394\n",
      " 0.00019365 0.00019347 0.00019327 0.00019303 0.0001928  0.00019235\n",
      " 0.00019198 0.00019176 0.00019153 0.00019117 0.00019097 0.00019069\n",
      " 0.00019043 0.00019008 0.00018985 0.00018967 0.00018925 0.000189\n",
      " 0.00018891 0.00018839 0.00018824 0.000188   0.00018783 0.00018768\n",
      " 0.00018761 0.00018704 0.00018683 0.00018634 0.00018615 0.00018599\n",
      " 0.00018576 0.00018558 0.00018517 0.000185   0.00018446 0.00018429\n",
      " 0.00018425 0.00018377 0.0001835  0.00018333 0.00018294 0.00018261\n",
      " 0.0001825  0.00018208 0.00018192 0.00018175 0.00018118 0.00018107\n",
      " 0.00018086 0.0001804  0.00018012 0.00017995 0.00017987 0.00017956\n",
      " 0.00017954 0.0001793  0.00017883 0.00017867 0.00017856 0.00017808\n",
      " 0.00017778 0.00017765 0.00017731 0.00017725 0.000177   0.00017681\n",
      " 0.00017626 0.00017616 0.00017575 0.00017552 0.00017519 0.00017511\n",
      " 0.00017483 0.00017474 0.0001744  0.00017423 0.00017397 0.00017368\n",
      " 0.00017336 0.0001732  0.00017296 0.00017274 0.00017262 0.00017234\n",
      " 0.00017207 0.00017198 0.00017148 0.00017118 0.00017102 0.00017083\n",
      " 0.00017057 0.00017046 0.00017005 0.00016992 0.00016971 0.00016941\n",
      " 0.00016921 0.0001688  0.00016866 0.00016842 0.00016823 0.0001681\n",
      " 0.00016782 0.00016748 0.00016733 0.00016697 0.00016669 0.00016637\n",
      " 0.00016621 0.00016591 0.00016561 0.0001654  0.00016525 0.00016511\n",
      " 0.00016466 0.00016449 0.00016431 0.00016417 0.00016389 0.00016367\n",
      " 0.00016333 0.00016306 0.00016275 0.00016253 0.00016236 0.00016205\n",
      " 0.00016201 0.00016154 0.00016118 0.00016106 0.00016087 0.00016073\n",
      " 0.00016053 0.00016008 0.00015999 0.00015957 0.0001594  0.00015921\n",
      " 0.00015883 0.0001587  0.00015845 0.00015817 0.00015784 0.0001576\n",
      " 0.00015732 0.00015704 0.00015693 0.00015681 0.00015665 0.00015619\n",
      " 0.00015591 0.00015544 0.00015527 0.000155   0.00015489 0.00015466\n",
      " 0.00015432 0.00015404 0.00015395 0.00015351 0.00015335 0.00015324\n",
      " 0.00015278 0.00015275 0.00015234 0.0001521  0.00015164 0.00015152\n",
      " 0.00015143 0.00015105 0.00015039 0.00015002 0.0001499  0.00014983\n",
      " 0.0001496  0.00014914 0.00014897 0.00014876 0.00014821 0.00014791\n",
      " 0.00014773 0.00014746 0.00014708 0.00014653 0.000146   0.0001457\n",
      " 0.00014545 0.00014534 0.00014526 0.00014456]\n",
      "[0.00107144 0.00444543 0.00676458 0.00839211 0.00988353 0.0113045\n",
      " 0.01260426 0.0138146  0.01497976 0.01612103 0.01722664 0.01832624\n",
      " 0.01936505 0.02035963 0.02134698 0.02231981 0.02328446 0.02422472\n",
      " 0.0251434  0.02605093 0.02693341 0.02779511 0.02863372 0.02946425\n",
      " 0.03026433 0.03105216 0.03182723 0.03259276 0.03335771 0.03411851\n",
      " 0.03486775 0.03560629 0.03633959 0.03706858 0.0377828  0.03848501\n",
      " 0.0391857  0.03987917 0.04056847 0.04125456 0.04192967 0.04260303\n",
      " 0.04326465 0.04392294 0.04457272 0.04521361 0.04585268 0.04648774\n",
      " 0.04711686 0.04774191 0.04836325 0.04897679 0.04958446 0.05018686\n",
      " 0.05078593 0.0513825  0.05197149 0.05255608 0.05313808 0.05371486\n",
      " 0.05428927 0.05486059 0.05542723 0.05599193 0.05654988 0.05710574\n",
      " 0.05765896 0.05821049 0.05875768 0.05930215 0.05983989 0.06037475\n",
      " 0.06090853 0.06143926 0.06196683 0.06249233 0.06301532 0.06353436\n",
      " 0.06405167 0.06456463 0.06507516 0.06558421 0.06609066 0.06659231\n",
      " 0.06709334 0.06759138 0.06808627 0.06857905 0.06907034 0.06955973\n",
      " 0.07004634 0.07053023 0.07101107 0.071489   0.07196485 0.07243973\n",
      " 0.07290971 0.0733789  0.07384757 0.07431422 0.07477812 0.07524074\n",
      " 0.07570205 0.07615941 0.07661457 0.07706731 0.07751714 0.07796549\n",
      " 0.07841044 0.07885279 0.07929412 0.07973286 0.08017038 0.08060493\n",
      " 0.08103573 0.08146561 0.08189331 0.08231977 0.08274417 0.08316736\n",
      " 0.08358816 0.08400843 0.08442681 0.08484521 0.08526184 0.08567604\n",
      " 0.08608579 0.08649439 0.08690169 0.08730721 0.08771172 0.08811441\n",
      " 0.08851556 0.08891602 0.0893155  0.08971351 0.09010901 0.09050373\n",
      " 0.09089671 0.09128855 0.09167813 0.09206521 0.0924518  0.09283793\n",
      " 0.0932219  0.09360516 0.09398777 0.09436914 0.09474792 0.09512615\n",
      " 0.09550414 0.09587834 0.09625143 0.09662368 0.09699446 0.09736488\n",
      " 0.09773425 0.09810256 0.09846834 0.09883384 0.09919785 0.09956105\n",
      " 0.09992257 0.10028387 0.10064428 0.10100399 0.1013625  0.10172031\n",
      " 0.10207593 0.10243115 0.10278561 0.1031398  0.10349254 0.10384482\n",
      " 0.10419643 0.10454641 0.10489621 0.10524577 0.10559393 0.10594082\n",
      " 0.10628729 0.10663259 0.10697686 0.10732024 0.10766334 0.1080058\n",
      " 0.10834693 0.10868781 0.10902657 0.10936482 0.10970252 0.11003895\n",
      " 0.11037466 0.11070941 0.11104363 0.11137675 0.11170896 0.11203932\n",
      " 0.11236955 0.11269866 0.11302743 0.11335533 0.11368297 0.1140099\n",
      " 0.11433608 0.11466115 0.11498556 0.11530961 0.11563314 0.11595611\n",
      " 0.11627768 0.11659847 0.11691823 0.11723778 0.11755632 0.11787389\n",
      " 0.11819037 0.11850653 0.11882159 0.11913553 0.1194491  0.11976208\n",
      " 0.12007372 0.12038466 0.12069546 0.12100575 0.12131544 0.12162426\n",
      " 0.12193271 0.1222405  0.12254772 0.12285423 0.1231599  0.12346515\n",
      " 0.12376953 0.12407338 0.12437687 0.12467917 0.12498124 0.12528301\n",
      " 0.12558422 0.12588466 0.12618424 0.12648313 0.12678151 0.12707905\n",
      " 0.12737607 0.12767284 0.12796907 0.12826455 0.12855932 0.12885393\n",
      " 0.1291477  0.12944049 0.12973313 0.13002489 0.13031572 0.130606\n",
      " 0.13089611 0.1311854  0.13147422 0.1317624  0.13204985 0.13233638\n",
      " 0.13262263 0.13290851 0.13319337 0.13347761 0.13376153 0.13404486\n",
      " 0.13432752 0.13460972 0.13489165 0.13517235 0.13545275 0.1357321\n",
      " 0.13601101 0.13628935 0.13656727 0.13684498 0.13712237 0.1373993\n",
      " 0.13767569 0.13795166 0.1382273  0.13850219 0.13877666 0.13905047\n",
      " 0.13932366 0.13959672 0.13986931 0.14014115 0.14041281 0.14068363\n",
      " 0.14095424 0.1412245  0.14149432 0.14176332 0.14203207 0.14230035\n",
      " 0.14256813 0.14283507 0.1431018  0.14336813 0.14363405 0.14389898\n",
      " 0.14416337 0.14442725 0.14469074 0.14495375 0.1452163  0.14547858\n",
      " 0.14574029 0.14600177 0.14626305 0.14652425 0.14678463 0.14704425\n",
      " 0.14730356 0.14756264 0.14782152 0.14808018 0.14833823 0.14859511\n",
      " 0.14885175 0.14910817 0.1493641  0.14961937 0.14987446 0.15012925\n",
      " 0.15038328 0.15063675 0.15088992 0.15114286 0.15139536 0.15164744\n",
      " 0.1518992  0.15215008 0.15240083 0.15265137 0.15290148 0.15315119\n",
      " 0.15340031 0.15364919 0.15389724 0.15414482 0.15439197 0.1546385\n",
      " 0.15488482 0.1551306  0.15537594 0.15562115 0.15586623 0.15611068\n",
      " 0.15635485 0.15659863 0.15684194 0.15708461 0.15732712 0.15756949\n",
      " 0.15781117 0.1580528  0.15829374 0.15853439 0.158775   0.15901507\n",
      " 0.15925476 0.15949406 0.15973308 0.15997184 0.16021018 0.16044815\n",
      " 0.16068576 0.16092243 0.16115866 0.16139464 0.16163049 0.16186629\n",
      " 0.16210177 0.16233701 0.16257158 0.16280553 0.16303935 0.16327276\n",
      " 0.16350575 0.16373869 0.16397113 0.16420321 0.16443521 0.16466687\n",
      " 0.16489827 0.16512928 0.16535938 0.16558928 0.16581847 0.1660474\n",
      " 0.16627623 0.16650481 0.16673283 0.16696057 0.16718806 0.16741505\n",
      " 0.16764143 0.16786754 0.16809341 0.16831884 0.16854404 0.16876884\n",
      " 0.16899332 0.16921751 0.16944106 0.16966453 0.16988747 0.17011003\n",
      " 0.17033242 0.17055431 0.17077602 0.17099752 0.17121874 0.17143951\n",
      " 0.17165985 0.17188004 0.1721     0.17231976 0.17253931 0.17275815\n",
      " 0.17297687 0.17319512 0.17341302 0.17363083 0.17384821 0.17406547\n",
      " 0.17428226 0.17449859 0.17471462 0.17493026 0.17514562 0.17536083\n",
      " 0.17557551 0.17579005 0.17600444 0.17621842 0.17643181 0.17664485\n",
      " 0.17685763 0.17707003 0.17728226 0.1774943  0.17770589 0.17791694\n",
      " 0.17812797 0.17833869 0.17854888 0.17875889 0.17896882 0.17917799\n",
      " 0.17938687 0.17959564 0.17980432 0.18001246 0.18022033 0.18042772\n",
      " 0.18063491 0.18084198 0.18104855 0.18125468 0.18146059 0.18166633\n",
      " 0.18187201 0.18207736 0.18228247 0.18248741 0.18269187 0.18289604\n",
      " 0.18310016 0.18330369 0.18350707 0.18371031 0.18391314 0.1841158\n",
      " 0.18431803 0.18451992 0.18472155 0.18492281 0.18512364 0.18532416\n",
      " 0.18552428 0.18572417 0.18592378 0.18612315 0.18632227 0.18652105\n",
      " 0.1867195  0.1869177  0.18711555 0.18731331 0.18751089 0.18770824\n",
      " 0.18790517 0.18810195 0.18829825 0.18849433 0.18869004 0.18888542\n",
      " 0.18908055 0.1892756  0.18947031 0.1896647  0.18985885 0.19005279\n",
      " 0.19024645 0.19043991 0.19063318 0.19082621 0.19101901 0.19121136\n",
      " 0.19140334 0.1915951  0.19178663 0.1919778  0.19216877 0.19235946\n",
      " 0.19254989 0.19273997 0.19292982 0.19311949 0.19330873 0.19349773\n",
      " 0.19368665 0.19387504 0.19406328 0.19425128 0.19443911 0.19462679\n",
      " 0.1948144  0.19500143 0.19518826 0.1953746  0.19556076 0.19574675\n",
      " 0.19593251 0.19611809 0.19630327 0.19648826 0.19667272 0.19685701\n",
      " 0.19704126 0.19722502 0.19740852 0.19759185 0.19777479 0.1979574\n",
      " 0.1981399  0.19832198 0.1985039  0.19868565 0.19886683 0.19904791\n",
      " 0.19922876 0.19940917 0.19958929 0.19976924 0.19994911 0.20012867\n",
      " 0.20030821 0.20048751 0.20066634 0.20084501 0.20102357 0.20120165\n",
      " 0.20137943 0.20155708 0.20173438 0.20191163 0.20208864 0.20226545\n",
      " 0.20244171 0.20261787 0.20279362 0.20296914 0.20314432 0.20331943\n",
      " 0.20349427 0.20366901 0.20384341 0.20401764 0.20419162 0.2043653\n",
      " 0.20453866 0.20471186 0.20488482 0.20505756 0.20523018 0.20540251\n",
      " 0.20557458 0.20574656 0.20591804 0.20608922 0.20626024 0.20643108\n",
      " 0.20660165 0.20677211 0.20694216 0.20711209 0.2072818  0.20745121\n",
      " 0.20762042 0.20778922 0.20795788 0.2081263  0.20829453 0.20846263\n",
      " 0.20863045 0.20879794 0.20896526 0.20913223 0.20929892 0.20946529\n",
      " 0.2096315  0.20979741 0.20996303 0.21012842 0.21029367 0.21045878\n",
      " 0.21062343 0.21078792 0.21095223 0.2111164  0.21128029 0.21144396\n",
      " 0.21160729 0.21177035 0.21193311 0.21209563 0.21225799 0.21242004\n",
      " 0.21258205 0.21274359 0.21290477 0.21306583 0.2132267  0.21338742\n",
      " 0.21354795 0.21370803 0.21386802 0.21402759 0.21418699 0.2143462\n",
      " 0.21450502 0.21466372 0.21482218 0.21498035 0.21513819 0.21529578\n",
      " 0.2154531  0.21561014 0.21576708 0.21592388 0.21608053 0.21623672\n",
      " 0.21639263 0.21654807 0.21670334 0.21685834 0.21701322 0.21716788\n",
      " 0.2173222  0.21747624 0.21763019 0.2177837  0.21793705 0.21809029\n",
      " 0.21824306 0.21839581 0.21854815 0.21870025 0.21885189 0.21900342\n",
      " 0.21915485 0.2193059  0.21945629 0.21960631 0.21975621 0.21990605\n",
      " 0.22005565 0.22020479 0.22035376 0.22050251 0.22065073 0.22079864\n",
      " 0.22094638 0.22109384 0.22124091 0.22138744 0.22153344 0.22167915\n"
     ]
    },
    {
     "name": "stdout",
     "output_type": "stream",
     "text": [
      " 0.2218246  0.22196993 0.2221152  0.22225976]\n"
     ]
    }
   ],
   "source": [
    "#using bigrams\n",
    "d_train_ng_dense=svd_m.fit_transform(dv_train)\n",
    "print (svd_m.explained_variance_ratio_)\n",
    "print (svd_m.explained_variance_ratio_.cumsum())"
   ]
  },
  {
   "cell_type": "code",
   "execution_count": 9,
   "metadata": {},
   "outputs": [],
   "source": [
    "d_test_ng_dense=svd_m.transform(d_test_ng)"
   ]
  },
  {
   "cell_type": "markdown",
   "metadata": {},
   "source": [
    "## [18.3.4] KNN (Brute-Force)"
   ]
  },
  {
   "cell_type": "code",
   "execution_count": 7,
   "metadata": {},
   "outputs": [
    {
     "name": "stderr",
     "output_type": "stream",
     "text": [
      "100%|██████████████████████████████████████████████████████████████████████████████████| 25/25 [05:37<00:00, 13.99s/it]\n"
     ]
    },
    {
     "name": "stdout",
     "output_type": "stream",
     "text": [
      "\n",
      "The optimal number of neighbors is 7.\n"
     ]
    },
    {
     "data": {
      "image/png": "[encoded data removed]",
      "text/plain": [
       "<Figure size 432x288 with 1 Axes>"
      ]
     },
     "metadata": {},
     "output_type": "display_data"
    },
    {
     "name": "stdout",
     "output_type": "stream",
     "text": [
      "the misclassification error for each k value is :  [0.138 0.11  0.102 0.101 0.101 0.103 0.103 0.103 0.104 0.105 0.105 0.105\n",
      " 0.105 0.105 0.106 0.105 0.106 0.106 0.106 0.106 0.106 0.106 0.107 0.107\n",
      " 0.107]\n"
     ]
    }
   ],
   "source": [
    "from sklearn.model_selection import cross_val_score as cval_score\n",
    "from sklearn.neighbors import KNeighborsClassifier\n",
    "\n",
    "# creating odd list of K for KNN\n",
    "myList = list(range(0,50))\n",
    "neighbors = list(filter(lambda x: x % 2 != 0, myList))\n",
    "\n",
    "# empty list that will hold cv scores\n",
    "cv_scores = []\n",
    "\n",
    "# perform 10-fold cross validation\n",
    "for k in tqdm(neighbors):\n",
    "    knn_brute = KNeighborsClassifier(n_neighbors=k,algorithm='brute')\n",
    "    scores = cval_score(knn_brute, d_train,y_train, cv=10, scoring='accuracy')\n",
    "    cv_scores.append(scores.mean())\n",
    "\n",
    "# changing to misclassification error\n",
    "MSE = [1 - x for x in cv_scores]\n",
    "\n",
    "# determining best k\n",
    "optimal_k = neighbors[MSE.index(min(MSE))]\n",
    "print('\\nThe optimal number of neighbors is %d.' % optimal_k)\n",
    "\n",
    "# plot misclassification error vs k \n",
    "plt.plot(neighbors, MSE)\n",
    "\n",
    "for xy in zip(neighbors, np.round(MSE,3)):\n",
    "    plt.annotate('(%s, %s)' % xy, xy=xy, textcoords='data')\n",
    "\n",
    "plt.xlabel('Number of Neighbors K')\n",
    "plt.ylabel('Misclassification Error')\n",
    "plt.show()\n",
    "\n",
    "print(\"the misclassification error for each k value is : \", np.round(MSE,3))"
   ]
  },
  {
   "cell_type": "code",
   "execution_count": 13,
   "metadata": {},
   "outputs": [
    {
     "name": "stdout",
     "output_type": "stream",
     "text": [
      "Train error is 9.007\n"
     ]
    }
   ],
   "source": [
    "knn_optimal = KNeighborsClassifier(n_neighbors=optimal_k,algorithm='brute')\n",
    "knn_optimal.fit(d_train,y_train)\n",
    "#for train error\n",
    "y_true, y_pred = y_train, knn_optimal.predict(d_train)\n",
    "tn, fp, fn, tp = confusion_matrix(y_true, y_pred).ravel()\n",
    "print(\"Train error is %.3f\" %((fp+fn)/140))\n",
    "#for test error\n",
    "y_true, y_pred = y_test, knn_optimal.predict(d_test)\n",
    "cm=confusion_matrix(y_true, y_pred)"
   ]
  },
  {
   "cell_type": "code",
   "execution_count": 14,
   "metadata": {},
   "outputs": [
    {
     "name": "stdout",
     "output_type": "stream",
     "text": [
      "\n",
      "The value of TPR is 0.995\n",
      "The value of TNR is 0.119\n",
      "The value of FPR is 0.881\n",
      "The value of FNR is 0.005\n",
      "\n",
      "Test error is 10.183\n"
     ]
    },
    {
     "data": {
      "image/png": "[encoded data removed]",
      "text/plain": [
       "<Figure size 432x288 with 2 Axes>"
      ]
     },
     "metadata": {},
     "output_type": "display_data"
    }
   ],
   "source": [
    "ax=sns.heatmap(cm,annot=True,fmt=\"d\")\n",
    "ax.set(xlabel='Predicted', ylabel='True')\n",
    "print()\n",
    "tn, fp, fn, tp = confusion_matrix(y_true, y_pred).ravel()\n",
    "print(\"The value of TPR is %.3f\" %(tp/(fn+tp)) +\n",
    "      \"\\nThe value of TNR is %.3f\" %(tn/(tn+fp)) +\n",
    "     \"\\nThe value of FPR is %.3f\" %(fp/(tn+fp)) +\n",
    "     \"\\nThe value of FNR is %.3f\" %(fn/(fn+tp)) )\n",
    "print()\n",
    "print(\"Test error is %.3f\" %((fp+fn)/60))"
   ]
  },
  {
   "cell_type": "markdown",
   "metadata": {},
   "source": [
    "### Using Bigrams"
   ]
  },
  {
   "cell_type": "code",
   "execution_count": 15,
   "metadata": {},
   "outputs": [
    {
     "name": "stdout",
     "output_type": "stream",
     "text": [
      "\n",
      "The optimal number of neighbors is 7.\n"
     ]
    },
    {
     "data": {
      "image/png": "[encoded data removed]",
      "text/plain": [
       "<Figure size 432x288 with 1 Axes>"
      ]
     },
     "metadata": {},
     "output_type": "display_data"
    },
    {
     "name": "stdout",
     "output_type": "stream",
     "text": [
      "the misclassification error for each k value is :  [0.14  0.108 0.102 0.1   0.101 0.101 0.102 0.102 0.103 0.103 0.103 0.104\n",
      " 0.104 0.105 0.105 0.105 0.106 0.106 0.106 0.106 0.106 0.107 0.107 0.106\n",
      " 0.106]\n"
     ]
    }
   ],
   "source": [
    "from sklearn.model_selection import cross_val_score as cval_score\n",
    "from sklearn.neighbors import KNeighborsClassifier\n",
    "\n",
    "# creating odd list of K for KNN\n",
    "myList = list(range(0,50))\n",
    "neighbors = list(filter(lambda x: x % 2 != 0, myList))\n",
    "\n",
    "# empty list that will hold cv scores\n",
    "cv_scores = []\n",
    "\n",
    "# perform 10-fold cross validation\n",
    "for k in neighbors:\n",
    "    knn_brute = KNeighborsClassifier(n_neighbors=k,algorithm='brute')\n",
    "    scores = cval_score(knn_brute, d_train_ng,y_train, cv=10, scoring='accuracy')\n",
    "    cv_scores.append(scores.mean())\n",
    "\n",
    "# changing to misclassification error\n",
    "MSE = [1 - x for x in cv_scores]\n",
    "\n",
    "# determining best k\n",
    "optimal_k = neighbors[MSE.index(min(MSE))]\n",
    "print('\\nThe optimal number of neighbors is %d.' % optimal_k)\n",
    "\n",
    "# plot misclassification error vs k \n",
    "plt.plot(neighbors, MSE)\n",
    "\n",
    "for xy in zip(neighbors, np.round(MSE,3)):\n",
    "    plt.annotate('(%s, %s)' % xy, xy=xy, textcoords='data')\n",
    "\n",
    "plt.xlabel('Number of Neighbors K')\n",
    "plt.ylabel('Misclassification Error')\n",
    "plt.show()\n",
    "\n",
    "print(\"the misclassification error for each k value is : \", np.round(MSE,3))"
   ]
  },
  {
   "cell_type": "code",
   "execution_count": 16,
   "metadata": {},
   "outputs": [
    {
     "name": "stdout",
     "output_type": "stream",
     "text": [
      "Train error is 8.857\n"
     ]
    }
   ],
   "source": [
    "knn_optimal = KNeighborsClassifier(n_neighbors=optimal_k,algorithm='brute')\n",
    "knn_optimal.fit(d_train_ng,y_train)\n",
    "#for train error\n",
    "y_true, y_pred = y_train, knn_optimal.predict(d_train_ng)\n",
    "tn, fp, fn, tp = confusion_matrix(y_true, y_pred).ravel()\n",
    "print(\"Train error is %.3f\" %((fp+fn)/140))\n",
    "#for test error\n",
    "y_true, y_pred = y_test, knn_optimal.predict(d_test_ng)\n",
    "cm=confusion_matrix(y_true, y_pred)"
   ]
  },
  {
   "cell_type": "code",
   "execution_count": 17,
   "metadata": {},
   "outputs": [
    {
     "name": "stdout",
     "output_type": "stream",
     "text": [
      "\n",
      "The value of TPR is 0.994\n",
      "The value of TNR is 0.119\n",
      "The value of FPR is 0.881\n",
      "The value of FNR is 0.006\n",
      "\n",
      "Test error is 10.283\n"
     ]
    },
    {
     "data": {
      "image/png": "[encoded data removed]",
      "text/plain": [
       "<Figure size 432x288 with 2 Axes>"
      ]
     },
     "metadata": {},
     "output_type": "display_data"
    }
   ],
   "source": [
    "ax=sns.heatmap(cm,annot=True,fmt=\"d\")\n",
    "ax.set(xlabel='Predicted', ylabel='True')\n",
    "print()\n",
    "tn, fp, fn, tp = confusion_matrix(y_true, y_pred).ravel()\n",
    "print(\"The value of TPR is %.3f\" %(tp/(fn+tp)) +\n",
    "      \"\\nThe value of TNR is %.3f\" %(tn/(tn+fp)) +\n",
    "     \"\\nThe value of FPR is %.3f\" %(fp/(tn+fp)) +\n",
    "     \"\\nThe value of FNR is %.3f\" %(fn/(fn+tp)) )\n",
    "print()\n",
    "print(\"Test error is %.3f\" %((fp+fn)/60))"
   ]
  },
  {
   "cell_type": "markdown",
   "metadata": {},
   "source": [
    "## [18.3.5] KNN (KD-Tree)"
   ]
  },
  {
   "cell_type": "code",
   "execution_count": 12,
   "metadata": {},
   "outputs": [
    {
     "name": "stderr",
     "output_type": "stream",
     "text": [
      "100%|███████████████████████████████████████████████████████████████████████████████| 25/25 [6:03:45<00:00, 861.37s/it]\n"
     ]
    },
    {
     "name": "stdout",
     "output_type": "stream",
     "text": [
      "\n",
      "The optimal number of neighbors is 7.\n"
     ]
    },
    {
     "data": {
      "image/png": "[encoded data removed]",
      "text/plain": [
       "<Figure size 432x288 with 1 Axes>"
      ]
     },
     "metadata": {},
     "output_type": "display_data"
    },
    {
     "name": "stdout",
     "output_type": "stream",
     "text": [
      "the misclassification error for each k value is :  [0.152 0.114 0.104 0.102 0.103 0.103 0.105 0.105 0.106 0.106 0.106 0.106\n",
      " 0.107 0.107 0.107 0.107 0.107 0.107 0.107 0.107 0.107 0.108 0.108 0.107\n",
      " 0.107]\n"
     ]
    }
   ],
   "source": [
    "from sklearn.model_selection import cross_val_score as cval_score\n",
    "from sklearn.neighbors import KNeighborsClassifier\n",
    "\n",
    "# creating odd list of K for KNN\n",
    "myList = list(range(0,50))\n",
    "neighbors = list(filter(lambda x: x % 2 != 0, myList))\n",
    "\n",
    "# empty list that will hold cv scores\n",
    "cv_scores = []\n",
    "\n",
    "# perform 10-fold cross validation\n",
    "for k in tqdm(neighbors):\n",
    "    knn_kd = KNeighborsClassifier(n_neighbors=k,algorithm='kd_tree')\n",
    "    scores_kd = cval_score(knn_kd, d_train_dense,y_train, cv=2, scoring='accuracy')\n",
    "    cv_scores.append(scores_kd.mean())\n",
    "\n",
    "# changing to misclassification error\n",
    "MSE = [1 - x for x in cv_scores]\n",
    "\n",
    "# determining best k\n",
    "optimal_k = neighbors[MSE.index(min(MSE))]\n",
    "print('\\nThe optimal number of neighbors is %d.' % optimal_k)\n",
    "\n",
    "# plot misclassification error vs k \n",
    "plt.plot(neighbors, MSE)\n",
    "\n",
    "for xy in zip(neighbors, np.round(MSE,3)):\n",
    "    plt.annotate('(%s, %s)' % xy, xy=xy, textcoords='data')\n",
    "\n",
    "plt.xlabel('Number of Neighbors K')\n",
    "plt.ylabel('Misclassification Error')\n",
    "plt.show()\n",
    "\n",
    "print(\"the misclassification error for each k value is : \", np.round(MSE,3))"
   ]
  },
  {
   "cell_type": "code",
   "execution_count": 13,
   "metadata": {},
   "outputs": [
    {
     "name": "stdout",
     "output_type": "stream",
     "text": [
      "Train error is 9.171\n"
     ]
    }
   ],
   "source": [
    "knn_kd_optimal = KNeighborsClassifier(n_neighbors=optimal_k,algorithm='kd_tree')\n",
    "knn_kd_optimal.fit(d_train_dense,y_train)\n",
    "#for train error\n",
    "y_true, y_pred = y_train, knn_kd_optimal.predict(d_train_dense)\n",
    "tn, fp, fn, tp = confusion_matrix(y_true, y_pred).ravel()\n",
    "print(\"Train error is %.3f\" %((fp+fn)/140))\n",
    "#for test error\n",
    "y_true, y_pred = y_test, knn_kd_optimal.predict(d_test_dense)\n",
    "cm=confusion_matrix(y_true, y_pred)"
   ]
  },
  {
   "cell_type": "code",
   "execution_count": 14,
   "metadata": {},
   "outputs": [
    {
     "name": "stdout",
     "output_type": "stream",
     "text": [
      "\n",
      "The value of TPR is 0.995\n",
      "The value of TNR is 0.104\n",
      "The value of FPR is 0.896\n",
      "The value of FNR is 0.005\n",
      "\n",
      "Test error is 10.400\n"
     ]
    },
    {
     "data": {
      "image/png": "[encoded data removed]",
      "text/plain": [
       "<Figure size 432x288 with 2 Axes>"
      ]
     },
     "metadata": {},
     "output_type": "display_data"
    }
   ],
   "source": [
    "ax=sns.heatmap(cm,annot=True,fmt=\"d\")\n",
    "ax.set(xlabel='Predicted', ylabel='True')\n",
    "print()\n",
    "tn, fp, fn, tp = confusion_matrix(y_true, y_pred).ravel()\n",
    "print(\"The value of TPR is %.3f\" %(tp/(fn+tp)) +\n",
    "      \"\\nThe value of TNR is %.3f\" %(tn/(tn+fp)) +\n",
    "     \"\\nThe value of FPR is %.3f\" %(fp/(tn+fp)) +\n",
    "     \"\\nThe value of FNR is %.3f\" %(fn/(fn+tp)) )\n",
    "print()\n",
    "print(\"Test error is %.3f\" %((fp+fn)/60))"
   ]
  },
  {
   "cell_type": "markdown",
   "metadata": {},
   "source": [
    "### Using Bigrams"
   ]
  },
  {
   "cell_type": "code",
   "execution_count": 10,
   "metadata": {},
   "outputs": [
    {
     "name": "stderr",
     "output_type": "stream",
     "text": [
      "100%|███████████████████████████████████████████████████████████████████████████████| 25/25 [1:10:00<00:00, 163.68s/it]\n"
     ]
    },
    {
     "name": "stdout",
     "output_type": "stream",
     "text": [
      "\n",
      "The optimal number of neighbors is 23.\n"
     ]
    },
    {
     "data": {
      "image/png": "[encoded data removed]",
      "text/plain": [
       "<Figure size 432x288 with 1 Axes>"
      ]
     },
     "metadata": {},
     "output_type": "display_data"
    },
    {
     "name": "stdout",
     "output_type": "stream",
     "text": [
      "the misclassification error for each k value is :  [0.145 0.12  0.115 0.115 0.115 0.111 0.109 0.108 0.108 0.107 0.107 0.107\n",
      " 0.107 0.107 0.107 0.108 0.107 0.107 0.108 0.108 0.108 0.108 0.108 0.108\n",
      " 0.108]\n"
     ]
    }
   ],
   "source": [
    "from sklearn.model_selection import cross_val_score as cval_score\n",
    "from sklearn.neighbors import KNeighborsClassifier\n",
    "\n",
    "# creating odd list of K for KNN\n",
    "myList = list(range(0,50))\n",
    "neighbors = list(filter(lambda x: x % 2 != 0, myList))\n",
    "\n",
    "# empty list that will hold cv scores\n",
    "cv_scores = []\n",
    "\n",
    "# perform 10-fold cross validation\n",
    "for k in tqdm(neighbors):\n",
    "    knn_kd = KNeighborsClassifier(n_neighbors=k,algorithm='kd_tree')\n",
    "    scores_kd = cval_score(knn_kd, d_train_ng_dense,y_train, cv=2, scoring='accuracy')\n",
    "    cv_scores.append(scores_kd.mean())\n",
    "\n",
    "# changing to misclassification error\n",
    "MSE = [1 - x for x in cv_scores]\n",
    "\n",
    "# determining best k\n",
    "optimal_k = neighbors[MSE.index(min(MSE))]\n",
    "print('\\nThe optimal number of neighbors is %d.' % optimal_k)\n",
    "\n",
    "# plot misclassification error vs k \n",
    "plt.plot(neighbors, MSE)\n",
    "\n",
    "for xy in zip(neighbors, np.round(MSE,3)):\n",
    "    plt.annotate('(%s, %s)' % xy, xy=xy, textcoords='data')\n",
    "\n",
    "plt.xlabel('Number of Neighbors K')\n",
    "plt.ylabel('Misclassification Error')\n",
    "plt.show()\n",
    "\n",
    "print(\"the misclassification error for each k value is : \", np.round(MSE,3))"
   ]
  },
  {
   "cell_type": "code",
   "execution_count": 11,
   "metadata": {},
   "outputs": [
    {
     "name": "stdout",
     "output_type": "stream",
     "text": [
      "Train error is 10.621\n"
     ]
    }
   ],
   "source": [
    "knn_kd_optimal = KNeighborsClassifier(n_neighbors=optimal_k,algorithm='kd_tree')\n",
    "knn_kd_optimal.fit(d_train_ng_dense,y_train)\n",
    "#for train error\n",
    "y_true, y_pred = y_train, knn_kd_optimal.predict(d_train_ng_dense)\n",
    "tn, fp, fn, tp = confusion_matrix(y_true, y_pred).ravel()\n",
    "print(\"Train error is %.3f\" %((fp+fn)/140))\n",
    "#for test error\n",
    "y_true, y_pred = y_test, knn_kd_optimal.predict(d_test_ng_dense)\n",
    "cm=confusion_matrix(y_true, y_pred)"
   ]
  },
  {
   "cell_type": "code",
   "execution_count": 12,
   "metadata": {},
   "outputs": [
    {
     "name": "stdout",
     "output_type": "stream",
     "text": [
      "\n",
      "The value of TPR is 1.000\n",
      "The value of TNR is 0.014\n",
      "The value of FPR is 0.986\n",
      "The value of FNR is 0.000\n",
      "\n",
      "Test error is 10.933\n"
     ]
    },
    {
     "data": {
      "image/png": "[encoded data removed]",
      "text/plain": [
       "<Figure size 432x288 with 2 Axes>"
      ]
     },
     "metadata": {},
     "output_type": "display_data"
    }
   ],
   "source": [
    "ax=sns.heatmap(cm,annot=True,fmt=\"d\")\n",
    "ax.set(xlabel='Predicted', ylabel='True')\n",
    "print()\n",
    "tn, fp, fn, tp = confusion_matrix(y_true, y_pred).ravel()\n",
    "print(\"The value of TPR is %.3f\" %(tp/(fn+tp)) +\n",
    "      \"\\nThe value of TNR is %.3f\" %(tn/(tn+fp)) +\n",
    "     \"\\nThe value of FPR is %.3f\" %(fp/(tn+fp)) +\n",
    "     \"\\nThe value of FNR is %.3f\" %(fn/(fn+tp)) )\n",
    "print()\n",
    "print(\"Test error is %.3f\" %((fp+fn)/60))"
   ]
  },
  {
   "cell_type": "markdown",
   "metadata": {},
   "source": [
    "# [18.4] Word2Vec"
   ]
  },
  {
   "cell_type": "code",
   "execution_count": 26,
   "metadata": {},
   "outputs": [],
   "source": [
    "i=0\n",
    "train_list=[]\n",
    "test_list=[]\n",
    "for sent in dw_train['CleanedText'].values:\n",
    "    train_list.append(sent.split())\n",
    "for sent in dw_test['CleanedText'].values:\n",
    "    test_list.append(sent.split())"
   ]
  },
  {
   "cell_type": "code",
   "execution_count": 29,
   "metadata": {},
   "outputs": [],
   "source": [
    "from gensim.models import Word2Vec\n",
    "w2v_model=Word2Vec(train_list,min_count=5,size=50, workers=4)"
   ]
  },
  {
   "cell_type": "code",
   "execution_count": 30,
   "metadata": {
    "scrolled": true
   },
   "outputs": [
    {
     "name": "stdout",
     "output_type": "stream",
     "text": [
      "number of words that occured minimum 5 times  5352\n",
      "sample words  ['grew', 'loma', 'linda', 'product', 'excit', 'see', 'avail', 'amazon', 'bad', 'news', 'low', 'fat', 'big', 'frank', 'way', 'differ', 'normal', 'one', 'newli', 'vegetarian', 'girlfriend', 'tri', 'embarrass', 'werent', 'near', 'good', 'actual', 'made', 'littl', 'sick', 'theyr', 'dens', 'strang', 'stick', 'linkett', 'find', 'somewher', 'els', 'dont', 'think', 'peppermint', 'tea', 'help', 'upset', 'stomach', 'sleep', 'love', 'order', 'sever', 'time']\n"
     ]
    }
   ],
   "source": [
    "w2v_words = list(w2v_model.wv.vocab)\n",
    "print(\"number of words that occured minimum 5 times \",len(w2v_words))\n",
    "print(\"sample words \", w2v_words[0:50])"
   ]
  },
  {
   "cell_type": "markdown",
   "metadata": {},
   "source": [
    "## [18.4.1] Average W2V"
   ]
  },
  {
   "cell_type": "code",
   "execution_count": 37,
   "metadata": {},
   "outputs": [
    {
     "name": "stdout",
     "output_type": "stream",
     "text": [
      "14000\n",
      "50\n"
     ]
    }
   ],
   "source": [
    "# compute average word2vec for each review in train\n",
    "d_train = []; # the avg-w2v for each sentence/review is stored in this list\n",
    "for sent in train_list: # for each review/sentence\n",
    "    sent_vec = np.zeros(50) # as word vectors are of zero length\n",
    "    cnt_words =0; # num of words with a valid vector in the sentence/review\n",
    "    for word in sent: # for each word in a review/sentence\n",
    "        if word in w2v_words:\n",
    "            vec = w2v_model.wv[word]\n",
    "            sent_vec += vec\n",
    "            cnt_words += 1\n",
    "    if cnt_words != 0:\n",
    "        sent_vec /= cnt_words\n",
    "    d_train.append(sent_vec)\n",
    "print(len(d_train))\n",
    "print(len(d_train[0]))"
   ]
  },
  {
   "cell_type": "code",
   "execution_count": 38,
   "metadata": {},
   "outputs": [
    {
     "name": "stdout",
     "output_type": "stream",
     "text": [
      "6000\n",
      "50\n"
     ]
    }
   ],
   "source": [
    "# compute average word2vec for each review in test\n",
    "d_test = []; # the avg-w2v for each sentence/review is stored in this list\n",
    "for sent in test_list: # for each review/sentence\n",
    "    sent_vec = np.zeros(50) # as word vectors are of zero length\n",
    "    cnt_words =0; # num of words with a valid vector in the sentence/review\n",
    "    for word in sent: # for each word in a review/sentence\n",
    "        if word in w2v_words:\n",
    "            vec = w2v_model.wv[word]\n",
    "            sent_vec += vec\n",
    "            cnt_words += 1\n",
    "    if cnt_words != 0:\n",
    "        sent_vec /= cnt_words\n",
    "    d_test.append(sent_vec)\n",
    "print(len(d_test))\n",
    "print(len(d_test[0]))"
   ]
  },
  {
   "cell_type": "markdown",
   "metadata": {},
   "source": [
    "## [18.4.2] KNN (Brute-Force)"
   ]
  },
  {
   "cell_type": "code",
   "execution_count": 40,
   "metadata": {},
   "outputs": [
    {
     "name": "stdout",
     "output_type": "stream",
     "text": [
      "\n",
      "The optimal number of neighbors is 19.\n"
     ]
    },
    {
     "data": {
      "image/png": "[encoded data removed]",
      "text/plain": [
       "<Figure size 432x288 with 1 Axes>"
      ]
     },
     "metadata": {},
     "output_type": "display_data"
    },
    {
     "name": "stdout",
     "output_type": "stream",
     "text": [
      "the misclassification error for each k value is :  [0.151 0.119 0.11  0.108 0.105 0.104 0.105 0.105 0.104 0.103 0.104 0.104\n",
      " 0.104 0.104 0.104 0.105 0.105 0.105 0.105 0.105 0.105 0.106 0.105 0.105\n",
      " 0.106]\n"
     ]
    }
   ],
   "source": [
    "from sklearn.model_selection import cross_val_score as cval_score\n",
    "from sklearn.neighbors import KNeighborsClassifier\n",
    "\n",
    "# creating odd list of K for KNN\n",
    "myList = list(range(0,50))\n",
    "neighbors = list(filter(lambda x: x % 2 != 0, myList))\n",
    "\n",
    "# empty list that will hold cv scores\n",
    "cv_scores = []\n",
    "\n",
    "# perform 10-fold cross validation\n",
    "for k in neighbors:\n",
    "    knn_brute = KNeighborsClassifier(n_neighbors=k,algorithm='brute')\n",
    "    scores = cval_score(knn_brute, d_train,y_train, cv=10, scoring='accuracy')\n",
    "    cv_scores.append(scores.mean())\n",
    "\n",
    "# changing to misclassification error\n",
    "MSE = [1 - x for x in cv_scores]\n",
    "\n",
    "# determining best k\n",
    "optimal_k = neighbors[MSE.index(min(MSE))]\n",
    "print('\\nThe optimal number of neighbors is %d.' % optimal_k)\n",
    "\n",
    "# plot misclassification error vs k \n",
    "plt.plot(neighbors, MSE)\n",
    "\n",
    "for xy in zip(neighbors, np.round(MSE,3)):\n",
    "    plt.annotate('(%s, %s)' % xy, xy=xy, textcoords='data')\n",
    "\n",
    "plt.xlabel('Number of Neighbors K')\n",
    "plt.ylabel('Misclassification Error')\n",
    "plt.show()\n",
    "\n",
    "print(\"the misclassification error for each k value is : \", np.round(MSE,3))"
   ]
  },
  {
   "cell_type": "code",
   "execution_count": 41,
   "metadata": {},
   "outputs": [
    {
     "name": "stdout",
     "output_type": "stream",
     "text": [
      "Train error is 10.143\n"
     ]
    }
   ],
   "source": [
    "knn_optimal = KNeighborsClassifier(n_neighbors=optimal_k,algorithm='kd_tree')\n",
    "knn_optimal.fit(d_train,y_train)\n",
    "#for train error\n",
    "y_true, y_pred = y_train, knn_optimal.predict(d_train)\n",
    "tn, fp, fn, tp = confusion_matrix(y_true, y_pred).ravel()\n",
    "print(\"Train error is %.3f\" %((fp+fn)/140))\n",
    "#for test error\n",
    "y_true, y_pred = y_test, knn_optimal.predict(d_test)\n",
    "cm=confusion_matrix(y_true, y_pred)"
   ]
  },
  {
   "cell_type": "code",
   "execution_count": 42,
   "metadata": {},
   "outputs": [
    {
     "name": "stdout",
     "output_type": "stream",
     "text": [
      "\n",
      "The value of TPR is 0.996\n",
      "The value of TNR is 0.060\n",
      "The value of FPR is 0.940\n",
      "The value of FNR is 0.004\n",
      "\n",
      "Test error is 10.783\n"
     ]
    },
    {
     "data": {
      "image/png": "[encoded data removed]",
      "text/plain": [
       "<Figure size 432x288 with 2 Axes>"
      ]
     },
     "metadata": {},
     "output_type": "display_data"
    }
   ],
   "source": [
    "ax=sns.heatmap(cm,annot=True,fmt=\"d\")\n",
    "ax.set(xlabel='Predicted', ylabel='True')\n",
    "print()\n",
    "tn, fp, fn, tp = confusion_matrix(y_true, y_pred).ravel()\n",
    "print(\"The value of TPR is %.3f\" %(tp/(fn+tp)) +\n",
    "      \"\\nThe value of TNR is %.3f\" %(tn/(tn+fp)) +\n",
    "     \"\\nThe value of FPR is %.3f\" %(fp/(tn+fp)) +\n",
    "     \"\\nThe value of FNR is %.3f\" %(fn/(fn+tp)) )\n",
    "print()\n",
    "print(\"Test error is %.3f\" %((fp+fn)/60))"
   ]
  },
  {
   "cell_type": "markdown",
   "metadata": {},
   "source": [
    "## [18.4.3] KNN (KD-Tree)"
   ]
  },
  {
   "cell_type": "code",
   "execution_count": 43,
   "metadata": {
    "scrolled": false
   },
   "outputs": [
    {
     "name": "stdout",
     "output_type": "stream",
     "text": [
      "\n",
      "The optimal number of neighbors is 19.\n"
     ]
    },
    {
     "data": {
      "image/png": "[encoded data removed]",
      "text/plain": [
       "<Figure size 432x288 with 1 Axes>"
      ]
     },
     "metadata": {},
     "output_type": "display_data"
    },
    {
     "name": "stdout",
     "output_type": "stream",
     "text": [
      "the misclassification error for each k value is :  [0.151 0.119 0.11  0.108 0.105 0.104 0.105 0.105 0.104 0.103 0.104 0.104\n",
      " 0.104 0.104 0.104 0.105 0.105 0.105 0.105 0.105 0.105 0.106 0.105 0.105\n",
      " 0.106]\n"
     ]
    }
   ],
   "source": [
    "from sklearn.model_selection import cross_val_score as cval_score\n",
    "from sklearn.neighbors import KNeighborsClassifier\n",
    "\n",
    "# creating odd list of K for KNN\n",
    "myList = list(range(0,50))\n",
    "neighbors = list(filter(lambda x: x % 2 != 0, myList))\n",
    "\n",
    "# empty list that will hold cv scores\n",
    "cv_scores = []\n",
    "\n",
    "# perform 10-fold cross validation\n",
    "for k in neighbors:\n",
    "    knn_kd = KNeighborsClassifier(n_neighbors=k,algorithm='kd_tree')\n",
    "    scores_kd = cval_score(knn_kd, d_train,y_train, cv=10, scoring='accuracy')\n",
    "    cv_scores.append(scores_kd.mean())\n",
    "\n",
    "# changing to misclassification error\n",
    "MSE = [1 - x for x in cv_scores]\n",
    "\n",
    "# determining best k\n",
    "optimal_k = neighbors[MSE.index(min(MSE))]\n",
    "print('\\nThe optimal number of neighbors is %d.' % optimal_k)\n",
    "\n",
    "# plot misclassification error vs k \n",
    "plt.plot(neighbors, MSE)\n",
    "\n",
    "for xy in zip(neighbors, np.round(MSE,3)):\n",
    "    plt.annotate('(%s, %s)' % xy, xy=xy, textcoords='data')\n",
    "\n",
    "plt.xlabel('Number of Neighbors K')\n",
    "plt.ylabel('Misclassification Error')\n",
    "plt.show()\n",
    "\n",
    "print(\"the misclassification error for each k value is : \", np.round(MSE,3))"
   ]
  },
  {
   "cell_type": "code",
   "execution_count": 44,
   "metadata": {},
   "outputs": [
    {
     "name": "stdout",
     "output_type": "stream",
     "text": [
      "Train error is 10.143\n"
     ]
    }
   ],
   "source": [
    "knn_kd_optimal = KNeighborsClassifier(n_neighbors=optimal_k,algorithm='kd_tree')\n",
    "knn_kd_optimal.fit(d_train,y_train)\n",
    "#for train error\n",
    "y_true, y_pred = y_train, knn_optimal.predict(d_train)\n",
    "tn, fp, fn, tp = confusion_matrix(y_true, y_pred).ravel()\n",
    "print(\"Train error is %.3f\" %((fp+fn)/140))\n",
    "#for test error\n",
    "y_true, y_pred = y_test, knn_kd_optimal.predict(d_test)\n",
    "cm=confusion_matrix(y_true, y_pred)"
   ]
  },
  {
   "cell_type": "code",
   "execution_count": 45,
   "metadata": {},
   "outputs": [
    {
     "name": "stdout",
     "output_type": "stream",
     "text": [
      "\n",
      "The value of TPR is 0.996\n",
      "The value of TNR is 0.060\n",
      "The value of FPR is 0.940\n",
      "The value of FNR is 0.004\n",
      "\n",
      "Test error is 10.783\n"
     ]
    },
    {
     "data": {
      "image/png": "[encoded data removed]",
      "text/plain": [
       "<Figure size 432x288 with 2 Axes>"
      ]
     },
     "metadata": {},
     "output_type": "display_data"
    }
   ],
   "source": [
    "ax=sns.heatmap(cm,annot=True,fmt=\"d\")\n",
    "ax.set(xlabel='Predicted', ylabel='True')\n",
    "print()\n",
    "tn, fp, fn, tp = confusion_matrix(y_true, y_pred).ravel()\n",
    "print(\"The value of TPR is %.3f\" %(tp/(fn+tp)) +\n",
    "      \"\\nThe value of TNR is %.3f\" %(tn/(tn+fp)) +\n",
    "     \"\\nThe value of FPR is %.3f\" %(fp/(tn+fp)) +\n",
    "     \"\\nThe value of FNR is %.3f\" %(fn/(fn+tp)) )\n",
    "print()\n",
    "print(\"Test error is %.3f\" %((fp+fn)/60))"
   ]
  },
  {
   "cell_type": "markdown",
   "metadata": {},
   "source": [
    "## [18.4.5] TF-IDF W2V"
   ]
  },
  {
   "cell_type": "code",
   "execution_count": 47,
   "metadata": {},
   "outputs": [
    {
     "name": "stderr",
     "output_type": "stream",
     "text": [
      "100%|███████████████████████████████████████████████████████████████████████████| 14000/14000 [00:34<00:00, 407.31it/s]\n"
     ]
    }
   ],
   "source": [
    "from tqdm import tqdm\n",
    "# TF-IDF weighted Word2Vec\n",
    "# we are converting a dictionary with word as a key, and the idf as a value\n",
    "dictionary = dict(zip(tf_idf_vect.get_feature_names(), list(tf_idf_vect.idf_)))\n",
    "# tfidf words/col-names\n",
    "tfidf_feat = tf_idf_vect.get_feature_names() \n",
    "# final_tf_idf is the sparse matrix with row= sentence, col=word and cell_val = tfidf\n",
    "\n",
    "d_train = []; # the tfidf-w2v for each sentence/review is stored in this list\n",
    "row=0;\n",
    "#for train dataset\n",
    "for sent in tqdm(train_list):\n",
    "    sent_vec = np.zeros(50) # as word vectors are of zero length\n",
    "    weight_sum =0; # num of words with a valid vector in the sentence/review\n",
    "    for word in sent: # for each word in a review/sentence\n",
    "        if word in w2v_words:\n",
    "            vec = w2v_model.wv[word]\n",
    "            # obtain the tf_idfidf of a word in a sentence/review\n",
    "            tf_idf = dictionary[word]*sent.count(word)\n",
    "            sent_vec += (vec * tf_idf)\n",
    "            weight_sum += tf_idf\n",
    "    if weight_sum != 0:\n",
    "        sent_vec /= weight_sum\n",
    "    d_train.append(sent_vec)\n",
    "    row += 1"
   ]
  },
  {
   "cell_type": "code",
   "execution_count": 48,
   "metadata": {},
   "outputs": [
    {
     "name": "stderr",
     "output_type": "stream",
     "text": [
      "100%|█████████████████████████████████████████████████████████████████████████████| 6000/6000 [00:14<00:00, 400.14it/s]\n"
     ]
    }
   ],
   "source": [
    "#for train dataset\n",
    "d_test=[]\n",
    "for sent in tqdm(test_list):\n",
    "    sent_vec = np.zeros(50) # as word vectors are of zero length\n",
    "    weight_sum =0; # num of words with a valid vector in the sentence/review\n",
    "    for word in sent: # for each word in a review/sentence\n",
    "        if word in w2v_words:\n",
    "            vec = w2v_model.wv[word]\n",
    "            # obtain the tf_idfidf of a word in a sentence/review\n",
    "            tf_idf = dictionary[word]*sent.count(word)\n",
    "            sent_vec += (vec * tf_idf)\n",
    "            weight_sum += tf_idf\n",
    "    if weight_sum != 0:\n",
    "        sent_vec /= weight_sum\n",
    "    d_test.append(sent_vec)\n",
    "    row += 1"
   ]
  },
  {
   "cell_type": "markdown",
   "metadata": {},
   "source": [
    "## [18.4.7] KNN (Brute-Force)"
   ]
  },
  {
   "cell_type": "code",
   "execution_count": 49,
   "metadata": {},
   "outputs": [
    {
     "name": "stdout",
     "output_type": "stream",
     "text": [
      "\n",
      "The optimal number of neighbors is 21.\n"
     ]
    },
    {
     "data": {
      "image/png": "[encoded data removed]",
      "text/plain": [
       "<Figure size 432x288 with 1 Axes>"
      ]
     },
     "metadata": {},
     "output_type": "display_data"
    },
    {
     "name": "stdout",
     "output_type": "stream",
     "text": [
      "the misclassification error for each k value is :  [0.158 0.122 0.112 0.108 0.108 0.108 0.107 0.107 0.107 0.107 0.106 0.106\n",
      " 0.106 0.106 0.106 0.107 0.106 0.106 0.106 0.106 0.106 0.106 0.106 0.106\n",
      " 0.106]\n"
     ]
    }
   ],
   "source": [
    "from sklearn.model_selection import cross_val_score as cval_score\n",
    "from sklearn.neighbors import KNeighborsClassifier\n",
    "\n",
    "# creating odd list of K for KNN\n",
    "myList = list(range(0,50))\n",
    "neighbors = list(filter(lambda x: x % 2 != 0, myList))\n",
    "\n",
    "# empty list that will hold cv scores\n",
    "cv_scores = []\n",
    "\n",
    "# perform 10-fold cross validation\n",
    "for k in neighbors:\n",
    "    knn_brute = KNeighborsClassifier(n_neighbors=k,algorithm='brute')\n",
    "    scores = cval_score(knn_brute, d_train,y_train, cv=10, scoring='accuracy')\n",
    "    cv_scores.append(scores.mean())\n",
    "\n",
    "# changing to misclassification error\n",
    "MSE = [1 - x for x in cv_scores]\n",
    "\n",
    "# determining best k\n",
    "optimal_k = neighbors[MSE.index(min(MSE))]\n",
    "print('\\nThe optimal number of neighbors is %d.' % optimal_k)\n",
    "\n",
    "# plot misclassification error vs k \n",
    "plt.plot(neighbors, MSE)\n",
    "\n",
    "for xy in zip(neighbors, np.round(MSE,3)):\n",
    "    plt.annotate('(%s, %s)' % xy, xy=xy, textcoords='data')\n",
    "\n",
    "plt.xlabel('Number of Neighbors K')\n",
    "plt.ylabel('Misclassification Error')\n",
    "plt.show()\n",
    "\n",
    "print(\"the misclassification error for each k value is : \", np.round(MSE,3))"
   ]
  },
  {
   "cell_type": "code",
   "execution_count": 50,
   "metadata": {},
   "outputs": [
    {
     "name": "stdout",
     "output_type": "stream",
     "text": [
      "Train error is 10.393\n"
     ]
    }
   ],
   "source": [
    "knn_optimal = KNeighborsClassifier(n_neighbors=optimal_k,algorithm='kd_tree')\n",
    "knn_optimal.fit(d_train,y_train)\n",
    "#for train error\n",
    "y_true, y_pred = y_train, knn_optimal.predict(d_train)\n",
    "tn, fp, fn, tp = confusion_matrix(y_true, y_pred).ravel()\n",
    "print(\"Train error is %.3f\" %((fp+fn)/140))\n",
    "#for test error\n",
    "y_true, y_pred = y_test, knn_optimal.predict(d_test)\n",
    "cm=confusion_matrix(y_true, y_pred)"
   ]
  },
  {
   "cell_type": "code",
   "execution_count": 51,
   "metadata": {},
   "outputs": [
    {
     "name": "stdout",
     "output_type": "stream",
     "text": [
      "\n",
      "The value of TPR is 0.998\n",
      "The value of TNR is 0.047\n",
      "The value of FPR is 0.953\n",
      "The value of FNR is 0.002\n",
      "\n",
      "Test error is 10.733\n"
     ]
    },
    {
     "data": {
      "image/png": "[encoded data removed]",
      "text/plain": [
       "<Figure size 432x288 with 2 Axes>"
      ]
     },
     "metadata": {},
     "output_type": "display_data"
    }
   ],
   "source": [
    "ax=sns.heatmap(cm,annot=True,fmt=\"d\")\n",
    "ax.set(xlabel='Predicted', ylabel='True')\n",
    "print()\n",
    "tn, fp, fn, tp = confusion_matrix(y_true, y_pred).ravel()\n",
    "print(\"The value of TPR is %.3f\" %(tp/(fn+tp)) +\n",
    "      \"\\nThe value of TNR is %.3f\" %(tn/(tn+fp)) +\n",
    "     \"\\nThe value of FPR is %.3f\" %(fp/(tn+fp)) +\n",
    "     \"\\nThe value of FNR is %.3f\" %(fn/(fn+tp)) )\n",
    "print()\n",
    "print(\"Test error is %.3f\" %((fp+fn)/60))"
   ]
  },
  {
   "cell_type": "markdown",
   "metadata": {},
   "source": [
    "## [18.4.7] KNN (KD-Tree)"
   ]
  },
  {
   "cell_type": "code",
   "execution_count": 52,
   "metadata": {},
   "outputs": [
    {
     "name": "stdout",
     "output_type": "stream",
     "text": [
      "\n",
      "The optimal number of neighbors is 21.\n"
     ]
    },
    {
     "data": {
      "image/png": "[encoded data removed]",
      "text/plain": [
       "<Figure size 432x288 with 1 Axes>"
      ]
     },
     "metadata": {},
     "output_type": "display_data"
    },
    {
     "name": "stdout",
     "output_type": "stream",
     "text": [
      "the misclassification error for each k value is :  [0.158 0.122 0.112 0.108 0.108 0.108 0.107 0.107 0.107 0.107 0.106 0.106\n",
      " 0.106 0.106 0.106 0.107 0.106 0.106 0.106 0.106 0.106 0.106 0.106 0.106\n",
      " 0.106]\n"
     ]
    }
   ],
   "source": [
    "from sklearn.model_selection import cross_val_score as cval_score\n",
    "from sklearn.neighbors import KNeighborsClassifier\n",
    "\n",
    "# creating odd list of K for KNN\n",
    "myList = list(range(0,50))\n",
    "neighbors = list(filter(lambda x: x % 2 != 0, myList))\n",
    "\n",
    "# empty list that will hold cv scores\n",
    "cv_scores = []\n",
    "\n",
    "# perform 10-fold cross validation\n",
    "for k in neighbors:\n",
    "    knn_brute = KNeighborsClassifier(n_neighbors=k,algorithm='brute')\n",
    "    scores = cval_score(knn_brute, d_train,y_train, cv=10, scoring='accuracy')\n",
    "    cv_scores.append(scores.mean())\n",
    "\n",
    "# changing to misclassification error\n",
    "MSE = [1 - x for x in cv_scores]\n",
    "\n",
    "# determining best k\n",
    "optimal_k = neighbors[MSE.index(min(MSE))]\n",
    "print('\\nThe optimal number of neighbors is %d.' % optimal_k)\n",
    "\n",
    "# plot misclassification error vs k \n",
    "plt.plot(neighbors, MSE)\n",
    "\n",
    "for xy in zip(neighbors, np.round(MSE,3)):\n",
    "    plt.annotate('(%s, %s)' % xy, xy=xy, textcoords='data')\n",
    "\n",
    "plt.xlabel('Number of Neighbors K')\n",
    "plt.ylabel('Misclassification Error')\n",
    "plt.show()\n",
    "\n",
    "print(\"the misclassification error for each k value is : \", np.round(MSE,3))"
   ]
  },
  {
   "cell_type": "code",
   "execution_count": 53,
   "metadata": {},
   "outputs": [
    {
     "name": "stdout",
     "output_type": "stream",
     "text": [
      "Train error is 10.393\n"
     ]
    }
   ],
   "source": [
    "knn_optimal = KNeighborsClassifier(n_neighbors=optimal_k,algorithm='kd_tree')\n",
    "knn_optimal.fit(d_train,y_train)\n",
    "#for train error\n",
    "y_true, y_pred = y_train, knn_optimal.predict(d_train)\n",
    "tn, fp, fn, tp = confusion_matrix(y_true, y_pred).ravel()\n",
    "print(\"Train error is %.3f\" %((fp+fn)/140))\n",
    "#for test error\n",
    "y_true, y_pred = y_test, knn_optimal.predict(d_test)\n",
    "cm=confusion_matrix(y_true, y_pred)"
   ]
  },
  {
   "cell_type": "code",
   "execution_count": 54,
   "metadata": {},
   "outputs": [
    {
     "name": "stdout",
     "output_type": "stream",
     "text": [
      "\n",
      "The value of TPR is 0.998\n",
      "The value of TNR is 0.047\n",
      "The value of FPR is 0.953\n",
      "The value of FNR is 0.002\n",
      "\n",
      "Test error is 10.733\n"
     ]
    },
    {
     "data": {
      "image/png": "[encoded data removed]",
      "text/plain": [
       "<Figure size 432x288 with 2 Axes>"
      ]
     },
     "metadata": {},
     "output_type": "display_data"
    }
   ],
   "source": [
    "ax=sns.heatmap(cm,annot=True,fmt=\"d\")\n",
    "ax.set(xlabel='Predicted', ylabel='True')\n",
    "print()\n",
    "tn, fp, fn, tp = confusion_matrix(y_true, y_pred).ravel()\n",
    "print(\"The value of TPR is %.3f\" %(tp/(fn+tp)) +\n",
    "      \"\\nThe value of TNR is %.3f\" %(tn/(tn+fp)) +\n",
    "     \"\\nThe value of FPR is %.3f\" %(fp/(tn+fp)) +\n",
    "     \"\\nThe value of FNR is %.3f\" %(fn/(fn+tp)) )\n",
    "print()\n",
    "print(\"Test error is %.3f\" %((fp+fn)/60))"
   ]
  },
  {
   "cell_type": "markdown",
   "metadata": {},
   "source": [
    "## Conclusion ##"
   ]
  },
  {
   "cell_type": "code",
   "execution_count": 14,
   "metadata": {},
   "outputs": [
    {
     "name": "stdout",
     "output_type": "stream",
     "text": [
      "+-------------------+---------------------------+-----------+-------------+------------+\n",
      "|       Model       |     Vectorising Method    | Optimal K | Train Error | Test Error |\n",
      "+-------------------+---------------------------+-----------+-------------+------------+\n",
      "| KNN (Brute Force) |        Bag Of Words       |     11    |    10.571   |   11.000   |\n",
      "| KNN (Brute Force) | Bag Of Words with n-grams |     9     |    10.657   |   10.967   |\n",
      "|   KNN (KD-Tree)   |        Bag Of Words       |     7     |    10.036   |   10.967   |\n",
      "|   KNN (KD-Tree)   | Bag Of Words with n-grams |     9     |    9.736    |   10.900   |\n",
      "| KNN (Brute Force) |           Tf-Idf          |     7     |    9.007    |   10.183   |\n",
      "| KNN (Brute Force) |    Tf-Idf with n-grams    |     7     |    8.857    |   10.283   |\n",
      "|   KNN (KD-Tree)   |           Tf-Idf          |     7     |    9.171    |   10.400   |\n",
      "|   KNN (KD-Tree)   |    Tf-Idf with n-grams    |     23    |    10.621   |   10.933   |\n",
      "| KNN (Brute Force) |          Avg W2V          |     19    |    10.143   |   10.783   |\n",
      "|   KNN (KD-Tree)   |          Avg W2V          |     19    |    10.143   |   10.783   |\n",
      "| KNN (Brute Force) |    Tf-Idf weighted W2V    |     21    |    10.393   |   10.733   |\n",
      "|   KNN (KD-Tree)   |    Tf-Idf weighted W2V    |     21    |    10.393   |   10.733   |\n",
      "+-------------------+---------------------------+-----------+-------------+------------+\n"
     ]
    }
   ],
   "source": [
    "from prettytable import PrettyTable\n",
    "    \n",
    "pt = PrettyTable()\n",
    "\n",
    "pt.field_names = [ \"Model\", \"Vectorising Method\", \"Optimal K\", \"Train Error\", \"Test Error\"]\n",
    "\n",
    "pt.add_row([\"KNN (Brute Force)\",\"Bag Of Words\", \"11\", \"10.571\", \"11.000\"])\n",
    "pt.add_row([\"KNN (Brute Force)\",\"Bag Of Words with n-grams\", \"9\",\"10.657\",\"10.967\"])\n",
    "pt.add_row([\"KNN (KD-Tree)\",\"Bag Of Words\", \"7\",\"10.036\",\"10.967\" ])\n",
    "pt.add_row([\"KNN (KD-Tree)\",\"Bag Of Words with n-grams\", \"9\", \"9.736\", \"10.900\" ])\n",
    "pt.add_row([\"KNN (Brute Force)\",\"Tf-Idf\", \"7\", \"9.007\" , \"10.183\"])\n",
    "pt.add_row([\"KNN (Brute Force)\",\"Tf-Idf with n-grams\", \"7\",\"8.857\",\"10.283\"])\n",
    "pt.add_row([\"KNN (KD-Tree)\",\"Tf-Idf\", \"7\",\"9.171\",\"10.400\"])\n",
    "pt.add_row([\"KNN (KD-Tree)\",\"Tf-Idf with n-grams\", \"23\",\"10.621\",\"10.933\" ])\n",
    "pt.add_row([\"KNN (Brute Force)\",\"Avg W2V\", \"19\" ,\"10.143\",\"10.783\" ])\n",
    "pt.add_row([\"KNN (KD-Tree)\",\"Avg W2V\", \"19\" ,\"10.143\",\"10.783\" ])\n",
    "pt.add_row([\"KNN (Brute Force)\",\"Tf-Idf weighted W2V\", \"21\", \"10.393\", \"10.733\"])\n",
    "pt.add_row([\"KNN (KD-Tree)\",\"Tf-Idf weighted W2V\", \"21\", \"10.393\", \"10.733\"])\n",
    "\n",
    "print(pt)"
   ]
  },
  {
   "cell_type": "markdown",
   "metadata": {},
   "source": [
    "1) Train error is almost same in all the cases.\n",
    "\n",
    "2) Minimum train train error is achieved when we are vectorising with *tf-idf with uni-grams and bi-grams* and using *KNN with brute force* model.\n",
    "\n",
    "3) Test error is also, almost same in all the cases.\n",
    "\n",
    "4) We have achieved the minimum test error when we are vectorising with *tf-idf without un-igrams and bi-grams* and using *KNN with brute force* model."
   ]
  }
 ],
 "metadata": {
  "kernelspec": {
   "display_name": "Python 3",
   "language": "python",
   "name": "python3"
  },
  "language_info": {
   "codemirror_mode": {
    "name": "ipython",
    "version": 3
   },
   "file_extension": ".py",
   "mimetype": "text/x-python",
   "name": "python",
   "nbconvert_exporter": "python",
   "pygments_lexer": "ipython3",
   "version": "3.7.1"
  }
 },
 "nbformat": 4,
 "nbformat_minor": 2
}
