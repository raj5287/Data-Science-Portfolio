{
 "cells": [
  {
   "cell_type": "markdown",
   "metadata": {
    "_uuid": "52c5a377f72a33362d1bb86fb4d2cdb5dfc77ecf",
    "colab_type": "text",
    "id": "Mn8GjMlzV_S6"
   },
   "source": [
    "# [7] Amazon Fine Food Reviews Analysis\n",
    "\n",
    "\n",
    "The Amazon Fine Food Reviews dataset consists of reviews of fine foods from Amazon.<br>\n",
    "\n",
    "Number of reviews: 568,454<br>\n",
    "Number of users: 256,059<br>\n",
    "Number of products: 74,258<br>\n",
    "Timespan: Oct 1999 - Oct 2012<br>\n",
    "Number of Attributes/Columns in data: 10 \n",
    "\n",
    "Attribute Information:\n",
    "\n",
    "1. Id\n",
    "2. ProductId - unique identifier for the product\n",
    "3. UserId - unqiue identifier for the user\n",
    "4. ProfileName\n",
    "5. HelpfulnessNumerator - number of users who found the review helpful\n",
    "6. HelpfulnessDenominator - number of users who indicated whether they found the review helpful or not\n",
    "7. Score - rating between 1 and 5\n",
    "8. Time - timestamp for the review\n",
    "9. Summary - brief summary of the review\n",
    "10. Text - text of the review\n",
    "\n",
    "\n",
    "#### Objective:\n",
    "Given a review, determine whether the review is positive (Rating of 4 or 5) or negative (rating of 1 or 2).\n",
    "\n",
    "<br>\n",
    "[Q] How to determine if a review is positive or negative?<br>\n",
    "<br> \n",
    "[Ans] We could use the Score/Rating. A rating of 4 or 5 could be cosnidered a positive review. A review of 1 or 2 could be considered negative. A review of 3 is nuetral and ignored. This is an approximate and proxy way of determining the polarity (positivity/negativity) of a review.\n",
    "\n",
    "\n"
   ]
  },
  {
   "cell_type": "markdown",
   "metadata": {
    "_uuid": "bd7ebbbf96d1c6f9e9f859fc8375bc7a57fa7758",
    "colab_type": "text",
    "id": "vRgZzzL1V_TC"
   },
   "source": [
    "## [7.1] Loading the data\n",
    "\n",
    "The dataset is available in two forms\n",
    "1. .csv file\n",
    "2. SQLite Database\n",
    "\n",
    "In order to load the data, We have used the SQLITE dataset as it easier to query the data and visualise the data efficiently.\n",
    "<br> \n",
    "\n",
    "Here as we only want to get the global sentiment of the recommendations (positive or negative), we will purposefully ignore all Scores equal to 3. If the score id above 3, then the recommendation wil be set to \"positive\". Otherwise, it will be set to \"negative\"."
   ]
  },
  {
   "cell_type": "code",
   "execution_count": 1,
   "metadata": {
    "_uuid": "b642f71ce53c508ee8429e745e0d67e64ca56d04",
    "colab": {},
    "colab_type": "code",
    "id": "j3f-l1_zV_TF"
   },
   "outputs": [
    {
     "name": "stderr",
     "output_type": "stream",
     "text": [
      "Using TensorFlow backend.\n"
     ]
    }
   ],
   "source": [
    "%matplotlib inline\n",
    "import warnings\n",
    "warnings.filterwarnings(\"ignore\")\n",
    "\n",
    "import sqlite3\n",
    "import pandas as pd\n",
    "import numpy as np\n",
    "import nltk\n",
    "import string\n",
    "import matplotlib.pyplot as plt\n",
    "import seaborn as sns\n",
    "\n",
    "from sklearn.metrics import confusion_matrix\n",
    "from sklearn import metrics\n",
    "from sklearn.metrics import roc_curve, auc\n",
    "from bs4 import BeautifulSoup\n",
    "import re\n",
    "# Tutorial about Python regular expressions: https://pymotw.com/2/re/\n",
    "import string\n",
    "import pickle\n",
    "\n",
    "from tqdm import tqdm\n",
    "import os\n",
    "from keras.models import Sequential\n",
    "from keras.layers import Dense,BatchNormalization,Dropout\n",
    "from keras.layers import LSTM\n",
    "from keras.layers.embeddings import Embedding\n",
    "from keras.preprocessing import sequence"
   ]
  },
  {
   "cell_type": "code",
   "execution_count": 4,
   "metadata": {
    "_uuid": "f321d64840f4cd6db0f92657714040acf21e8314",
    "colab": {
     "base_uri": "https://localhost:8080/",
     "height": 261
    },
    "colab_type": "code",
    "id": "ypu3GYLhV_TL",
    "outputId": "a3ca71e1-d1d1-48ed-b292-d43229bcd4aa"
   },
   "outputs": [
    {
     "name": "stdout",
     "output_type": "stream",
     "text": [
      "Number of data points in our data (10000, 10)\n"
     ]
    },
    {
     "data": {
      "text/html": [
       "<div>\n",
       "<style scoped>\n",
       "    .dataframe tbody tr th:only-of-type {\n",
       "        vertical-align: middle;\n",
       "    }\n",
       "\n",
       "    .dataframe tbody tr th {\n",
       "        vertical-align: top;\n",
       "    }\n",
       "\n",
       "    .dataframe thead th {\n",
       "        text-align: right;\n",
       "    }\n",
       "</style>\n",
       "<table border=\"1\" class=\"dataframe\">\n",
       "  <thead>\n",
       "    <tr style=\"text-align: right;\">\n",
       "      <th></th>\n",
       "      <th>Id</th>\n",
       "      <th>ProductId</th>\n",
       "      <th>UserId</th>\n",
       "      <th>ProfileName</th>\n",
       "      <th>HelpfulnessNumerator</th>\n",
       "      <th>HelpfulnessDenominator</th>\n",
       "      <th>Score</th>\n",
       "      <th>Time</th>\n",
       "      <th>Summary</th>\n",
       "      <th>Text</th>\n",
       "    </tr>\n",
       "  </thead>\n",
       "  <tbody>\n",
       "    <tr>\n",
       "      <th>0</th>\n",
       "      <td>1</td>\n",
       "      <td>B001E4KFG0</td>\n",
       "      <td>A3SGXH7AUHU8GW</td>\n",
       "      <td>delmartian</td>\n",
       "      <td>1</td>\n",
       "      <td>1</td>\n",
       "      <td>1</td>\n",
       "      <td>1303862400</td>\n",
       "      <td>Good Quality Dog Food</td>\n",
       "      <td>I have bought several of the Vitality canned d...</td>\n",
       "    </tr>\n",
       "    <tr>\n",
       "      <th>1</th>\n",
       "      <td>2</td>\n",
       "      <td>B00813GRG4</td>\n",
       "      <td>A1D87F6ZCVE5NK</td>\n",
       "      <td>dll pa</td>\n",
       "      <td>0</td>\n",
       "      <td>0</td>\n",
       "      <td>0</td>\n",
       "      <td>1346976000</td>\n",
       "      <td>Not as Advertised</td>\n",
       "      <td>Product arrived labeled as Jumbo Salted Peanut...</td>\n",
       "    </tr>\n",
       "    <tr>\n",
       "      <th>2</th>\n",
       "      <td>3</td>\n",
       "      <td>B000LQOCH0</td>\n",
       "      <td>ABXLMWJIXXAIN</td>\n",
       "      <td>Natalia Corres \"Natalia Corres\"</td>\n",
       "      <td>1</td>\n",
       "      <td>1</td>\n",
       "      <td>1</td>\n",
       "      <td>1219017600</td>\n",
       "      <td>\"Delight\" says it all</td>\n",
       "      <td>This is a confection that has been around a fe...</td>\n",
       "    </tr>\n",
       "  </tbody>\n",
       "</table>\n",
       "</div>"
      ],
      "text/plain": [
       "   Id   ProductId          UserId                      ProfileName  \\\n",
       "0   1  B001E4KFG0  A3SGXH7AUHU8GW                       delmartian   \n",
       "1   2  B00813GRG4  A1D87F6ZCVE5NK                           dll pa   \n",
       "2   3  B000LQOCH0   ABXLMWJIXXAIN  Natalia Corres \"Natalia Corres\"   \n",
       "\n",
       "   HelpfulnessNumerator  HelpfulnessDenominator  Score        Time  \\\n",
       "0                     1                       1      1  1303862400   \n",
       "1                     0                       0      0  1346976000   \n",
       "2                     1                       1      1  1219017600   \n",
       "\n",
       "                 Summary                                               Text  \n",
       "0  Good Quality Dog Food  I have bought several of the Vitality canned d...  \n",
       "1      Not as Advertised  Product arrived labeled as Jumbo Salted Peanut...  \n",
       "2  \"Delight\" says it all  This is a confection that has been around a fe...  "
      ]
     },
     "execution_count": 4,
     "metadata": {},
     "output_type": "execute_result"
    }
   ],
   "source": [
    "\n",
    "# using the SQLite Table to read data.\n",
    "con = sqlite3.connect('D:/Machine Learning Notes/Python Notebook/Case Study/Amazon Fine Food Reviews Analysis/database.sqlite') \n",
    "#filtering only positive and negative reviews i.e. \n",
    "# not taking into consideration those reviews with Score=3\n",
    "filtered_data = pd.read_sql_query(\"\"\" SELECT * FROM Reviews WHERE Score != 3 limit 10000\"\"\", con) \n",
    "\n",
    "\n",
    "# Give reviews with Score>3 a positive rating, and reviews with a score<3 a negative rating.\n",
    "def partition(x):\n",
    "    if x < 3:\n",
    "        return 0\n",
    "    return 1\n",
    "\n",
    "#changing reviews with score less than 3 to be positive and vice-versa\n",
    "actualScore = filtered_data['Score']\n",
    "positiveNegative = actualScore.map(partition) \n",
    "filtered_data['Score'] = positiveNegative\n",
    "print(\"Number of data points in our data\", filtered_data.shape)\n",
    "filtered_data.head(3)"
   ]
  },
  {
   "cell_type": "markdown",
   "metadata": {
    "_uuid": "e3294ba1f15d40db131b3c88b4960de88be54ae1",
    "colab_type": "text",
    "id": "TAorlSsoV_TS"
   },
   "source": [
    "#  Exploratory Data Analysis\n",
    "\n",
    "## [7.1.2] Data Cleaning: Deduplication\n",
    "\n",
    "It is observed (as shown in the table below) that the reviews data had many duplicate entries. Hence it was necessary to remove duplicates in order to get unbiased results for the analysis of the data.  Following is an example:"
   ]
  },
  {
   "cell_type": "code",
   "execution_count": 5,
   "metadata": {
    "_uuid": "e5064670e883f2ebbb832097c9c6e9facbfb5f6b",
    "colab": {
     "base_uri": "https://localhost:8080/",
     "height": 459
    },
    "colab_type": "code",
    "id": "YW5CDdAkV_TU",
    "outputId": "2458f069-4d0e-4e5d-c71c-b39ce89d94b1",
    "scrolled": false
   },
   "outputs": [
    {
     "data": {
      "text/html": [
       "<div>\n",
       "<style scoped>\n",
       "    .dataframe tbody tr th:only-of-type {\n",
       "        vertical-align: middle;\n",
       "    }\n",
       "\n",
       "    .dataframe tbody tr th {\n",
       "        vertical-align: top;\n",
       "    }\n",
       "\n",
       "    .dataframe thead th {\n",
       "        text-align: right;\n",
       "    }\n",
       "</style>\n",
       "<table border=\"1\" class=\"dataframe\">\n",
       "  <thead>\n",
       "    <tr style=\"text-align: right;\">\n",
       "      <th></th>\n",
       "      <th>Id</th>\n",
       "      <th>ProductId</th>\n",
       "      <th>UserId</th>\n",
       "      <th>ProfileName</th>\n",
       "      <th>HelpfulnessNumerator</th>\n",
       "      <th>HelpfulnessDenominator</th>\n",
       "      <th>Score</th>\n",
       "      <th>Time</th>\n",
       "      <th>Summary</th>\n",
       "      <th>Text</th>\n",
       "    </tr>\n",
       "  </thead>\n",
       "  <tbody>\n",
       "    <tr>\n",
       "      <th>0</th>\n",
       "      <td>78445</td>\n",
       "      <td>B000HDL1RQ</td>\n",
       "      <td>AR5J8UI46CURR</td>\n",
       "      <td>Geetha Krishnan</td>\n",
       "      <td>2</td>\n",
       "      <td>2</td>\n",
       "      <td>5</td>\n",
       "      <td>1199577600</td>\n",
       "      <td>LOACKER QUADRATINI VANILLA WAFERS</td>\n",
       "      <td>DELICIOUS WAFERS. I FIND THAT EUROPEAN WAFERS ...</td>\n",
       "    </tr>\n",
       "    <tr>\n",
       "      <th>1</th>\n",
       "      <td>138317</td>\n",
       "      <td>B000HDOPYC</td>\n",
       "      <td>AR5J8UI46CURR</td>\n",
       "      <td>Geetha Krishnan</td>\n",
       "      <td>2</td>\n",
       "      <td>2</td>\n",
       "      <td>5</td>\n",
       "      <td>1199577600</td>\n",
       "      <td>LOACKER QUADRATINI VANILLA WAFERS</td>\n",
       "      <td>DELICIOUS WAFERS. I FIND THAT EUROPEAN WAFERS ...</td>\n",
       "    </tr>\n",
       "    <tr>\n",
       "      <th>2</th>\n",
       "      <td>138277</td>\n",
       "      <td>B000HDOPYM</td>\n",
       "      <td>AR5J8UI46CURR</td>\n",
       "      <td>Geetha Krishnan</td>\n",
       "      <td>2</td>\n",
       "      <td>2</td>\n",
       "      <td>5</td>\n",
       "      <td>1199577600</td>\n",
       "      <td>LOACKER QUADRATINI VANILLA WAFERS</td>\n",
       "      <td>DELICIOUS WAFERS. I FIND THAT EUROPEAN WAFERS ...</td>\n",
       "    </tr>\n",
       "    <tr>\n",
       "      <th>3</th>\n",
       "      <td>73791</td>\n",
       "      <td>B000HDOPZG</td>\n",
       "      <td>AR5J8UI46CURR</td>\n",
       "      <td>Geetha Krishnan</td>\n",
       "      <td>2</td>\n",
       "      <td>2</td>\n",
       "      <td>5</td>\n",
       "      <td>1199577600</td>\n",
       "      <td>LOACKER QUADRATINI VANILLA WAFERS</td>\n",
       "      <td>DELICIOUS WAFERS. I FIND THAT EUROPEAN WAFERS ...</td>\n",
       "    </tr>\n",
       "    <tr>\n",
       "      <th>4</th>\n",
       "      <td>155049</td>\n",
       "      <td>B000PAQ75C</td>\n",
       "      <td>AR5J8UI46CURR</td>\n",
       "      <td>Geetha Krishnan</td>\n",
       "      <td>2</td>\n",
       "      <td>2</td>\n",
       "      <td>5</td>\n",
       "      <td>1199577600</td>\n",
       "      <td>LOACKER QUADRATINI VANILLA WAFERS</td>\n",
       "      <td>DELICIOUS WAFERS. I FIND THAT EUROPEAN WAFERS ...</td>\n",
       "    </tr>\n",
       "  </tbody>\n",
       "</table>\n",
       "</div>"
      ],
      "text/plain": [
       "       Id   ProductId         UserId      ProfileName  HelpfulnessNumerator  \\\n",
       "0   78445  B000HDL1RQ  AR5J8UI46CURR  Geetha Krishnan                     2   \n",
       "1  138317  B000HDOPYC  AR5J8UI46CURR  Geetha Krishnan                     2   \n",
       "2  138277  B000HDOPYM  AR5J8UI46CURR  Geetha Krishnan                     2   \n",
       "3   73791  B000HDOPZG  AR5J8UI46CURR  Geetha Krishnan                     2   \n",
       "4  155049  B000PAQ75C  AR5J8UI46CURR  Geetha Krishnan                     2   \n",
       "\n",
       "   HelpfulnessDenominator  Score        Time  \\\n",
       "0                       2      5  1199577600   \n",
       "1                       2      5  1199577600   \n",
       "2                       2      5  1199577600   \n",
       "3                       2      5  1199577600   \n",
       "4                       2      5  1199577600   \n",
       "\n",
       "                             Summary  \\\n",
       "0  LOACKER QUADRATINI VANILLA WAFERS   \n",
       "1  LOACKER QUADRATINI VANILLA WAFERS   \n",
       "2  LOACKER QUADRATINI VANILLA WAFERS   \n",
       "3  LOACKER QUADRATINI VANILLA WAFERS   \n",
       "4  LOACKER QUADRATINI VANILLA WAFERS   \n",
       "\n",
       "                                                Text  \n",
       "0  DELICIOUS WAFERS. I FIND THAT EUROPEAN WAFERS ...  \n",
       "1  DELICIOUS WAFERS. I FIND THAT EUROPEAN WAFERS ...  \n",
       "2  DELICIOUS WAFERS. I FIND THAT EUROPEAN WAFERS ...  \n",
       "3  DELICIOUS WAFERS. I FIND THAT EUROPEAN WAFERS ...  \n",
       "4  DELICIOUS WAFERS. I FIND THAT EUROPEAN WAFERS ...  "
      ]
     },
     "execution_count": 5,
     "metadata": {},
     "output_type": "execute_result"
    }
   ],
   "source": [
    "display= pd.read_sql_query(\"\"\"\n",
    "SELECT *\n",
    "FROM Reviews\n",
    "WHERE Score != 3 AND UserId=\"AR5J8UI46CURR\"\n",
    "ORDER BY ProductID\n",
    "\"\"\", con)\n",
    "display.head()"
   ]
  },
  {
   "cell_type": "markdown",
   "metadata": {
    "_uuid": "a2d54dffb4ac54c19d819468bf9b59a127af6170",
    "colab_type": "text",
    "id": "DRj9NEppV_TZ"
   },
   "source": [
    "As can be seen above the same user has multiple reviews of the with the same values for HelpfulnessNumerator, HelpfulnessDenominator, Score, Time, Summary and Text  and on doing analysis it was found that <br>\n",
    "<br> \n",
    "ProductId=B000HDOPZG was Loacker Quadratini Vanilla Wafer Cookies, 8.82-Ounce Packages (Pack of 8)<br>\n",
    "<br> \n",
    "ProductId=B000HDL1RQ was Loacker Quadratini Lemon Wafer Cookies, 8.82-Ounce Packages (Pack of 8) and so on<br>\n",
    "\n",
    "It was inferred after analysis that reviews with same parameters other than ProductId belonged to the same product just having different flavour or quantity. Hence in order to reduce redundancy it was decided to eliminate the rows having same parameters.<br>\n",
    "\n",
    "The method used for the same was that we first sort the data according to ProductId and then just keep the first similar product review and delelte the others. for eg. in the above just the review for ProductId=B000HDL1RQ remains. This method ensures that there is only one representative for each product and deduplication without sorting would lead to possibility of different representatives still existing for the same product."
   ]
  },
  {
   "cell_type": "code",
   "execution_count": 6,
   "metadata": {
    "_uuid": "59b8a6d75b988eab00ee312dcfc20699d17fa0ac",
    "colab": {},
    "colab_type": "code",
    "id": "lrGHW0ROV_Tc"
   },
   "outputs": [],
   "source": [
    "#Sorting data according to ProductId in ascending order\n",
    "sorted_data=filtered_data.sort_values('ProductId', axis=0, ascending=True, inplace=False, kind='quicksort', na_position='last')"
   ]
  },
  {
   "cell_type": "code",
   "execution_count": 7,
   "metadata": {
    "_uuid": "a8771eba5762627f280093e5957bc917ff952140",
    "colab": {
     "base_uri": "https://localhost:8080/",
     "height": 34
    },
    "colab_type": "code",
    "id": "xuN-MfwjV_Th",
    "outputId": "0d24088e-93c3-4a56-96b4-dad23a0fb152"
   },
   "outputs": [
    {
     "data": {
      "text/plain": [
       "(9564, 10)"
      ]
     },
     "execution_count": 7,
     "metadata": {},
     "output_type": "execute_result"
    }
   ],
   "source": [
    "#Deduplication of entries\n",
    "final=sorted_data.drop_duplicates(subset={\"UserId\",\"ProfileName\",\"Time\",\"Text\"}, keep='first', inplace=False)\n",
    "final.shape"
   ]
  },
  {
   "cell_type": "code",
   "execution_count": 8,
   "metadata": {
    "_uuid": "68203a462a3de06ff564e64f72ff70138083a98f",
    "colab": {
     "base_uri": "https://localhost:8080/",
     "height": 34
    },
    "colab_type": "code",
    "id": "yZmtwvl4V_Tk",
    "outputId": "76fbddb4-17b5-4b61-c5d5-7b41e491be39"
   },
   "outputs": [
    {
     "data": {
      "text/plain": [
       "95.64"
      ]
     },
     "execution_count": 8,
     "metadata": {},
     "output_type": "execute_result"
    }
   ],
   "source": [
    "#Checking to see how much % of data still remains\n",
    "(final['Id'].size*1.0)/(filtered_data['Id'].size*1.0)*100"
   ]
  },
  {
   "cell_type": "markdown",
   "metadata": {
    "_uuid": "f6d9a7732545f552da632b79b237371e562e85e1",
    "colab_type": "text",
    "id": "3admedmVV_To"
   },
   "source": [
    "<b>Observation:-</b> It was also seen that in two rows given below the value of HelpfulnessNumerator is greater than HelpfulnessDenominator which is not practically possible hence these two rows too are removed from calcualtions"
   ]
  },
  {
   "cell_type": "code",
   "execution_count": 9,
   "metadata": {
    "_uuid": "fbb895fe22058897a8541da1763dd4d5b6faa29b",
    "colab": {
     "base_uri": "https://localhost:8080/",
     "height": 179
    },
    "colab_type": "code",
    "id": "HC6p_Ly4V_Tp",
    "outputId": "4c2d54f3-40d7-47a3-bb85-d1766a786aef"
   },
   "outputs": [
    {
     "data": {
      "text/html": [
       "<div>\n",
       "<style scoped>\n",
       "    .dataframe tbody tr th:only-of-type {\n",
       "        vertical-align: middle;\n",
       "    }\n",
       "\n",
       "    .dataframe tbody tr th {\n",
       "        vertical-align: top;\n",
       "    }\n",
       "\n",
       "    .dataframe thead th {\n",
       "        text-align: right;\n",
       "    }\n",
       "</style>\n",
       "<table border=\"1\" class=\"dataframe\">\n",
       "  <thead>\n",
       "    <tr style=\"text-align: right;\">\n",
       "      <th></th>\n",
       "      <th>Id</th>\n",
       "      <th>ProductId</th>\n",
       "      <th>UserId</th>\n",
       "      <th>ProfileName</th>\n",
       "      <th>HelpfulnessNumerator</th>\n",
       "      <th>HelpfulnessDenominator</th>\n",
       "      <th>Score</th>\n",
       "      <th>Time</th>\n",
       "      <th>Summary</th>\n",
       "      <th>Text</th>\n",
       "    </tr>\n",
       "  </thead>\n",
       "  <tbody>\n",
       "    <tr>\n",
       "      <th>0</th>\n",
       "      <td>64422</td>\n",
       "      <td>B000MIDROQ</td>\n",
       "      <td>A161DK06JJMCYF</td>\n",
       "      <td>J. E. Stephens \"Jeanne\"</td>\n",
       "      <td>3</td>\n",
       "      <td>1</td>\n",
       "      <td>5</td>\n",
       "      <td>1224892800</td>\n",
       "      <td>Bought This for My Son at College</td>\n",
       "      <td>My son loves spaghetti so I didn't hesitate or...</td>\n",
       "    </tr>\n",
       "    <tr>\n",
       "      <th>1</th>\n",
       "      <td>44737</td>\n",
       "      <td>B001EQ55RW</td>\n",
       "      <td>A2V0I904FH7ABY</td>\n",
       "      <td>Ram</td>\n",
       "      <td>3</td>\n",
       "      <td>2</td>\n",
       "      <td>4</td>\n",
       "      <td>1212883200</td>\n",
       "      <td>Pure cocoa taste with crunchy almonds inside</td>\n",
       "      <td>It was almost a 'love at first bite' - the per...</td>\n",
       "    </tr>\n",
       "  </tbody>\n",
       "</table>\n",
       "</div>"
      ],
      "text/plain": [
       "      Id   ProductId          UserId              ProfileName  \\\n",
       "0  64422  B000MIDROQ  A161DK06JJMCYF  J. E. Stephens \"Jeanne\"   \n",
       "1  44737  B001EQ55RW  A2V0I904FH7ABY                      Ram   \n",
       "\n",
       "   HelpfulnessNumerator  HelpfulnessDenominator  Score        Time  \\\n",
       "0                     3                       1      5  1224892800   \n",
       "1                     3                       2      4  1212883200   \n",
       "\n",
       "                                        Summary  \\\n",
       "0             Bought This for My Son at College   \n",
       "1  Pure cocoa taste with crunchy almonds inside   \n",
       "\n",
       "                                                Text  \n",
       "0  My son loves spaghetti so I didn't hesitate or...  \n",
       "1  It was almost a 'love at first bite' - the per...  "
      ]
     },
     "execution_count": 9,
     "metadata": {},
     "output_type": "execute_result"
    }
   ],
   "source": [
    "display= pd.read_sql_query(\"\"\"\n",
    "SELECT *\n",
    "FROM Reviews\n",
    "WHERE Score != 3 AND Id=44737 OR Id=64422\n",
    "ORDER BY ProductID\n",
    "\"\"\", con)\n",
    "\n",
    "display.head()"
   ]
  },
  {
   "cell_type": "code",
   "execution_count": 10,
   "metadata": {
    "_uuid": "5f58f60797681c00133e27dcc32cf1cea9ca8590",
    "colab": {},
    "colab_type": "code",
    "id": "-g8VTkS-V_Tu"
   },
   "outputs": [],
   "source": [
    "final=final[final.HelpfulnessNumerator<=final.HelpfulnessDenominator]"
   ]
  },
  {
   "cell_type": "code",
   "execution_count": 11,
   "metadata": {
    "_uuid": "5dde3b7b3ee22835a7be8ec3eed71eadc3b217a9",
    "colab": {
     "base_uri": "https://localhost:8080/",
     "height": 85
    },
    "colab_type": "code",
    "id": "CaWypd_zV_Tz",
    "outputId": "dfb755ab-3190-4458-c948-7730d90ff395"
   },
   "outputs": [
    {
     "name": "stdout",
     "output_type": "stream",
     "text": [
      "(9564, 10)\n"
     ]
    },
    {
     "data": {
      "text/plain": [
       "1    7976\n",
       "0    1588\n",
       "Name: Score, dtype: int64"
      ]
     },
     "execution_count": 11,
     "metadata": {},
     "output_type": "execute_result"
    }
   ],
   "source": [
    "#Before starting the next phase of preprocessing lets see the number of entries left\n",
    "print(final.shape)\n",
    "\n",
    "#How many positive and negative reviews are present in our dataset?\n",
    "final['Score'].value_counts()"
   ]
  },
  {
   "cell_type": "markdown",
   "metadata": {
    "_uuid": "a0677a647ee746ba6bd5824173dcb846e2492095",
    "colab_type": "text",
    "id": "F2VNZKyrV_T4"
   },
   "source": [
    "## 7.2.3  Text Preprocessing: Stemming, stop-word removal and Lemmatization.\n",
    "\n",
    "Now that we have finished deduplication our data requires some preprocessing before we go on further with analysis and making the prediction model.\n",
    "\n",
    "Hence in the Preprocessing phase we do the following in the order below:-\n",
    "\n",
    "1. Begin by removing the html tags\n",
    "2. Remove any punctuations or limited set of special characters like , or . or # etc.\n",
    "3. Check if the word is made up of english letters and is not alpha-numeric\n",
    "4. Check to see if the length of the word is greater than 2 (as it was researched that there is no adjective in 2-letters)\n",
    "5. Convert the word to lowercase\n",
    "6. Remove Stopwords\n",
    "7. Finally Snowball Stemming the word (it was obsereved to be better than Porter Stemming)<br>\n",
    "\n",
    "After which we collect the words used to describe positive and negative reviews"
   ]
  },
  {
   "cell_type": "code",
   "execution_count": 12,
   "metadata": {
    "_uuid": "8765dc449a7d2187edbac7ead25befd2c53b5d79",
    "colab": {
     "base_uri": "https://localhost:8080/",
     "height": 71
    },
    "colab_type": "code",
    "id": "f_cAOD4XV_T6",
    "outputId": "074409ad-20de-4d80-b159-5c506bcdc225"
   },
   "outputs": [
    {
     "name": "stdout",
     "output_type": "stream",
     "text": [
      "1\n",
      "Why is this $[...] when the same product is available for $[...] here?<br />http://www.amazon.com/VICTOR-FLY-MAGNET-BAIT-REFILL/dp/B00004RBDY<br /><br />The Victor M380 and M502 traps are unreal, of course -- total fly genocide. Pretty stinky, but only right nearby.\n"
     ]
    }
   ],
   "source": [
    "# find sentences containing HTML tags\n",
    "import re\n",
    "i=0;\n",
    "for sent in final['Text'].values:\n",
    "    if (len(re.findall('<.*?>', sent))):\n",
    "        print(i)\n",
    "        print(sent)\n",
    "        break;\n",
    "    i += 1;"
   ]
  },
  {
   "cell_type": "code",
   "execution_count": 13,
   "metadata": {
    "_uuid": "d305e3a9cf4cfc6ca3afbbd337fc35741efb5be5",
    "colab": {},
    "colab_type": "code",
    "id": "bDtL1p1XV_T_"
   },
   "outputs": [],
   "source": [
    "def decontracted(phrase):\n",
    "    # specific\n",
    "    phrase = re.sub(r\"won't\", \"will not\", phrase)\n",
    "    phrase = re.sub(r\"can\\'t\", \"can not\", phrase)\n",
    "\n",
    "    # general\n",
    "    phrase = re.sub(r\"n\\'t\", \" not\", phrase)\n",
    "    phrase = re.sub(r\"\\'re\", \" are\", phrase)\n",
    "    phrase = re.sub(r\"\\'s\", \" is\", phrase)\n",
    "    phrase = re.sub(r\"\\'d\", \" would\", phrase)\n",
    "    phrase = re.sub(r\"\\'ll\", \" will\", phrase)\n",
    "    phrase = re.sub(r\"\\'t\", \" not\", phrase)\n",
    "    phrase = re.sub(r\"\\'ve\", \" have\", phrase)\n",
    "    phrase = re.sub(r\"\\'m\", \" am\", phrase)\n",
    "    return phrase"
   ]
  },
  {
   "cell_type": "code",
   "execution_count": 14,
   "metadata": {
    "_uuid": "b8e20b391870c38b38c4a534d5bcf51111af451f",
    "colab": {},
    "colab_type": "code",
    "id": "InO8g09AV_UF"
   },
   "outputs": [],
   "source": [
    "def clean_text(sentence):\n",
    "    sentence = re.sub(r\"http\\S+\", \"\", sentence)\n",
    "    sentence = BeautifulSoup(sentence, 'lxml').get_text()\n",
    "    sentence = decontracted(sentence)\n",
    "    sentence = re.sub(\"\\S*\\d\\S*\", \"\", sentence).strip()\n",
    "    sentence = re.sub('[^A-Za-z]+', ' ', sentence)\n",
    "    sentence = ' '.join(e.lower() for e in sentence.split() if e.lower())\n",
    "    return sentence.strip()\n",
    "def cleanpunc(sentence): #function to clean the word of any punctuation or special characters\n",
    "    cleaned = re.sub(r'[?|!|\\'|\"|#]',r'',sentence)\n",
    "    cleaned = re.sub(r'[.|,|)|(|\\|/]',r' ',cleaned)\n",
    "    return  cleaned"
   ]
  },
  {
   "cell_type": "code",
   "execution_count": 15,
   "metadata": {
    "_uuid": "6edb44f8049ea2a7da3231a5b57e1961644cf038",
    "colab": {
     "base_uri": "https://localhost:8080/",
     "height": 34
    },
    "colab_type": "code",
    "id": "8Iqpt-XmV_UK",
    "outputId": "a34b7873-5bd3-4eaf-c1bd-0f378a7879b2"
   },
   "outputs": [
    {
     "name": "stderr",
     "output_type": "stream",
     "text": [
      "100%|█████████████████████████████████████████████████████████████████████████████| 9564/9564 [00:29<00:00, 320.71it/s]\n"
     ]
    }
   ],
   "source": [
    "sno = nltk.stem.SnowballStemmer('english') #initialising the snowball stemmer\n",
    "\n",
    "s=''\n",
    "i=0\n",
    "str1=' '\n",
    "final_string=[]\n",
    "for sent in tqdm(final['Text'].values):\n",
    "    filtered_sentence=[]\n",
    "    #print(sent);\n",
    "    sent=clean_text(sent) # remove HTMl tags\n",
    "    for w in sent.split():\n",
    "        for cleaned_words in cleanpunc(w).split():\n",
    "            if((cleaned_words.isalpha()) & (len(cleaned_words)>2)):\n",
    "                s=(sno.stem(cleaned_words.lower())).encode('utf8')\n",
    "                filtered_sentence.append(s)\n",
    "            else:\n",
    "                continue \n",
    "    #print(filtered_sentence)\n",
    "    str1 = b\" \".join(filtered_sentence) #final string of cleaned words\n",
    "    #print(\"***********************************************************************\")\n",
    "\n",
    "    final_string.append(str1)\n",
    "    i+=1\n",
    "\n",
    "#############---- storing the data into .sqlite file ------########################\n",
    "final['CleanedText']=final_string #adding a column of CleanedText which displays the data after pre-processing of the review \n",
    "final['CleanedText']=final['CleanedText'].str.decode(\"utf-8\")\n",
    "    # store final table into an SQlLite table for future.\n",
    "conn = sqlite3.connect('final.sqlite')\n",
    "c=conn.cursor()\n",
    "conn.text_factory = str\n",
    "final.to_sql('Reviews', conn,  schema=None, if_exists='replace', \\\n",
    "             index=True, index_label=None, chunksize=None, dtype=None)\n",
    "conn.close()"
   ]
  },
  {
   "cell_type": "markdown",
   "metadata": {
    "colab_type": "text",
    "id": "kNu15f9aV_UN"
   },
   "source": [
    "# LSTM"
   ]
  },
  {
   "cell_type": "code",
   "execution_count": 16,
   "metadata": {
    "colab": {
     "base_uri": "https://localhost:8080/",
     "height": 34
    },
    "colab_type": "code",
    "id": "UjgGTCAmV_UO",
    "outputId": "71269ab0-376e-4abb-ec1a-af2f7ab4e687"
   },
   "outputs": [
    {
     "name": "stdout",
     "output_type": "stream",
     "text": [
      "(7651, 11) (1913, 11)\n"
     ]
    }
   ],
   "source": [
    "# split the data set into train and test\n",
    "from sklearn import model_selection as ms\n",
    "y=final['Score']\n",
    "dw_train,dw_test,y_train,y_test=ms.train_test_split(final, y, test_size=0.2, random_state=0)\n",
    "print(dw_train.shape,dw_test.shape)"
   ]
  },
  {
   "cell_type": "code",
   "execution_count": null,
   "metadata": {
    "colab": {},
    "colab_type": "code",
    "id": "iLuPfuiSV_US"
   },
   "outputs": [],
   "source": [
    "#using keras.preprocessing.text.Tokenizer\n",
    "from keras.preprocessing.text import Tokenizer\n",
    "tokenizer = Tokenizer(num_words= 3000)\n",
    "tokenizer.fit_on_texts(dw_train['CleanedText'])\n",
    "d_train = tokenizer.texts_to_sequences(dw_train['CleanedText'])\n",
    "d_test = tokenizer.texts_to_sequences(dw_test['CleanedText'])"
   ]
  },
  {
   "cell_type": "code",
   "execution_count": 17,
   "metadata": {
    "colab": {
     "base_uri": "https://localhost:8080/",
     "height": 34
    },
    "colab_type": "code",
    "id": "URzczbnBV_UV",
    "outputId": "6c51e97a-56ca-4643-b0d0-ca91fbdc0fb9"
   },
   "outputs": [
    {
     "name": "stderr",
     "output_type": "stream",
     "text": [
      "100%|███████████████████████████████████████████████████████████████████████████| 7651/7651 [00:00<00:00, 39259.77it/s]\n"
     ]
    }
   ],
   "source": [
    "#Creating the Vocabulary\n",
    "listAllWords=list()\n",
    "for sent in tqdm(dw_train['CleanedText'].values):\n",
    "    for w in sent.split():\n",
    "        listAllWords.append(w)"
   ]
  },
  {
   "cell_type": "code",
   "execution_count": 18,
   "metadata": {
    "_uuid": "53fee6aa4d26bfad5fa1a806f66eaff1cf1d40cb",
    "colab": {},
    "colab_type": "code",
    "id": "bYjoNUUoV_Ub"
   },
   "outputs": [],
   "source": [
    "#creating dictionary of frequency of words\n",
    "from collections import Counter\n",
    "counts = Counter(listAllWords)"
   ]
  },
  {
   "cell_type": "code",
   "execution_count": 19,
   "metadata": {
    "colab": {},
    "colab_type": "code",
    "id": "hiaaxtvgV_Uk"
   },
   "outputs": [],
   "source": [
    "#top 2000 words\n",
    "top2000_words = sorted(counts, key=counts.__getitem__)[-3000:]"
   ]
  },
  {
   "cell_type": "code",
   "execution_count": 23,
   "metadata": {},
   "outputs": [
    {
     "data": {
      "text/plain": [
       "2999"
      ]
     },
     "execution_count": 23,
     "metadata": {},
     "output_type": "execute_result"
    }
   ],
   "source": [
    "top2000_words.index(\"the\")"
   ]
  },
  {
   "cell_type": "code",
   "execution_count": 76,
   "metadata": {
    "colab": {
     "base_uri": "https://localhost:8080/",
     "height": 34
    },
    "colab_type": "code",
    "id": "agNQRc_EV_Us",
    "outputId": "598e749c-4e89-4443-d12e-7fc99cc8159e"
   },
   "outputs": [
    {
     "name": "stderr",
     "output_type": "stream",
     "text": [
      "100%|██████████| 7651/7651 [00:38<00:00, 198.47it/s]\n"
     ]
    }
   ],
   "source": [
    "#onehot encoding of training dataset using index\n",
    "X_train=list()\n",
    "for sent in tqdm(dw_train['CleanedText'].values):\n",
    "    sen_vector=list()\n",
    "    for w in sent.split():\n",
    "        if (w in top2000_words): \n",
    "            sen_vector.append(top2000_words.index(w))\n",
    "        else:\n",
    "            sen_vector.append(0)\n",
    "    X_train.append(sen_vector)"
   ]
  },
  {
   "cell_type": "code",
   "execution_count": 77,
   "metadata": {
    "colab": {
     "base_uri": "https://localhost:8080/",
     "height": 34
    },
    "colab_type": "code",
    "id": "WxAKzLuSV_Uy",
    "outputId": "df701350-1190-495e-8d16-c5c782a38a05"
   },
   "outputs": [
    {
     "name": "stderr",
     "output_type": "stream",
     "text": [
      "100%|██████████| 1913/1913 [00:09<00:00, 204.47it/s]\n"
     ]
    }
   ],
   "source": [
    "#onehot encoding of test dataset using index\n",
    "X_test=list()\n",
    "NoneType = type(None)\n",
    "for sent in tqdm(dw_test['CleanedText'].values):\n",
    "    sen_vector=list()\n",
    "    for w in sent.split():\n",
    "        if (w in top2000_words): \n",
    "            sen_vector.append(top2000_words.index(w))\n",
    "        else:\n",
    "            sen_vector.append(0)\n",
    "    X_test.append(sen_vector)"
   ]
  },
  {
   "cell_type": "code",
   "execution_count": 0,
   "metadata": {
    "colab": {},
    "colab_type": "code",
    "id": "4e63CV1AV_U2"
   },
   "outputs": [],
   "source": [
    "#def plt_dynamic(x, vy, ty, fig, ax, colors=['b']):\n",
    "    \n",
    "def plotCurve(model,history):\n",
    "  # list of epoch numbers\n",
    "  x = list(range(1,epochs+1))\n",
    "  vy = history.history['val_loss']\n",
    "  ty = history.history['loss']\n",
    "  #plt_dynamic(x, vy, ty, fig, ax)\n",
    "  fig,ax = plt.subplots(1,1)\n",
    "  ax.set_xlabel('epoch') ; ax.set_ylabel('Categorical Crossentropy Loss')\n",
    "  ax.plot(x, vy, 'b', label=\"Validation Loss\")\n",
    "  ax.plot(x, ty, 'r', label=\"Train Loss\")\n",
    "  plt.legend()\n",
    "  plt.grid()\n",
    "  fig.canvas.draw()"
   ]
  },
  {
   "cell_type": "code",
   "execution_count": 0,
   "metadata": {
    "colab": {},
    "colab_type": "code",
    "id": "UrRcMYhoV_U5"
   },
   "outputs": [],
   "source": [
    "def fitCalculate(d_trai ,d_tes, dropout, length):\n",
    "    # truncate and/or pad input sequences\n",
    "    max_review_length = 600\n",
    "    d_trai = sequence.pad_sequences(d_trai, maxlen=max_review_length)\n",
    "    d_tes = sequence.pad_sequences(d_tes, maxlen=max_review_length)\n",
    "    # create the model\n",
    "    embedding_vecor_length = 100\n",
    "    model = Sequential()\n",
    "    model.add(Embedding(length, embedding_vecor_length, input_length=max_review_length))\n",
    "    model.add(LSTM(100))\n",
    "    model.add(Dropout(dropout))\n",
    "    model.add(Dense(1, activation='sigmoid'))\n",
    "    model.compile(loss='binary_crossentropy', optimizer='adam', metrics=['accuracy'])\n",
    "    print(model.summary())\n",
    "    #Refer: https://datascience.stackexchange.com/questions/10615/number-of-parameters-in-an-lstm-model\n",
    "    history = model.fit(d_trai, y_train,\n",
    "          batch_size=batch_size,\n",
    "          epochs=epochs,\n",
    "          verbose=1,\n",
    "          validation_data=(d_tes, y_test))\n",
    "    score = model.evaluate(d_tes, y_test, verbose=0)\n",
    "    print('Test loss:', score[0])\n",
    "    print('Test accuracy:', score[1])\n",
    "    return model,history"
   ]
  },
  {
   "cell_type": "code",
   "execution_count": 0,
   "metadata": {
    "colab": {
     "base_uri": "https://localhost:8080/",
     "height": 1040
    },
    "colab_type": "code",
    "id": "EtKld9opV_U8",
    "outputId": "ab188e67-b79e-47ae-b772-eb17317213d6"
   },
   "outputs": [
    {
     "name": "stdout",
     "output_type": "stream",
     "text": [
      "_________________________________________________________________\n",
      "Layer (type)                 Output Shape              Param #   \n",
      "=================================================================\n",
      "embedding_2 (Embedding)      (None, 600, 100)          300000    \n",
      "_________________________________________________________________\n",
      "lstm_2 (LSTM)                (None, 100)               80400     \n",
      "_________________________________________________________________\n",
      "dropout_2 (Dropout)          (None, 100)               0         \n",
      "_________________________________________________________________\n",
      "dense_2 (Dense)              (None, 1)                 101       \n",
      "=================================================================\n",
      "Total params: 380,501\n",
      "Trainable params: 380,501\n",
      "Non-trainable params: 0\n",
      "_________________________________________________________________\n",
      "None\n",
      "Train on 7651 samples, validate on 1913 samples\n",
      "Epoch 1/20\n",
      "7651/7651 [==============================] - 178s 23ms/step - loss: 0.4213 - acc: 0.8371 - val_loss: 0.3116 - val_acc: 0.8709\n",
      "Epoch 2/20\n",
      "7651/7651 [==============================] - 175s 23ms/step - loss: 0.2406 - acc: 0.9043 - val_loss: 0.2789 - val_acc: 0.8897\n",
      "Epoch 3/20\n",
      "7651/7651 [==============================] - 176s 23ms/step - loss: 0.1809 - acc: 0.9306 - val_loss: 0.2905 - val_acc: 0.9007\n",
      "Epoch 4/20\n",
      "7651/7651 [==============================] - 178s 23ms/step - loss: 0.1488 - acc: 0.9473 - val_loss: 0.3138 - val_acc: 0.8970\n",
      "Epoch 5/20\n",
      "7651/7651 [==============================] - 175s 23ms/step - loss: 0.1169 - acc: 0.9584 - val_loss: 0.3223 - val_acc: 0.8949\n",
      "Epoch 6/20\n",
      "7651/7651 [==============================] - 174s 23ms/step - loss: 0.0897 - acc: 0.9686 - val_loss: 0.3667 - val_acc: 0.8991\n",
      "Epoch 7/20\n",
      "7651/7651 [==============================] - 175s 23ms/step - loss: 0.0636 - acc: 0.9782 - val_loss: 0.4035 - val_acc: 0.8944\n",
      "Epoch 8/20\n",
      "7651/7651 [==============================] - 175s 23ms/step - loss: 0.0518 - acc: 0.9835 - val_loss: 0.4033 - val_acc: 0.8881\n",
      "Epoch 9/20\n",
      "7651/7651 [==============================] - 175s 23ms/step - loss: 0.0722 - acc: 0.9752 - val_loss: 0.4455 - val_acc: 0.8975\n",
      "Epoch 10/20\n",
      "7651/7651 [==============================] - 176s 23ms/step - loss: 0.0580 - acc: 0.9813 - val_loss: 0.4732 - val_acc: 0.8944\n",
      "Epoch 11/20\n",
      "7651/7651 [==============================] - 175s 23ms/step - loss: 0.0335 - acc: 0.9897 - val_loss: 0.4657 - val_acc: 0.8944\n",
      "Epoch 12/20\n",
      "7651/7651 [==============================] - 177s 23ms/step - loss: 0.0221 - acc: 0.9946 - val_loss: 0.5052 - val_acc: 0.8892\n",
      "Epoch 13/20\n",
      "7651/7651 [==============================] - 176s 23ms/step - loss: 0.0265 - acc: 0.9915 - val_loss: 0.6142 - val_acc: 0.8881\n",
      "Epoch 14/20\n",
      "7651/7651 [==============================] - 176s 23ms/step - loss: 0.0154 - acc: 0.9954 - val_loss: 0.5892 - val_acc: 0.8887\n",
      "Epoch 15/20\n",
      "7651/7651 [==============================] - 177s 23ms/step - loss: 0.0389 - acc: 0.9872 - val_loss: 0.4784 - val_acc: 0.8756\n",
      "Epoch 16/20\n",
      "7651/7651 [==============================] - 178s 23ms/step - loss: 0.0359 - acc: 0.9885 - val_loss: 0.5256 - val_acc: 0.8808\n",
      "Epoch 17/20\n",
      "7651/7651 [==============================] - 179s 23ms/step - loss: 0.0186 - acc: 0.9954 - val_loss: 0.6481 - val_acc: 0.8840\n",
      "Epoch 18/20\n",
      "7651/7651 [==============================] - 177s 23ms/step - loss: 0.0090 - acc: 0.9979 - val_loss: 0.7257 - val_acc: 0.8792\n",
      "Epoch 19/20\n",
      "7651/7651 [==============================] - 176s 23ms/step - loss: 0.0207 - acc: 0.9942 - val_loss: 0.6623 - val_acc: 0.8860\n",
      "Epoch 20/20\n",
      "7651/7651 [==============================] - 177s 23ms/step - loss: 0.0293 - acc: 0.9906 - val_loss: 0.5896 - val_acc: 0.8709\n",
      "Test loss: 0.589611097087551\n",
      "Test accuracy: 0.8708834293869485\n"
     ]
    }
   ],
   "source": [
    "batch_size = 64\n",
    "epochs = 20\n",
    "model,history = fitCalculate(d_train ,d_test, 0.75, 3000)"
   ]
  },
  {
   "cell_type": "code",
   "execution_count": 0,
   "metadata": {
    "colab": {
     "base_uri": "https://localhost:8080/",
     "height": 283
    },
    "colab_type": "code",
    "id": "MWaqvIkdV_VA",
    "outputId": "1de10f87-1f3b-4066-8e9c-8695e1dc9b4d"
   },
   "outputs": [
    {
     "data": {
      "image/png": "[encoded data removed]",
      "text/plain": [
       "<Figure size 432x288 with 1 Axes>"
      ]
     },
     "metadata": {
      "tags": []
     },
     "output_type": "display_data"
    }
   ],
   "source": [
    "plotCurve(model,history)"
   ]
  },
  {
   "cell_type": "code",
   "execution_count": 0,
   "metadata": {
    "colab": {
     "base_uri": "https://localhost:8080/",
     "height": 1040
    },
    "colab_type": "code",
    "id": "LP5iLBMcV_VF",
    "outputId": "a3643783-59c0-4861-ccad-9c1778ed2196"
   },
   "outputs": [
    {
     "name": "stdout",
     "output_type": "stream",
     "text": [
      "_________________________________________________________________\n",
      "Layer (type)                 Output Shape              Param #   \n",
      "=================================================================\n",
      "embedding_3 (Embedding)      (None, 600, 100)          300000    \n",
      "_________________________________________________________________\n",
      "lstm_3 (LSTM)                (None, 100)               80400     \n",
      "_________________________________________________________________\n",
      "dropout_3 (Dropout)          (None, 100)               0         \n",
      "_________________________________________________________________\n",
      "dense_3 (Dense)              (None, 1)                 101       \n",
      "=================================================================\n",
      "Total params: 380,501\n",
      "Trainable params: 380,501\n",
      "Non-trainable params: 0\n",
      "_________________________________________________________________\n",
      "None\n",
      "Train on 7651 samples, validate on 1913 samples\n",
      "Epoch 1/20\n",
      "7651/7651 [==============================] - 179s 23ms/step - loss: 0.3969 - acc: 0.8442 - val_loss: 0.2761 - val_acc: 0.8787\n",
      "Epoch 2/20\n",
      "7651/7651 [==============================] - 175s 23ms/step - loss: 0.2215 - acc: 0.9120 - val_loss: 0.2624 - val_acc: 0.8944\n",
      "Epoch 3/20\n",
      "7651/7651 [==============================] - 176s 23ms/step - loss: 0.1765 - acc: 0.9353 - val_loss: 0.2739 - val_acc: 0.9028\n",
      "Epoch 4/20\n",
      "7651/7651 [==============================] - 175s 23ms/step - loss: 0.1360 - acc: 0.9506 - val_loss: 0.2905 - val_acc: 0.8923\n",
      "Epoch 5/20\n",
      "7651/7651 [==============================] - 175s 23ms/step - loss: 0.1019 - acc: 0.9648 - val_loss: 0.3492 - val_acc: 0.8996\n",
      "Epoch 6/20\n",
      "7651/7651 [==============================] - 176s 23ms/step - loss: 0.0815 - acc: 0.9714 - val_loss: 0.3609 - val_acc: 0.8735\n",
      "Epoch 7/20\n",
      "7651/7651 [==============================] - 177s 23ms/step - loss: 0.0705 - acc: 0.9750 - val_loss: 0.3974 - val_acc: 0.8934\n",
      "Epoch 8/20\n",
      "7651/7651 [==============================] - 177s 23ms/step - loss: 0.0547 - acc: 0.9822 - val_loss: 0.3936 - val_acc: 0.8782\n",
      "Epoch 9/20\n",
      "7651/7651 [==============================] - 176s 23ms/step - loss: 0.0402 - acc: 0.9871 - val_loss: 0.4691 - val_acc: 0.8907\n",
      "Epoch 10/20\n",
      "7651/7651 [==============================] - 175s 23ms/step - loss: 0.0421 - acc: 0.9861 - val_loss: 0.6186 - val_acc: 0.8955\n",
      "Epoch 11/20\n",
      "7651/7651 [==============================] - 174s 23ms/step - loss: 0.1528 - acc: 0.9399 - val_loss: 0.3512 - val_acc: 0.8934\n",
      "Epoch 12/20\n",
      "7651/7651 [==============================] - 174s 23ms/step - loss: 0.0385 - acc: 0.9890 - val_loss: 0.4860 - val_acc: 0.8934\n",
      "Epoch 13/20\n",
      "7651/7651 [==============================] - 174s 23ms/step - loss: 0.0189 - acc: 0.9954 - val_loss: 0.4701 - val_acc: 0.8887\n",
      "Epoch 14/20\n",
      "7651/7651 [==============================] - 174s 23ms/step - loss: 0.0317 - acc: 0.9894 - val_loss: 0.4249 - val_acc: 0.8907\n",
      "Epoch 15/20\n",
      "7651/7651 [==============================] - 175s 23ms/step - loss: 0.0278 - acc: 0.9919 - val_loss: 0.5530 - val_acc: 0.8902\n",
      "Epoch 16/20\n",
      "7651/7651 [==============================] - 176s 23ms/step - loss: 0.0210 - acc: 0.9940 - val_loss: 0.6054 - val_acc: 0.8855\n",
      "Epoch 17/20\n",
      "7651/7651 [==============================] - 177s 23ms/step - loss: 0.0132 - acc: 0.9967 - val_loss: 0.6696 - val_acc: 0.8834\n",
      "Epoch 18/20\n",
      "7651/7651 [==============================] - 178s 23ms/step - loss: 0.0114 - acc: 0.9973 - val_loss: 0.6552 - val_acc: 0.8855\n",
      "Epoch 19/20\n",
      "7651/7651 [==============================] - 176s 23ms/step - loss: 0.0081 - acc: 0.9982 - val_loss: 0.6682 - val_acc: 0.8824\n",
      "Epoch 20/20\n",
      "7651/7651 [==============================] - 174s 23ms/step - loss: 0.0134 - acc: 0.9969 - val_loss: 0.7921 - val_acc: 0.8792\n",
      "Test loss: 0.7920041729969212\n",
      "Test accuracy: 0.8792472558375497\n"
     ]
    }
   ],
   "source": [
    "batch_size = 64\n",
    "epochs = 20\n",
    "model1_2,history = fitCalculate(X_train ,X_test, 0.75, 3000)"
   ]
  },
  {
   "cell_type": "code",
   "execution_count": 0,
   "metadata": {
    "colab": {
     "base_uri": "https://localhost:8080/",
     "height": 283
    },
    "colab_type": "code",
    "id": "0ObmvcD3V_VK",
    "outputId": "f960e24b-d367-4652-96d2-08dbaae4c7fb"
   },
   "outputs": [
    {
     "data": {
      "image/png": "[encoded data removed]",
      "text/plain": [
       "<Figure size 432x288 with 1 Axes>"
      ]
     },
     "metadata": {
      "tags": []
     },
     "output_type": "display_data"
    }
   ],
   "source": [
    "plotCurve(model1_2,history)"
   ]
  },
  {
   "cell_type": "code",
   "execution_count": 0,
   "metadata": {
    "colab": {
     "base_uri": "https://localhost:8080/",
     "height": 1306
    },
    "colab_type": "code",
    "id": "CD7kX9Iizdeb",
    "outputId": "1247fabc-5895-46b2-f6cf-43e57da4d633"
   },
   "outputs": [
    {
     "name": "stdout",
     "output_type": "stream",
     "text": [
      "_________________________________________________________________\n",
      "Layer (type)                 Output Shape              Param #   \n",
      "=================================================================\n",
      "embedding_5 (Embedding)      (None, 600, 100)          300000    \n",
      "_________________________________________________________________\n",
      "lstm_5 (LSTM)                (None, 100)               80400     \n",
      "_________________________________________________________________\n",
      "dropout_5 (Dropout)          (None, 100)               0         \n",
      "_________________________________________________________________\n",
      "dense_5 (Dense)              (None, 1)                 101       \n",
      "=================================================================\n",
      "Total params: 380,501\n",
      "Trainable params: 380,501\n",
      "Non-trainable params: 0\n",
      "_________________________________________________________________\n",
      "None\n",
      "Train on 7651 samples, validate on 1913 samples\n",
      "Epoch 1/20\n",
      "7651/7651 [==============================] - 178s 23ms/step - loss: 0.4049 - acc: 0.8434 - val_loss: 0.2985 - val_acc: 0.8845\n",
      "Epoch 2/20\n",
      "7651/7651 [==============================] - 175s 23ms/step - loss: 0.2593 - acc: 0.8931 - val_loss: 0.2846 - val_acc: 0.8834\n",
      "Epoch 3/20\n",
      "7651/7651 [==============================] - 174s 23ms/step - loss: 0.1793 - acc: 0.9324 - val_loss: 0.2637 - val_acc: 0.8939\n",
      "Epoch 4/20\n",
      "7651/7651 [==============================] - 174s 23ms/step - loss: 0.1326 - acc: 0.9527 - val_loss: 0.2919 - val_acc: 0.8981\n",
      "Epoch 5/20\n",
      "7651/7651 [==============================] - 174s 23ms/step - loss: 0.1049 - acc: 0.9622 - val_loss: 0.3217 - val_acc: 0.8934\n",
      "Epoch 6/20\n",
      "7651/7651 [==============================] - 173s 23ms/step - loss: 0.0832 - acc: 0.9706 - val_loss: 0.3395 - val_acc: 0.8975\n",
      "Epoch 7/20\n",
      "7651/7651 [==============================] - 174s 23ms/step - loss: 0.0670 - acc: 0.9766 - val_loss: 0.4106 - val_acc: 0.8939\n",
      "Epoch 8/20\n",
      "7651/7651 [==============================] - 176s 23ms/step - loss: 0.0648 - acc: 0.9771 - val_loss: 0.4308 - val_acc: 0.8918\n",
      "Epoch 9/20\n",
      "7651/7651 [==============================] - 173s 23ms/step - loss: 0.0535 - acc: 0.9829 - val_loss: 0.4481 - val_acc: 0.8934\n",
      "Epoch 10/20\n",
      "7651/7651 [==============================] - 174s 23ms/step - loss: 0.0382 - acc: 0.9878 - val_loss: 0.4364 - val_acc: 0.8934\n",
      "Epoch 11/20\n",
      "7651/7651 [==============================] - 173s 23ms/step - loss: 0.0439 - acc: 0.9838 - val_loss: 0.5076 - val_acc: 0.8819\n",
      "Epoch 12/20\n",
      "7651/7651 [==============================] - 174s 23ms/step - loss: 0.0268 - acc: 0.9922 - val_loss: 0.5681 - val_acc: 0.8881\n",
      "Epoch 13/20\n",
      "7651/7651 [==============================] - 174s 23ms/step - loss: 0.0252 - acc: 0.9912 - val_loss: 0.5145 - val_acc: 0.8860\n",
      "Epoch 14/20\n",
      "7651/7651 [==============================] - 174s 23ms/step - loss: 0.0194 - acc: 0.9954 - val_loss: 0.6042 - val_acc: 0.8918\n",
      "Epoch 15/20\n",
      "7651/7651 [==============================] - 174s 23ms/step - loss: 0.0080 - acc: 0.9983 - val_loss: 0.6950 - val_acc: 0.8719\n",
      "Epoch 16/20\n",
      "7651/7651 [==============================] - 174s 23ms/step - loss: 0.0070 - acc: 0.9986 - val_loss: 0.6691 - val_acc: 0.8787\n",
      "Epoch 17/20\n",
      "7651/7651 [==============================] - 175s 23ms/step - loss: 0.0440 - acc: 0.9848 - val_loss: 0.4898 - val_acc: 0.8819\n",
      "Epoch 18/20\n",
      "7651/7651 [==============================] - 175s 23ms/step - loss: 0.0261 - acc: 0.9920 - val_loss: 0.5931 - val_acc: 0.8871\n",
      "Epoch 19/20\n",
      "7651/7651 [==============================] - 175s 23ms/step - loss: 0.0182 - acc: 0.9950 - val_loss: 0.6517 - val_acc: 0.8887\n",
      "Epoch 20/20\n",
      "7651/7651 [==============================] - 175s 23ms/step - loss: 0.0105 - acc: 0.9970 - val_loss: 0.6373 - val_acc: 0.8777\n",
      "Test loss: 0.6372559001728682\n",
      "Test accuracy: 0.8776790383780619\n"
     ]
    },
    {
     "data": {
      "image/png": "[encoded data removed]",
      "text/plain": [
       "<Figure size 432x288 with 1 Axes>"
      ]
     },
     "metadata": {
      "tags": []
     },
     "output_type": "display_data"
    }
   ],
   "source": [
    "model1_3,history = fitCalculate(X_train ,X_test, 0.5, 3000)\n",
    "plotCurve(model1_3,history)"
   ]
  },
  {
   "cell_type": "markdown",
   "metadata": {
    "colab_type": "text",
    "id": "u51aPz2kV_VN"
   },
   "source": [
    "## Model 2"
   ]
  },
  {
   "cell_type": "code",
   "execution_count": 0,
   "metadata": {
    "colab": {},
    "colab_type": "code",
    "id": "7jeN0HSrV_VO"
   },
   "outputs": [],
   "source": [
    "def fitCalculate(d_trai ,d_tes, dropout, length):\n",
    "    # truncate and/or pad input sequences\n",
    "    max_review_length = 600\n",
    "    d_trai = sequence.pad_sequences(d_trai, maxlen=max_review_length)\n",
    "    d_tes = sequence.pad_sequences(d_tes, maxlen=max_review_length)\n",
    "    # create the model\n",
    "    embedding_vecor_length = 100\n",
    "    model2 = Sequential()\n",
    "    model2.add(Embedding(length, embedding_vecor_length, input_length=max_review_length))\n",
    "    model2.add(LSTM(100, return_sequences=True))\n",
    "    model2.add(Dropout(dropout))\n",
    "    model2.add(LSTM(100))\n",
    "    model2.add(Dropout(dropout))\n",
    "    model2.add(Dense(1, activation='sigmoid'))\n",
    "    model2.compile(loss='binary_crossentropy', optimizer='adam', metrics=['accuracy'])\n",
    "    print(model2.summary())\n",
    "    #Refer: https://datascience.stackexchange.com/questions/10615/number-of-parameters-in-an-lstm-model\n",
    "    history = model2.fit(d_trai, y_train,\n",
    "          batch_size=batch_size,\n",
    "          epochs=epochs,\n",
    "          verbose=1,\n",
    "          validation_data=(d_tes, y_test))\n",
    "    score = model2.evaluate(d_tes, y_test, verbose=0)\n",
    "    print('Test loss:', score[0])\n",
    "    print('Test accuracy:', score[1])\n",
    "    return model2,history"
   ]
  },
  {
   "cell_type": "code",
   "execution_count": 86,
   "metadata": {
    "colab": {
     "base_uri": "https://localhost:8080/",
     "height": 1354
    },
    "colab_type": "code",
    "id": "b_jbPZkjV_Va",
    "outputId": "77a017c9-40f8-4bd9-a19d-1a226ca6091c"
   },
   "outputs": [
    {
     "name": "stdout",
     "output_type": "stream",
     "text": [
      "_________________________________________________________________\n",
      "Layer (type)                 Output Shape              Param #   \n",
      "=================================================================\n",
      "embedding_10 (Embedding)     (None, 600, 100)          300000    \n",
      "_________________________________________________________________\n",
      "lstm_14 (LSTM)               (None, 600, 100)          80400     \n",
      "_________________________________________________________________\n",
      "dropout_14 (Dropout)         (None, 600, 100)          0         \n",
      "_________________________________________________________________\n",
      "lstm_15 (LSTM)               (None, 100)               80400     \n",
      "_________________________________________________________________\n",
      "dropout_15 (Dropout)         (None, 100)               0         \n",
      "_________________________________________________________________\n",
      "dense_10 (Dense)             (None, 1)                 101       \n",
      "=================================================================\n",
      "Total params: 460,901\n",
      "Trainable params: 460,901\n",
      "Non-trainable params: 0\n",
      "_________________________________________________________________\n",
      "None\n",
      "Train on 7651 samples, validate on 1913 samples\n",
      "Epoch 1/20\n",
      "7651/7651 [==============================] - 361s 47ms/step - loss: 0.3964 - acc: 0.8468 - val_loss: 0.2772 - val_acc: 0.8871\n",
      "Epoch 2/20\n",
      "7651/7651 [==============================] - 358s 47ms/step - loss: 0.2322 - acc: 0.9096 - val_loss: 0.2692 - val_acc: 0.9007\n",
      "Epoch 3/20\n",
      "7651/7651 [==============================] - 354s 46ms/step - loss: 0.1710 - acc: 0.9358 - val_loss: 0.2671 - val_acc: 0.8981\n",
      "Epoch 4/20\n",
      "7651/7651 [==============================] - 362s 47ms/step - loss: 0.1251 - acc: 0.9592 - val_loss: 0.3199 - val_acc: 0.8887\n",
      "Epoch 5/20\n",
      "7651/7651 [==============================] - 364s 48ms/step - loss: 0.0952 - acc: 0.9667 - val_loss: 0.3221 - val_acc: 0.8887\n",
      "Epoch 6/20\n",
      "7651/7651 [==============================] - 363s 47ms/step - loss: 0.0743 - acc: 0.9782 - val_loss: 0.4278 - val_acc: 0.8887\n",
      "Epoch 7/20\n",
      "7651/7651 [==============================] - 355s 46ms/step - loss: 0.0738 - acc: 0.9749 - val_loss: 0.3818 - val_acc: 0.8892\n",
      "Epoch 8/20\n",
      "7651/7651 [==============================] - 356s 47ms/step - loss: 0.0460 - acc: 0.9863 - val_loss: 0.4414 - val_acc: 0.8860\n",
      "Epoch 9/20\n",
      "7651/7651 [==============================] - 365s 48ms/step - loss: 0.0357 - acc: 0.9892 - val_loss: 0.5018 - val_acc: 0.8866\n",
      "Epoch 10/20\n",
      "7651/7651 [==============================] - 356s 46ms/step - loss: 0.0231 - acc: 0.9937 - val_loss: 0.5190 - val_acc: 0.8923\n",
      "Epoch 11/20\n",
      "7651/7651 [==============================] - 354s 46ms/step - loss: 0.0165 - acc: 0.9948 - val_loss: 0.6453 - val_acc: 0.8913\n",
      "Epoch 12/20\n",
      "7651/7651 [==============================] - 351s 46ms/step - loss: 0.0136 - acc: 0.9954 - val_loss: 0.6167 - val_acc: 0.8881\n",
      "Epoch 13/20\n",
      "7651/7651 [==============================] - 352s 46ms/step - loss: 0.0164 - acc: 0.9948 - val_loss: 0.6312 - val_acc: 0.8907\n",
      "Epoch 14/20\n",
      "7651/7651 [==============================] - 359s 47ms/step - loss: 0.0216 - acc: 0.9946 - val_loss: 0.5485 - val_acc: 0.8866\n",
      "Epoch 15/20\n",
      "7651/7651 [==============================] - 362s 47ms/step - loss: 0.0391 - acc: 0.9875 - val_loss: 0.6279 - val_acc: 0.8897\n",
      "Epoch 16/20\n",
      "7651/7651 [==============================] - 363s 47ms/step - loss: 0.0154 - acc: 0.9953 - val_loss: 0.6270 - val_acc: 0.8777\n",
      "Epoch 17/20\n",
      "7651/7651 [==============================] - 363s 47ms/step - loss: 0.0234 - acc: 0.9925 - val_loss: 0.5933 - val_acc: 0.8850\n",
      "Epoch 18/20\n",
      "7651/7651 [==============================] - 359s 47ms/step - loss: 0.0132 - acc: 0.9958 - val_loss: 0.6483 - val_acc: 0.8829\n",
      "Epoch 19/20\n",
      "7651/7651 [==============================] - 355s 46ms/step - loss: 0.0087 - acc: 0.9976 - val_loss: 0.7366 - val_acc: 0.8881\n",
      "Epoch 20/20\n",
      "7651/7651 [==============================] - 354s 46ms/step - loss: 0.0039 - acc: 0.9993 - val_loss: 0.8537 - val_acc: 0.8907\n",
      "Test loss: 0.8538498598371447\n",
      "Test accuracy: 0.8907475172071262\n"
     ]
    },
    {
     "data": {
      "image/png": "[encoded data removed]",
      "text/plain": [
       "<Figure size 432x288 with 1 Axes>"
      ]
     },
     "metadata": {
      "tags": []
     },
     "output_type": "display_data"
    }
   ],
   "source": [
    "model2_1,history = fitCalculate(X_train ,X_test, 0.75, 3000)\n",
    "plotCurve(model2_1,history)"
   ]
  },
  {
   "cell_type": "code",
   "execution_count": 87,
   "metadata": {
    "colab": {
     "base_uri": "https://localhost:8080/",
     "height": 1354
    },
    "colab_type": "code",
    "id": "G2EgkJhE1IiR",
    "outputId": "acc6d6de-9347-4aa7-ffbd-b3c7bbdeda69"
   },
   "outputs": [
    {
     "name": "stdout",
     "output_type": "stream",
     "text": [
      "_________________________________________________________________\n",
      "Layer (type)                 Output Shape              Param #   \n",
      "=================================================================\n",
      "embedding_11 (Embedding)     (None, 600, 100)          300000    \n",
      "_________________________________________________________________\n",
      "lstm_16 (LSTM)               (None, 600, 100)          80400     \n",
      "_________________________________________________________________\n",
      "dropout_16 (Dropout)         (None, 600, 100)          0         \n",
      "_________________________________________________________________\n",
      "lstm_17 (LSTM)               (None, 100)               80400     \n",
      "_________________________________________________________________\n",
      "dropout_17 (Dropout)         (None, 100)               0         \n",
      "_________________________________________________________________\n",
      "dense_11 (Dense)             (None, 1)                 101       \n",
      "=================================================================\n",
      "Total params: 460,901\n",
      "Trainable params: 460,901\n",
      "Non-trainable params: 0\n",
      "_________________________________________________________________\n",
      "None\n",
      "Train on 7651 samples, validate on 1913 samples\n",
      "Epoch 1/20\n",
      "7651/7651 [==============================] - 357s 47ms/step - loss: 0.3846 - acc: 0.8492 - val_loss: 0.2941 - val_acc: 0.8850\n",
      "Epoch 2/20\n",
      "7651/7651 [==============================] - 353s 46ms/step - loss: 0.2260 - acc: 0.9102 - val_loss: 0.2646 - val_acc: 0.8923\n",
      "Epoch 3/20\n",
      "7651/7651 [==============================] - 353s 46ms/step - loss: 0.1608 - acc: 0.9384 - val_loss: 0.2696 - val_acc: 0.8944\n",
      "Epoch 4/20\n",
      "7651/7651 [==============================] - 356s 47ms/step - loss: 0.1199 - acc: 0.9571 - val_loss: 0.3098 - val_acc: 0.8881\n",
      "Epoch 5/20\n",
      "7651/7651 [==============================] - 361s 47ms/step - loss: 0.0904 - acc: 0.9661 - val_loss: 0.3558 - val_acc: 0.8934\n",
      "Epoch 6/20\n",
      "7651/7651 [==============================] - 360s 47ms/step - loss: 0.0628 - acc: 0.9795 - val_loss: 0.3719 - val_acc: 0.8975\n",
      "Epoch 7/20\n",
      "7651/7651 [==============================] - 361s 47ms/step - loss: 0.0497 - acc: 0.9838 - val_loss: 0.4644 - val_acc: 0.8876\n",
      "Epoch 8/20\n",
      "7651/7651 [==============================] - 358s 47ms/step - loss: 0.0447 - acc: 0.9852 - val_loss: 0.5659 - val_acc: 0.8949\n",
      "Epoch 9/20\n",
      "7651/7651 [==============================] - 356s 47ms/step - loss: 0.0308 - acc: 0.9894 - val_loss: 0.5214 - val_acc: 0.8855\n",
      "Epoch 10/20\n",
      "7651/7651 [==============================] - 354s 46ms/step - loss: 0.0261 - acc: 0.9922 - val_loss: 0.6099 - val_acc: 0.8907\n",
      "Epoch 11/20\n",
      "7651/7651 [==============================] - 355s 46ms/step - loss: 0.0201 - acc: 0.9931 - val_loss: 0.6446 - val_acc: 0.8907\n",
      "Epoch 12/20\n",
      "7651/7651 [==============================] - 355s 46ms/step - loss: 0.0184 - acc: 0.9942 - val_loss: 0.6501 - val_acc: 0.8772\n",
      "Epoch 13/20\n",
      "7651/7651 [==============================] - 354s 46ms/step - loss: 0.0128 - acc: 0.9959 - val_loss: 0.7039 - val_acc: 0.8834\n",
      "Epoch 14/20\n",
      "7651/7651 [==============================] - 354s 46ms/step - loss: 0.0090 - acc: 0.9976 - val_loss: 0.7164 - val_acc: 0.8824\n",
      "Epoch 15/20\n",
      "7651/7651 [==============================] - 355s 46ms/step - loss: 0.0055 - acc: 0.9980 - val_loss: 0.7088 - val_acc: 0.8834\n",
      "Epoch 16/20\n",
      "7651/7651 [==============================] - 353s 46ms/step - loss: 0.0182 - acc: 0.9944 - val_loss: 0.6273 - val_acc: 0.8813\n",
      "Epoch 17/20\n",
      "7651/7651 [==============================] - 354s 46ms/step - loss: 0.0190 - acc: 0.9936 - val_loss: 0.6908 - val_acc: 0.8871\n",
      "Epoch 18/20\n",
      "7651/7651 [==============================] - 357s 47ms/step - loss: 0.0170 - acc: 0.9952 - val_loss: 0.6867 - val_acc: 0.8855\n",
      "Epoch 19/20\n",
      "7651/7651 [==============================] - 360s 47ms/step - loss: 0.0094 - acc: 0.9975 - val_loss: 0.7961 - val_acc: 0.8792\n",
      "Epoch 20/20\n",
      "7651/7651 [==============================] - 366s 48ms/step - loss: 0.0249 - acc: 0.9931 - val_loss: 0.6364 - val_acc: 0.8766\n",
      "Test loss: 0.6363846242147406\n",
      "Test accuracy: 0.8766335597913176\n"
     ]
    },
    {
     "data": {
      "image/png": "[encoded data removed]",
      "text/plain": [
       "<Figure size 432x288 with 1 Axes>"
      ]
     },
     "metadata": {
      "tags": []
     },
     "output_type": "display_data"
    }
   ],
   "source": [
    "model2_2,history = fitCalculate(X_train ,X_test, 0.5, 3000)\n",
    "plotCurve(model2_2,history)"
   ]
  },
  {
   "cell_type": "code",
   "execution_count": 88,
   "metadata": {
    "colab": {
     "base_uri": "https://localhost:8080/",
     "height": 1354
    },
    "colab_type": "code",
    "id": "nktz9zqguyRj",
    "outputId": "a4614559-695b-49ec-c9c7-8592cbb7d93f"
   },
   "outputs": [
    {
     "name": "stdout",
     "output_type": "stream",
     "text": [
      "_________________________________________________________________\n",
      "Layer (type)                 Output Shape              Param #   \n",
      "=================================================================\n",
      "embedding_12 (Embedding)     (None, 600, 100)          300000    \n",
      "_________________________________________________________________\n",
      "lstm_18 (LSTM)               (None, 600, 100)          80400     \n",
      "_________________________________________________________________\n",
      "dropout_18 (Dropout)         (None, 600, 100)          0         \n",
      "_________________________________________________________________\n",
      "lstm_19 (LSTM)               (None, 100)               80400     \n",
      "_________________________________________________________________\n",
      "dropout_19 (Dropout)         (None, 100)               0         \n",
      "_________________________________________________________________\n",
      "dense_12 (Dense)             (None, 1)                 101       \n",
      "=================================================================\n",
      "Total params: 460,901\n",
      "Trainable params: 460,901\n",
      "Non-trainable params: 0\n",
      "_________________________________________________________________\n",
      "None\n",
      "Train on 7651 samples, validate on 1913 samples\n",
      "Epoch 1/20\n",
      "7651/7651 [==============================] - 375s 49ms/step - loss: 0.3883 - acc: 0.8513 - val_loss: 0.2836 - val_acc: 0.8766\n",
      "Epoch 2/20\n",
      "7651/7651 [==============================] - 367s 48ms/step - loss: 0.2305 - acc: 0.9075 - val_loss: 0.2665 - val_acc: 0.8897\n",
      "Epoch 3/20\n",
      "7651/7651 [==============================] - 365s 48ms/step - loss: 0.1746 - acc: 0.9340 - val_loss: 0.2761 - val_acc: 0.8944\n",
      "Epoch 4/20\n",
      "7651/7651 [==============================] - 362s 47ms/step - loss: 0.1235 - acc: 0.9543 - val_loss: 0.3182 - val_acc: 0.8902\n",
      "Epoch 5/20\n",
      "7651/7651 [==============================] - 359s 47ms/step - loss: 0.0924 - acc: 0.9699 - val_loss: 0.3406 - val_acc: 0.8939\n",
      "Epoch 6/20\n",
      "7651/7651 [==============================] - 355s 46ms/step - loss: 0.0685 - acc: 0.9784 - val_loss: 0.4098 - val_acc: 0.8965\n",
      "Epoch 7/20\n",
      "7651/7651 [==============================] - 359s 47ms/step - loss: 0.0551 - acc: 0.9812 - val_loss: 0.4586 - val_acc: 0.8944\n",
      "Epoch 8/20\n",
      "7651/7651 [==============================] - 355s 46ms/step - loss: 0.0359 - acc: 0.9890 - val_loss: 0.5167 - val_acc: 0.8866\n",
      "Epoch 9/20\n",
      "7651/7651 [==============================] - 362s 47ms/step - loss: 0.0330 - acc: 0.9901 - val_loss: 0.4951 - val_acc: 0.8897\n",
      "Epoch 10/20\n",
      "7651/7651 [==============================] - 354s 46ms/step - loss: 0.0172 - acc: 0.9948 - val_loss: 0.5872 - val_acc: 0.8918\n",
      "Epoch 11/20\n",
      "7651/7651 [==============================] - 353s 46ms/step - loss: 0.0139 - acc: 0.9963 - val_loss: 0.6417 - val_acc: 0.8949\n",
      "Epoch 12/20\n",
      "7651/7651 [==============================] - 353s 46ms/step - loss: 0.0147 - acc: 0.9952 - val_loss: 0.6694 - val_acc: 0.8955\n",
      "Epoch 13/20\n",
      "7651/7651 [==============================] - 354s 46ms/step - loss: 0.0238 - acc: 0.9927 - val_loss: 0.6055 - val_acc: 0.8913\n",
      "Epoch 14/20\n",
      "7651/7651 [==============================] - 355s 46ms/step - loss: 0.0106 - acc: 0.9965 - val_loss: 0.6464 - val_acc: 0.8913\n",
      "Epoch 15/20\n",
      "7651/7651 [==============================] - 356s 46ms/step - loss: 0.0099 - acc: 0.9974 - val_loss: 0.7914 - val_acc: 0.8866\n",
      "Epoch 16/20\n",
      "7651/7651 [==============================] - 353s 46ms/step - loss: 0.0115 - acc: 0.9969 - val_loss: 0.6857 - val_acc: 0.8761\n",
      "Epoch 17/20\n",
      "7651/7651 [==============================] - 356s 46ms/step - loss: 0.0111 - acc: 0.9967 - val_loss: 0.7263 - val_acc: 0.8730\n",
      "Epoch 18/20\n",
      "7651/7651 [==============================] - 357s 47ms/step - loss: 0.0334 - acc: 0.9885 - val_loss: 0.6277 - val_acc: 0.8798\n",
      "Epoch 19/20\n",
      "7651/7651 [==============================] - 362s 47ms/step - loss: 0.0066 - acc: 0.9982 - val_loss: 0.6926 - val_acc: 0.8777\n",
      "Epoch 20/20\n",
      "7651/7651 [==============================] - 361s 47ms/step - loss: 0.0038 - acc: 0.9990 - val_loss: 0.7547 - val_acc: 0.8829\n",
      "Test loss: 0.754738587798464\n",
      "Test accuracy: 0.8829064299096877\n"
     ]
    },
    {
     "data": {
      "image/png": "[encoded data removed]",
      "text/plain": [
       "<Figure size 432x288 with 1 Axes>"
      ]
     },
     "metadata": {
      "tags": []
     },
     "output_type": "display_data"
    }
   ],
   "source": [
    "model2_3,history = fitCalculate(d_train ,d_test, 0.5, 3000)\n",
    "plotCurve(model2_3,history)"
   ]
  },
  {
   "cell_type": "markdown",
   "metadata": {
    "colab_type": "text",
    "id": "GnNHQppGV_Vg"
   },
   "source": [
    "# Conclusion"
   ]
  },
  {
   "cell_type": "code",
   "execution_count": 89,
   "metadata": {
    "colab": {
     "base_uri": "https://localhost:8080/",
     "height": 187
    },
    "colab_type": "code",
    "id": "y4ZpecVUV_Vh",
    "outputId": "4e6b6d90-3217-48bd-e35c-cb9271128ec7"
   },
   "outputs": [
    {
     "name": "stdout",
     "output_type": "stream",
     "text": [
      "+-----------+--------------------+----------------------+---------+------------+---------------+\n",
      "|   Model   |      Indexing      | Number of LSTM Layer | Dropout |  Test Loss | Test Accuracy |\n",
      "+-----------+--------------------+----------------------+---------+------------+---------------+\n",
      "| Model 1-1 | Tokenizer function |          1           |   0.75  |   0.5896   |     0.8708    |\n",
      "| Model 1-2 |  Counts of Words   |          1           |   0.75  |   0.792    |     0.8792    |\n",
      "| Model 1-3 |  Counts of Words   |          1           |   0.5   |   0.6372   |     0.8776    |\n",
      "| Model 2-1 |  Counts of Words   |          2           |   0.75  |   0.8538   |     0.8907    |\n",
      "| Model 2-2 |  Counts of Words   |          2           |   0.5   |   0.6363   |     0.8766    |\n",
      "| Model 2-3 | Tokenizer function |          2           |   0.5   |   0.7547   |     0.882     |\n",
      "+-----------+--------------------+----------------------+---------+------------+---------------+\n"
     ]
    }
   ],
   "source": [
    "from prettytable import PrettyTable\n",
    "    \n",
    "pt = PrettyTable()\n",
    "\n",
    "pt.field_names = [\"Model\", \"Indexing\",\"Number of LSTM Layer\",\"Dropout\",\" Test Loss\", \"Test Accuracy\"]\n",
    "\n",
    "pt.add_row([\"Model 1-1\", \"Tokenizer function\",1, 0.75, 0.5896, 0.8708])\n",
    "pt.add_row([\"Model 1-2\", \"Counts of Words\", 1, 0.75, 0.7920, 0.8792])\n",
    "pt.add_row([\"Model 1-3\", \"Counts of Words\", 1, 0.50, 0.6372, 0.8776])\n",
    "pt.add_row([\"Model 2-1\", \"Counts of Words\", 2, 0.75, 0.8538, 0.8907])\n",
    "pt.add_row([\"Model 2-2\", \"Counts of Words\", 2, 0.50, 0.6363, 0.8766])\n",
    "pt.add_row([\"Model 2-3\", \"Tokenizer function\",2, 0.50, 0.7547, 0.882])\n",
    "\n",
    "print(pt)"
   ]
  },
  {
   "cell_type": "markdown",
   "metadata": {
    "colab_type": "text",
    "id": "vLjrokZfV_Vk"
   },
   "source": [
    "1) The model 1 has achieved an accuracy of 0.8997 and the test loss is 0.3912 .\n",
    "\n",
    "2) The model has overfitted can be said looking at the train loss vs validation loss curve. The reason being less number of datapoints, which is one of the shortcoming of LSTM network. The model did great with 50K datapoints, but due to some reason the kernel kept collapsing after 10-11 epochs hence with 30k datapoints.\n",
    "\n",
    "3) The stacking of LSTM layers can be done by simply making *return_sequences* parameter True.\n",
    "\n",
    "4) The model with 2 LSTM-layers has certainly less test loss than that of model with 1 LSTM-layer."
   ]
  }
 ],
 "metadata": {
  "colab": {
   "collapsed_sections": [],
   "name": "Amazon Fine Food Reviews using LSTM.ipynb",
   "provenance": [],
   "version": "0.3.2"
  },
  "kernelspec": {
   "display_name": "Python 3",
   "language": "python",
   "name": "python3"
  },
  "language_info": {
   "codemirror_mode": {
    "name": "ipython",
    "version": 3
   },
   "file_extension": ".py",
   "mimetype": "text/x-python",
   "name": "python",
   "nbconvert_exporter": "python",
   "pygments_lexer": "ipython3",
   "version": "3.7.3"
  }
 },
 "nbformat": 4,
 "nbformat_minor": 1
}
